{
 "cells": [
  {
   "cell_type": "markdown",
   "metadata": {},
   "source": [
    "<h1 align=\"center\"><b>Introducción al estudio del Método de los Elementos Finitos</b></h1>\n",
    "\n",
    "<h1 align=\"center\"><b>Una aproximación al análisis estático lineal</b></h1>\n",
    "\n",
    "<h1 align=\"center\"><b>Capítulo 1: Sistemas discretos y continuos</b></h1>"
   ]
  },
  {
   "cell_type": "markdown",
   "metadata": {},
   "source": [
    "<table>\n",
    " <tr align=left><td><img align=left src=\"https://github.com/carlosalvarezh/CFD_Applied/blob/master/figs/CC-BY.png?raw=true\">\n",
    " <td>Text provided under a Creative Commons Attribution license, CC-BY. All code is made available under the FSF-approved MIT license.(c) Carlos Alberto Alvarez Henao</td>\n",
    "</table>"
   ]
  },
  {
   "cell_type": "markdown",
   "metadata": {},
   "source": [
    "*** \n",
    "\n",
    "***Docente:*** Carlos Alberto Álvarez Henao, I.C. D.Sc.\n",
    "\n",
    "***e-mail:*** carlosalvarezh@gmail.com\n",
    "\n",
    "***skype:*** carlos.alberto.alvarez.henao\n",
    "\n",
    "***Herramienta:*** [Jupyter Notebook](http://jupyter.org/)\n",
    "\n",
    "***Kernel:*** Python 3.8\n",
    "\n",
    "***MEDELLÍN - COLOMBIA***\n",
    "\n",
    "***2021/02***\n",
    "\n",
    "***"
   ]
  },
  {
   "cell_type": "markdown",
   "metadata": {},
   "source": [
    "<a id='TOC'></a>"
   ]
  },
  {
   "cell_type": "markdown",
   "metadata": {
    "toc": true
   },
   "source": [
    "<h1>Tabla de Contenidos<span class=\"tocSkip\"></span></h1>\n",
    "<div class=\"toc\"><ul class=\"toc-item\"><li><span><a href=\"#Introducción\" data-toc-modified-id=\"Introducción-1\"><span class=\"toc-item-num\">1&nbsp;&nbsp;</span>Introducción</a></span></li><li><span><a href=\"#Conceptos-básicos-del-análisis-matricial-de-estructuras-de-barras\" data-toc-modified-id=\"Conceptos-básicos-del-análisis-matricial-de-estructuras-de-barras-2\"><span class=\"toc-item-num\">2&nbsp;&nbsp;</span>Conceptos básicos del análisis matricial de estructuras de barras</a></span><ul class=\"toc-item\"><li><span><a href=\"#Descripción-del-comportamiento-de-un-único-elemento-tipo-barra\" data-toc-modified-id=\"Descripción-del-comportamiento-de-un-único-elemento-tipo-barra-2.1\"><span class=\"toc-item-num\">2.1&nbsp;&nbsp;</span>Descripción del comportamiento de un único elemento tipo barra</a></span></li><li><span><a href=\"#Descripción-del-comportamiento-de-una-estructura-compuesta-de-elementos-tipo-barra\" data-toc-modified-id=\"Descripción-del-comportamiento-de-una-estructura-compuesta-de-elementos-tipo-barra-2.2\"><span class=\"toc-item-num\">2.2&nbsp;&nbsp;</span>Descripción del comportamiento de una estructura compuesta de elementos tipo barra</a></span></li></ul></li><li><span><a href=\"#Etapas-del-análisis-matricial-de-sistemas-discretos\" data-toc-modified-id=\"Etapas-del-análisis-matricial-de-sistemas-discretos-3\"><span class=\"toc-item-num\">3&nbsp;&nbsp;</span>Etapas del análisis matricial de sistemas discretos</a></span></li><li><span><a href=\"#Matriz-de-rigidez-y-vector-de-fuerzas-globales\" data-toc-modified-id=\"Matriz-de-rigidez-y-vector-de-fuerzas-globales-4\"><span class=\"toc-item-num\">4&nbsp;&nbsp;</span>Matriz de rigidez y vector de fuerzas globales</a></span></li><li><span><a href=\"#Elementos-finitos-en-el-análisis-de-sistemas-continuos\" data-toc-modified-id=\"Elementos-finitos-en-el-análisis-de-sistemas-continuos-5\"><span class=\"toc-item-num\">5&nbsp;&nbsp;</span>Elementos finitos en el análisis de sistemas continuos</a></span></li></ul></div>"
   ]
  },
  {
   "cell_type": "markdown",
   "metadata": {},
   "source": [
    "## Introducción"
   ]
  },
  {
   "cell_type": "markdown",
   "metadata": {},
   "source": [
    "En el capítulo anterior se realizó un repaso muy general acerca de lo que es el FEM y cómo trabaja. Recordando los pasos a seguir en la resolución de un problema empleando el FEM:\n",
    "\n",
    "- ***Preprocesamiento:*** Subdivisión del dominio del problema en elementos finitos.\n",
    "\n",
    "\n",
    "- ***Formulación de los elementos:*** Desarrollo de las ecuaciones a nivel de elementos.\n",
    "\n",
    "\n",
    "- ***Ensamblaje:*** Obtención de las ecuaciones del sistema completo desde las ecuaciones a nivel de elementos.\n",
    "\n",
    "\n",
    "- ***Solución de las ecuaciones:*** Empleo de esquemas eficientes para la solución del sistema de ecuaciones lineales resultante.\n",
    "\n",
    "\n",
    "- ***Posprocesamiento:*** Determinación de las cantidades de interés, tales como tensiones / deformaciones, y obtención de la visualización de las respuestas."
   ]
  },
  {
   "cell_type": "markdown",
   "metadata": {},
   "source": [
    "<div style=\"text-align: right\"> <a href=\"#TOC\">Volver a la Tabla de Contenido</a> </div>"
   ]
  },
  {
   "cell_type": "markdown",
   "metadata": {},
   "source": [
    "## Conceptos básicos del análisis matricial de estructuras de barras"
   ]
  },
  {
   "cell_type": "markdown",
   "metadata": {},
   "source": [
    "### Descripción del comportamiento de un único elemento tipo barra"
   ]
  },
  {
   "cell_type": "markdown",
   "metadata": {},
   "source": [
    "<p float=\"center\">\n",
    "  <img src=\"https://github.com/carlosalvarezh/FEM/blob/main/images/C1_F01_BarTruss01.jpg?raw=true\" width=\"500\" />\n",
    "</p>\n",
    "\n",
    "<div style=\"text-align: right\"> Fuente: <a href=\"https://tiberiomurciagodoy.blogspot.com/2020/06/puente-pearson-por-hugo-rubio-salas.html\">tiberiomurciagody.blogspot</a> </div>\n",
    "\n",
    "Supongamos se tienen una estructura tipo cercha (como la de la foto) de donde se aisla un elemento tipo barra, con sección transversal arbitraria, y colocado a lo largo de un eje $x$, como se muestra en la [Figura 1](#Fig_1). En este capítulo asumimos que la barra es recta, su material obedece a la [ley de Hooke](https://en.wikipedia.org/wiki/Hooke%27s_law) y que solo puede soportar cargas axiales, es decir, no transmite flexión, cortante o torsión. El [módulo de Young](https://en.wikipedia.org/wiki/Young%27s_modulus) del elemento $e$ se denota por $E^{(e)}$, el área de la sección transversal por $A^{(e)}$ y su longitud por $l^{(e)}$.\n",
    "\n",
    "<a id='Fig_1'></a>\n",
    "<p float=\"center\">\n",
    "  <img src=\"https://github.com/carlosalvarezh/FEM/blob/main/images/C1_F02_BarElement03.PNG?raw=true\" width=\"500\" />\n",
    "</p>\n",
    "\n",
    "<div style=\"text-align: center\"><strong>Figura 1.</strong> Elemento tipo barra sometida a fuerzas axiales. <strong>Fuente:</strong> <a href=\"https://www.springer.com/gp/book/9781402087424\">Oñate, E. Structural Analysis with the Finite Element Method</a></div>\n",
    "\n",
    "    \n",
    "Debido a las suposiciones realizadas sobre las fuerzas en el elemento, la única fuerza interna distinta de cero es una fuerza interna axial, que es colineal con el eje a lo largo de la barra. La fuerza interna a través de cualquier sección transversal de la barra se denota por $\\mathcal{N}^{(e)}$. Se supone que la tensión axial es constante en la sección transversal y está dada por la fuerza interna dividida por el área de la sección transversal:\n",
    "    \n",
    "<a id='Ec1_1'></a>\n",
    "\\begin{equation*}\n",
    "\\sigma^{(e)}=\\frac{\\mathcal{N}^{(e)}}{A^{(e)}}\n",
    "\\label{eq:Ec1_1} \\tag{1.1}\n",
    "\\end{equation*}\n",
    "    \n",
    "Recuerde que la fuerza axial y la tensión son positivas en tensión y negativas en compresión.\n",
    "  \n",
    "Las siguientes ecuaciones gobiernan el comportamiento de la barra:\n",
    "\n",
    "    \n",
    "- ***Equilibrio del elemento:*** la sumatoria de las fuerzas nodales internas actuando en el elemento es igual a cero:\n",
    "\n",
    "<a id='Ec1_2'></a>\n",
    "\\begin{equation*}\n",
    "F_{x_1}^{(e)}+F_{x_2}^{(e)}=0\n",
    "\\label{eq:Ec1_2} \\tag{1.2}\n",
    "\\end{equation*}\n",
    "\n",
    "- ***Ley de Hooke:*** conocida también como ley [tensión - deformación elástica](https://en.wikipedia.org/wiki/Stress%E2%80%93strain_curve), que establece que la tensión (*stress*) $\\sigma^e$ es una función lineal de la deformación (*strain*) $\\varepsilon^{(e)}$\n",
    "\n",
    "<a id='Ec1_3'></a>\n",
    "\\begin{equation*}\n",
    "\\sigma^{(e)}=E^{(e)} \\varepsilon^{(e)}\n",
    "\\label{eq:Ec1_3} \\tag{1.3}\n",
    "\\end{equation*}\n",
    "\n",
    "\n",
    "- ***Compatibilidad de la deformación:*** No pueden existir vacíos o superposiciones en la estructura después de la deformación.\n",
    "\n",
    "\n",
    "También se requiere de una definición de deformación para aplicar la *ley de Hooke*. La única deformación distinta de cero es la deformación axial $\\varepsilon^{(e)}$, que se define como la relación entre el alargamiento $\\delta^{(e)}$ y la longitud original del elemento $l^{(e)}$:\n",
    "\n",
    "<a id='Ec1_4'></a>\n",
    "\\begin{equation*}\n",
    "\\varepsilon^{(e)}=\\frac{\\delta^{(e)}}{l^{(e)}}=\\frac{u_2^{(e)}-u_1^{(e)}}{l^{(e)}}\n",
    "\\label{eq:Ec1_4} \\tag{1.4}\n",
    "\\end{equation*}\n",
    "\n",
    "donde $u_1^{(e)}$ y $u_2^{(e)}$ son los desplazamientos de los extremos $1$ y $2$ de la barra.\n",
    "\n",
    "Reemplazando la ecuación [(1.4)](#Ec1_4) en la ecuación [(1.3)](#Ec1_3) para relacionar la tensión axial $\\sigma$ con la deformación $\\varepsilon$ por la *ley de Hooke*:\n",
    "\n",
    "<a id='Ec1_5'></a>\n",
    "\\begin{equation*}\n",
    "\\sigma=E\\varepsilon=E \\frac{u_2^{(e)}-u_1^{(e)}}{l^{(e)}}\n",
    "\\label{eq:Ec1_5} \\tag{1.5}\n",
    "\\end{equation*}\n",
    "\n",
    "Despejando el esfuerzo axial $\\mathcal{N}^{(e)}$ dado en la ecuación [(1.1)](#Ec1_1) para reemplazar en la ecuación [(1.5)](#Ec1_5), se llega a (suponiendo material homogeneo):\n",
    "\n",
    "<a id='Ec1_6'></a>\n",
    "\\begin{equation*}\n",
    "\\mathcal{N}^{(e)}=A^{(e)}\\sigma=(EA)^{(e)}\\frac{u_2^{(e)}-u_1^{(e)}}{l^{(e)}}\n",
    "\\label{eq:Ec1_6} \\tag{1.6}\n",
    "\\end{equation*}\n",
    "\n",
    "El equilibrio de las fuerzas axiales $R_1^{(e)}$ y $R_2^{(e)}$ que actuan en los extremos de la barra es:\n",
    "\n",
    "<a id='Ec1_7'></a>\n",
    "\\begin{equation*}\n",
    "-R_1^{(e)}=R_2^{(e)}=\\mathcal{N}=(EA)^{(e)}\\frac{u_2^{(e)}-u_1^{(e)}}{l^{(e)}}=k^{(e)} \\left( u_2^{(e)}-u_1^{(e)} \\right)\n",
    "\\label{eq:Ec1_7} \\tag{1.7}\n",
    "\\end{equation*}\n",
    "\n",
    "Reescribiendo la ecuación [(1.7)](#Ec1_7) en forma matricial\n",
    "\n",
    "<a id='Ec1_8'></a>\n",
    "\\begin{equation*}\n",
    "\\underbrace{\\begin{Bmatrix}\n",
    "R_1^{(e)}  \\\\\n",
    "R_2^{(e)}\n",
    "\\end{Bmatrix}}_{\\mathbf{F}^{(e)}}=\n",
    "\\underbrace{\\begin{bmatrix}\n",
    "k^{(e)} & -k^{(e)}  \\\\\n",
    "-k^{(e)} & k^{(e)} \\end{bmatrix}}_{\\mathbf{K}^{(e)}}\n",
    "\\underbrace{\\begin{Bmatrix}\n",
    "u_1^{(e)}  \\\\\n",
    "u_2^{(e)} \n",
    "\\end{Bmatrix}}_{\\mathbf{d}^{(e)}}\n",
    "\\label{eq:Ec1_8} \\tag{1.8}\n",
    "\\end{equation*}\n",
    "\n",
    "Podemos entonces, escribir la realación entre las fuerzas y los desplazamientos nodales  como\n",
    "\n",
    "<a id='Ec1_9'></a>\n",
    "\\begin{equation*}\n",
    "\\mathbf{F}^{(e)}=\n",
    "\\mathbf{K}^{(e)}\\mathbf{d}^{(e)}\n",
    "\\label{eq:Ec1_9} \\tag{1.9}\n",
    "\\end{equation*}\n",
    "\n",
    "donde $\\mathbf{K}^{(e)}$ es la [matriz de rigidez](https://en.wikipedia.org/wiki/Stiffness_matrix) del elemento (barra), que es función de sus parámtros geométricos, y es dada por:\n",
    "\n",
    "<a id='Ec1_10'></a>\n",
    "\\begin{equation*}\n",
    "\\mathbf{K}^{(e)}=\n",
    "\\begin{bmatrix}\n",
    "k^{(e)} & -k^{(e)}  \\\\\n",
    "-k^{(e)} & k^{(e)} \n",
    "\\end{bmatrix}=\n",
    "\\frac{A^{(e)}E^{(e)}}{l^{(e)}}\n",
    "\\begin{bmatrix}\n",
    "1 & -1  \\\\\n",
    "-1 & 1 \n",
    "\\end{bmatrix}\n",
    "\\label{eq:Ec1_10} \\tag{1.10}\n",
    "\\end{equation*}\n",
    "\n",
    "Si suponemos que sobre la barra actúa una fuerza uniformemente distribuida por unidad de longitud de intensidad $b^{(e)}$, la ecuación anterior se modifica repartiendo el efecto total de dicha fuerza en partes iguales en cada nodo de la siguiente manera:\n",
    "\n",
    "<a id='Ec1_11'></a>\n",
    "\\begin{equation*}\n",
    "\\begin{Bmatrix}\n",
    "R_1^{(e)}  \\\\\n",
    "R_2^{(e)}\n",
    "\\end{Bmatrix}=\n",
    "\\begin{bmatrix}\n",
    "k^{(e)} & -k^{(e)}  \\\\\n",
    "-k^{(e)} & k^{(e)} \\end{bmatrix}\n",
    "\\begin{Bmatrix}\n",
    "u_1^{(e)}  \\\\\n",
    "u_2^{(e)} \n",
    "\\end{Bmatrix}-\n",
    "\\frac{(bl)^{(e)}}{2}\\begin{Bmatrix}\n",
    "1  \\\\\n",
    "1\n",
    "\\end{Bmatrix}\n",
    "\\label{eq:Ec1_11} \\tag{1.11}\n",
    "\\end{equation*}\n",
    "\n",
    "donde el último término corresponde al vector de fuerzas que actúa en los nodos de la barra debido a la carga distribuida. Esta ecuación se puede escribir de forma compacta como:\n",
    "\n",
    "<a id='Ec1_12'></a>\n",
    "\\begin{equation*}\n",
    "\\mathbf{F}^{(e)}=\n",
    "\\mathbf{K}^{(e)}\\mathbf{d}^{(e)}-\\mathbf{f}^{(e)}\n",
    "\\label{eq:Ec1_12} \\tag{1.12}\n",
    "\\end{equation*}\n",
    "\n",
    "\n",
    "***Comentarios:***\n",
    "\n",
    "- Se puede generalizar el uso de la rigidez de un elemento, dada por la ecuación [(1.12)](#Ec1_12), para cualquier elemento de barra de área constante en una dimensión. Esta universalidad de las matrices de rigidez de elementos es uno de los atributos de FEM que conduce a su versatilidad. \n",
    "\n",
    "\n",
    "- Más adelante desarrollaremos matrices de elementos que se aplican a cualquier elemento de mayor dimensión (en 2D: triangular o cuadrilátero, por ejemplo) basado en la solución débil de ecuaciones diferenciales en vez de argumentos físicos.\n",
    "\n",
    "\n",
    "- La ecuación [(1.11)](#Ec1_11) describe la relación entre las fuerzas nodales y los desplazamientos para un único elemento, es decir, describe el comportamiento de un elemento aislado. \n",
    "\n",
    "\n",
    "- Las fuerzas nodales están relacionadas linealmente con los desplazamientos nodales. Esto resulta de la linealidad de todos los componentes que describen el comportamiento de este elemento: la ley de Hooke, la linealidad entre la fuerza axial y la tensión, y la linealidad de la expresión de la deformación. \n",
    "\n",
    "\n",
    "- La matriz de rigidez es simétrica, es decir, $\\left[ \\mathbf{K}^{(e)}\\right]=\\left[\\mathbf{K}^{(e)}\\right]^T$"
   ]
  },
  {
   "cell_type": "markdown",
   "metadata": {},
   "source": [
    "<div style=\"text-align: right\"> <a href=\"#TOC\">Volver a la Tabla de Contenido</a> </div>"
   ]
  },
  {
   "cell_type": "markdown",
   "metadata": {},
   "source": [
    "### Descripción del comportamiento de una estructura compuesta de elementos tipo barra"
   ]
  },
  {
   "cell_type": "markdown",
   "metadata": {},
   "source": [
    "En el numeral anterior se realizó la descripción del comportamiento para un único elemento. Siguiendo la misma lógica de racionamiento, se puede generalizar para sistemas compuestos por múltiples elementos tipo barra.\n",
    "\n",
    "<a id='Fig_2'></a>\n",
    "<p float=\"center\">\n",
    "  <img src=\"https://github.com/carlosalvarezh/FEM/blob/main/images/C1_F03_BarElements04.PNG?raw=true\" width=\"250\" />\n",
    "</p>\n",
    "\n",
    "<div style=\"text-align: center\"><strong>Figura 2.</strong> Elementos tipo barra sometida a fuerzas axiales. <strong>Fuente:</strong> <a href=\"https://www.wiley.com/en-us/A+First+Course+in+Finite+Elements-p-9780470035801\">Belytschko, T., A first course in Finite Elements</a></div>\n",
    "\n",
    "El primer paso para del FEM es realizar el proceso de discretización espacial, dividiendo la estructura en elementos. En el caso de la [Figura 2](#Fig_2), solo es necesario colocar nodos donde se aplican cargas y en los puntos donde cambian las propiedades geométricas de la sección o las propiedades del material, por lo que la malla de elementos finitos consta de dos elementos.\n",
    "\n",
    "Los elementos se numeran $1$ y $2$, y los nodos se numeran del $1$ al $3$; ni los nodos ni los elementos necesitan numerarse en un orden específico en FEM (se tratará este asunto más adelante). En cada nodo, se conocen las fuerzas externas o los desplazamientos nodales, pero no ambos; por ejemplo, en el nodo $1$ se prescribe el desplazamiento $u_1 = \\bar{u}_1$, por lo que se desconoce la fuerza a la que se hará referencia posteriormente como reacción $r_1$. En los nodos $2$ y $3$ se conocen las fuerzas externas $f_2$ y $f_3$ y, por lo tanto, se desconocen los desplazamientos $u_2$ y $u_3$. Para cada elemento de barra que se muestra en la [Figura 3](#Fig_3), las fuerzas internas nodales están relacionadas con los desplazamientos nodales mediante la matriz de rigidez dada en la ecuación [(1.9)](#Ec1_9). Las ecuaciones de rigidez de los elementos son las mismas ecuaciones [(1.8)](#Ec1_8) determinadas en el capítulo anterior, con $e = 1, 2$:\n",
    "\n",
    "<a id='Fig_3'></a>\n",
    "<p float=\"center\">\n",
    "  <img src=\"https://github.com/carlosalvarezh/FEM/blob/main/images/C1_F04_BarElements05.PNG?raw=true\" width=\"500\" />\n",
    "</p>\n",
    "\n",
    "<div style=\"text-align: center\"><strong>Figura 3.</strong> Discretización de la barra de la Figura 2. <strong>Fuente:</strong> <a href=\"https://www.wiley.com/en-us/A+First+Course+in+Finite+Elements-p-9780470035801\">Belytschko, T., A first course in Finite Elements</a></div>"
   ]
  },
  {
   "cell_type": "markdown",
   "metadata": {},
   "source": []
  },
  {
   "cell_type": "markdown",
   "metadata": {},
   "source": [
    "## Etapas del análisis matricial de sistemas discretos"
   ]
  },
  {
   "cell_type": "markdown",
   "metadata": {},
   "source": []
  },
  {
   "cell_type": "markdown",
   "metadata": {},
   "source": [
    "<div style=\"text-align: right\"> <a href=\"#TOC\">Volver a la Tabla de Contenido</a> </div>"
   ]
  },
  {
   "cell_type": "markdown",
   "metadata": {},
   "source": [
    "## Matriz de rigidez y vector de fuerzas globales"
   ]
  },
  {
   "cell_type": "markdown",
   "metadata": {},
   "source": []
  },
  {
   "cell_type": "markdown",
   "metadata": {},
   "source": [
    "<div style=\"text-align: right\"> <a href=\"#TOC\">Volver a la Tabla de Contenido</a> </div>"
   ]
  },
  {
   "cell_type": "markdown",
   "metadata": {},
   "source": [
    "## Elementos finitos en el análisis de sistemas continuos"
   ]
  },
  {
   "cell_type": "markdown",
   "metadata": {},
   "source": []
  },
  {
   "cell_type": "markdown",
   "metadata": {},
   "source": [
    "<div style=\"text-align: right\"> <a href=\"#TOC\">Volver a la Tabla de Contenido</a> </div>"
   ]
  },
  {
   "cell_type": "code",
   "execution_count": 1,
   "metadata": {},
   "outputs": [
    {
     "data": {
      "text/html": [
       "\n",
       "<link href='http://fonts.googleapis.com/css?family=Fenix' rel='stylesheet' type='text/css'>\n",
       "<link href='http://fonts.googleapis.com/css?family=Alegreya+Sans:100,300,400,500,700,800,900,100italic,300italic,400italic,500italic,700italic,800italic,900italic' rel='stylesheet' type='text/css'>\n",
       "<link href='http://fonts.googleapis.com/css?family=Source+Code+Pro:300,400' rel='stylesheet' type='text/css'>\n",
       "\n",
       "<style>\n",
       "\n",
       "/*\n",
       "Template for Notebooks for Numerical analysis.\n",
       "\n",
       "Based on Lorena Barba template available at:\n",
       "\n",
       "    https://github.com/barbagroup/AeroPython/blob/master/styles/custom.css\n",
       "*/\n",
       "\n",
       "/* Fonts */\n",
       "@font-face {\n",
       "font-family: \"Computer Modern\";\n",
       "src: url('http://mirrors.ctan.org/fonts/cm-unicode/fonts/otf/cmunss.otf');\n",
       "}\n",
       "\n",
       "/* Text */\n",
       "div.cell{\n",
       "width:800px;\n",
       "margin-left:16% !important;\n",
       "margin-right:auto;\n",
       "}\n",
       "h1 {\n",
       "font-family: 'Alegreya Sans', sans-serif;\n",
       "}\n",
       "h2 {\n",
       "font-family: 'Fenix', serif;\n",
       "}\n",
       "h3{\n",
       "font-family: 'Fenix', serif;\n",
       "margin-top:12px;\n",
       "margin-bottom: 3px;\n",
       "}\n",
       "h4{\n",
       "font-family: 'Fenix', serif;\n",
       "}\n",
       "h5 {\n",
       "font-family: 'Alegreya Sans', sans-serif;\n",
       "}\t\n",
       "div.text_cell_render{\n",
       "font-family: 'Alegreya Sans',Computer Modern, \"Helvetica Neue\", Arial, Helvetica, Geneva, sans-serif;\n",
       "line-height: 135%;\n",
       "font-size: 120%;\n",
       "width:600px;\n",
       "margin-left:auto;\n",
       "margin-right:auto;\n",
       "}\n",
       ".CodeMirror{\n",
       "font-family: \"Source Code Pro\";\n",
       "font-size: 90%;\n",
       "}\n",
       "/* .prompt{\n",
       "display: None;\n",
       "}*/\n",
       ".text_cell_render h1 {\n",
       "font-weight: 200;\n",
       "font-size: 25pt;\n",
       "line-height: 100%;\n",
       "color:#CD2305;\n",
       "margin-bottom: 0.5em;\n",
       "margin-top: 0.5em;\n",
       "display: block;\n",
       "}\t\n",
       ".text_cell_render h5 {\n",
       "font-weight: 300;\n",
       "font-size: 16pt;\n",
       "color: #CD2305;\n",
       "font-style: italic;\n",
       "margin-bottom: .5em;\n",
       "margin-top: 0.5em;\n",
       "display: block;\n",
       "}\n",
       ".warning{\n",
       "color: rgb( 240, 20, 20 )\n",
       "}\n",
       "</style>\n",
       "\n",
       "<script>\n",
       "/* Equations */\n",
       "\n",
       "MathJax.Hub.Config({\n",
       "TeX: {\n",
       "extensions: [\"AMSmath.js\"]\n",
       "},\n",
       "tex2jax: {\n",
       "inlineMath: [ ['$','$'], [\"\\\\(\",\"\\\\)\"] ],\n",
       "displayMath: [ ['$$','$$'], [\"\\\\[\",\"\\\\]\"] ]\n",
       "},\n",
       "displayAlign: 'center', // Change this to 'center' to center equations.\n",
       "\"HTML-CSS\": {\n",
       "styles: {'.MathJax_Display': {\"margin\": 4}}\n",
       "}\n",
       "});\n",
       "</script>\n",
       "\n",
       "\n"
      ],
      "text/plain": [
       "<IPython.core.display.HTML object>"
      ]
     },
     "execution_count": 1,
     "metadata": {},
     "output_type": "execute_result"
    }
   ],
   "source": [
    "from IPython.core.display import HTML\n",
    "def css_styling():\n",
    "    styles = open('./nb_style.css', 'r').read()\n",
    "    return HTML(styles)\n",
    "css_styling()"
   ]
  },
  {
   "cell_type": "code",
   "execution_count": null,
   "metadata": {},
   "outputs": [],
   "source": []
  }
 ],
 "metadata": {
  "kernelspec": {
   "display_name": "Python 3",
   "language": "python",
   "name": "python3"
  },
  "language_info": {
   "codemirror_mode": {
    "name": "ipython",
    "version": 3
   },
   "file_extension": ".py",
   "mimetype": "text/x-python",
   "name": "python",
   "nbconvert_exporter": "python",
   "pygments_lexer": "ipython3",
   "version": "3.6.13"
  },
  "toc": {
   "base_numbering": "1",
   "nav_menu": {},
   "number_sections": true,
   "sideBar": true,
   "skip_h1_title": true,
   "title_cell": "Tabla de Contenidos",
   "title_sidebar": "Contenidos",
   "toc_cell": true,
   "toc_position": {
    "height": "calc(100% - 180px)",
    "left": "10px",
    "top": "150px",
    "width": "165px"
   },
   "toc_section_display": true,
   "toc_window_display": true
  }
 },
 "nbformat": 4,
 "nbformat_minor": 4
}
