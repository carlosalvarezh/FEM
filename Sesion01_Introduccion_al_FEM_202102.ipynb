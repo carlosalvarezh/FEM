{
 "cells": [
  {
   "cell_type": "markdown",
   "metadata": {
    "slideshow": {
     "slide_type": "slide"
    }
   },
   "source": [
    "<h1 align=\"center\"><b>Introducción al estudio del Método de los Elementos Finitos</b></h1>\n",
    "\n",
    "<h1 align=\"center\"><b>Una aproximación analítica y computacional</b></h1>\n",
    "\n",
    "<h1 align=\"center\"><b>Sesion 01 - Introducción</b></h1>"
   ]
  },
  {
   "cell_type": "markdown",
   "metadata": {
    "slideshow": {
     "slide_type": "subslide"
    }
   },
   "source": [
    "<table>\n",
    " <tr align=left><td><img align=left src=\"https://github.com/carlosalvarezh/CFD_Applied/blob/master/figs/CC-BY.png?raw=true\">\n",
    " <td>Text provided under a Creative Commons Attribution license, CC-BY. All code is made available under the FSF-approved MIT license.(c) Carlos Alberto Alvarez Henao</td>\n",
    "</table>"
   ]
  },
  {
   "cell_type": "markdown",
   "metadata": {
    "slideshow": {
     "slide_type": "subslide"
    }
   },
   "source": [
    "*** \n",
    "\n",
    "***Docente:*** Carlos Alberto Álvarez Henao, I.C. D.Sc.\n",
    "\n",
    "***e-mail:*** carlosalvarezh@gmail.com\n",
    "\n",
    "***skype:*** carlos.alberto.alvarez.henao\n",
    "\n",
    "***Herramienta:*** [Jupyter Notebook](http://jupyter.org/)\n",
    "\n",
    "***Kernel:*** Python 3.8\n",
    "\n",
    "***MEDELLÍN - COLOMBIA***\n",
    "\n",
    "***2021/02***\n",
    "\n",
    "***"
   ]
  },
  {
   "cell_type": "markdown",
   "metadata": {
    "slideshow": {
     "slide_type": "slide"
    }
   },
   "source": [
    "<a id='TOC'></a>"
   ]
  },
  {
   "cell_type": "markdown",
   "metadata": {
    "slideshow": {
     "slide_type": "fragment"
    },
    "toc": true
   },
   "source": [
    "<h1>Tabla de Contenidos<span class=\"tocSkip\"></span></h1>\n",
    "<div class=\"toc\"><ul class=\"toc-item\"><li><span><a href=\"#Introducción\" data-toc-modified-id=\"Introducción-1\"><span class=\"toc-item-num\">1&nbsp;&nbsp;</span>Introducción</a></span><ul class=\"toc-item\"><li><span><a href=\"#Mecánica\" data-toc-modified-id=\"Mecánica-1.1\"><span class=\"toc-item-num\">1.1&nbsp;&nbsp;</span>Mecánica</a></span><ul class=\"toc-item\"><li><span><a href=\"#Modelación-y-Simulación-Computacional\" data-toc-modified-id=\"Modelación-y-Simulación-Computacional-1.1.1\"><span class=\"toc-item-num\">1.1.1&nbsp;&nbsp;</span>Modelación y Simulación Computacional</a></span></li><li><span><a href=\"#Discretización\" data-toc-modified-id=\"Discretización-1.1.2\"><span class=\"toc-item-num\">1.1.2&nbsp;&nbsp;</span>Discretización</a></span></li><li><span><a href=\"#Qué-es-un-Elemento-Finito?\" data-toc-modified-id=\"Qué-es-un-Elemento-Finito?-1.1.3\"><span class=\"toc-item-num\">1.1.3&nbsp;&nbsp;</span>Qué es un <em>Elemento Finito</em>?</a></span></li></ul></li><li><span><a href=\"#Qué-es-el-FEM?\" data-toc-modified-id=\"Qué-es-el-FEM?-1.2\"><span class=\"toc-item-num\">1.2&nbsp;&nbsp;</span>Qué es el FEM?</a></span><ul class=\"toc-item\"><li><span><a href=\"#FEM-o-FEA?\" data-toc-modified-id=\"FEM-o-FEA?-1.2.1\"><span class=\"toc-item-num\">1.2.1&nbsp;&nbsp;</span>FEM o FEA?</a></span></li><li><span><a href=\"#Aplicaciones-del-FEM\" data-toc-modified-id=\"Aplicaciones-del-FEM-1.2.2\"><span class=\"toc-item-num\">1.2.2&nbsp;&nbsp;</span>Aplicaciones del FEM</a></span></li><li><span><a href=\"#Ecuaciones-Diferenciales-en-Derivadas-Parciales\" data-toc-modified-id=\"Ecuaciones-Diferenciales-en-Derivadas-Parciales-1.2.3\"><span class=\"toc-item-num\">1.2.3&nbsp;&nbsp;</span>Ecuaciones Diferenciales en Derivadas Parciales</a></span></li><li><span><a href=\"#Cómo-trabaja-el-FEM?\" data-toc-modified-id=\"Cómo-trabaja-el-FEM?-1.2.4\"><span class=\"toc-item-num\">1.2.4&nbsp;&nbsp;</span>Cómo trabaja el FEM?</a></span></li><li><span><a href=\"#Historia-del-FEM\" data-toc-modified-id=\"Historia-del-FEM-1.2.5\"><span class=\"toc-item-num\">1.2.5&nbsp;&nbsp;</span>Historia del FEM</a></span></li></ul></li><li><span><a href=\"#Diferentes-tipos-del-FEM\" data-toc-modified-id=\"Diferentes-tipos-del-FEM-1.3\"><span class=\"toc-item-num\">1.3&nbsp;&nbsp;</span>Diferentes tipos del FEM</a></span><ul class=\"toc-item\"><li><span><a href=\"#Método-de-elementos-finitos-extendido-(XFEM)\" data-toc-modified-id=\"Método-de-elementos-finitos-extendido-(XFEM)-1.3.1\"><span class=\"toc-item-num\">1.3.1&nbsp;&nbsp;</span>Método de elementos finitos extendido (XFEM)</a></span></li><li><span><a href=\"#Método-de-elementos-finitos-generalizado-(GFEM)\" data-toc-modified-id=\"Método-de-elementos-finitos-generalizado-(GFEM)-1.3.2\"><span class=\"toc-item-num\">1.3.2&nbsp;&nbsp;</span>Método de elementos finitos generalizado (GFEM)</a></span></li><li><span><a href=\"#Método-mixto-de-elementos-finitos\" data-toc-modified-id=\"Método-mixto-de-elementos-finitos-1.3.3\"><span class=\"toc-item-num\">1.3.3&nbsp;&nbsp;</span>Método mixto de elementos finitos</a></span></li><li><span><a href=\"#Método-de-elementos-finitos-hp\" data-toc-modified-id=\"Método-de-elementos-finitos-hp-1.3.4\"><span class=\"toc-item-num\">1.3.4&nbsp;&nbsp;</span>Método de elementos finitos hp</a></span></li><li><span><a href=\"#Método-de-elementos-finitos-de-Galerkin-discontinuo-(DG-FEM)\" data-toc-modified-id=\"Método-de-elementos-finitos-de-Galerkin-discontinuo-(DG-FEM)-1.3.5\"><span class=\"toc-item-num\">1.3.5&nbsp;&nbsp;</span>Método de elementos finitos de Galerkin discontinuo (DG-FEM)</a></span></li></ul></li><li><span><a href=\"#El-proceso-de-análisis-FEM\" data-toc-modified-id=\"El-proceso-de-análisis-FEM-1.4\"><span class=\"toc-item-num\">1.4&nbsp;&nbsp;</span>El proceso de análisis <em>FEM</em></a></span><ul class=\"toc-item\"><li><span><a href=\"#Modelado\" data-toc-modified-id=\"Modelado-1.4.1\"><span class=\"toc-item-num\">1.4.1&nbsp;&nbsp;</span>Modelado</a></span></li><li><span><a href=\"#Simulación\" data-toc-modified-id=\"Simulación-1.4.2\"><span class=\"toc-item-num\">1.4.2&nbsp;&nbsp;</span>Simulación</a></span></li><li><span><a href=\"#Terminología-FEM\" data-toc-modified-id=\"Terminología-FEM-1.4.3\"><span class=\"toc-item-num\">1.4.3&nbsp;&nbsp;</span>Terminología FEM</a></span></li></ul></li><li><span><a href=\"#Pasos-en-la-solución-por-el-FEM\" data-toc-modified-id=\"Pasos-en-la-solución-por-el-FEM-1.5\"><span class=\"toc-item-num\">1.5&nbsp;&nbsp;</span>Pasos en la solución por el FEM</a></span><ul class=\"toc-item\"><li><span><a href=\"#Discretización-la-estructura-en-elementos.\" data-toc-modified-id=\"Discretización-la-estructura-en-elementos.-1.5.1\"><span class=\"toc-item-num\">1.5.1&nbsp;&nbsp;</span>Discretización la estructura en elementos.</a></span></li><li><span><a href=\"#Matriz-de-rigidez-local-para-cada-elemento\" data-toc-modified-id=\"Matriz-de-rigidez-local-para-cada-elemento-1.5.2\"><span class=\"toc-item-num\">1.5.2&nbsp;&nbsp;</span>Matriz de rigidez local para cada elemento</a></span></li><li><span><a href=\"#Ensamble-de-la-matriz-de-rigidez-global\" data-toc-modified-id=\"Ensamble-de-la-matriz-de-rigidez-global-1.5.3\"><span class=\"toc-item-num\">1.5.3&nbsp;&nbsp;</span>Ensamble de la matriz de rigidez global</a></span></li><li><span><a href=\"#Vector-de-fuerza-aplicada\" data-toc-modified-id=\"Vector-de-fuerza-aplicada-1.5.4\"><span class=\"toc-item-num\">1.5.4&nbsp;&nbsp;</span>Vector de fuerza aplicada</a></span></li><li><span><a href=\"#Aplicar-condiciones-de-contorno-y-resolver-los-desplazamientos-nodales\" data-toc-modified-id=\"Aplicar-condiciones-de-contorno-y-resolver-los-desplazamientos-nodales-1.5.5\"><span class=\"toc-item-num\">1.5.5&nbsp;&nbsp;</span>Aplicar condiciones de contorno y resolver los desplazamientos nodales</a></span></li><li><span><a href=\"#Resolver-las-reacciones-externas\" data-toc-modified-id=\"Resolver-las-reacciones-externas-1.5.6\"><span class=\"toc-item-num\">1.5.6&nbsp;&nbsp;</span>Resolver las reacciones externas</a></span></li><li><span><a href=\"#Resolver-las-fuerzas-nodales\" data-toc-modified-id=\"Resolver-las-fuerzas-nodales-1.5.7\"><span class=\"toc-item-num\">1.5.7&nbsp;&nbsp;</span>Resolver las fuerzas nodales</a></span></li><li><span><a href=\"#Resolver-las-tensiones\" data-toc-modified-id=\"Resolver-las-tensiones-1.5.8\"><span class=\"toc-item-num\">1.5.8&nbsp;&nbsp;</span>Resolver las tensiones</a></span></li></ul></li><li><span><a href=\"#Aspectos-computacionales-del-FEM\" data-toc-modified-id=\"Aspectos-computacionales-del-FEM-1.6\"><span class=\"toc-item-num\">1.6&nbsp;&nbsp;</span>Aspectos computacionales del FEM</a></span></li></ul></li></ul></div>"
   ]
  },
  {
   "cell_type": "markdown",
   "metadata": {
    "slideshow": {
     "slide_type": "slide"
    }
   },
   "source": [
    "<p float=\"center\">\n",
    "  <img src=\"https://github.com/carlosalvarezh/FEM/blob/main/images/Wordcloud0.png?raw=true\" width=\"500\" />\n",
    "</p>"
   ]
  },
  {
   "cell_type": "markdown",
   "metadata": {
    "slideshow": {
     "slide_type": "slide"
    }
   },
   "source": [
    "## Introducción"
   ]
  },
  {
   "cell_type": "markdown",
   "metadata": {
    "slideshow": {
     "slide_type": "subslide"
    }
   },
   "source": [
    "<p float=\"center\">\n",
    "  <img src=\"https://github.com/carlosalvarezh/FEM/blob/main/images/C0_F01_ModalAnalysis_TrussBridge.gif?raw=true\" width=\"500\" />\n",
    "</p>"
   ]
  },
  {
   "cell_type": "markdown",
   "metadata": {
    "slideshow": {
     "slide_type": "slide"
    }
   },
   "source": [
    "### Mecánica"
   ]
  },
  {
   "cell_type": "markdown",
   "metadata": {
    "slideshow": {
     "slide_type": "fragment"
    }
   },
   "source": [
    "La [Mecánica](https://en.wikipedia.org/wiki/Mechanics) es el área de la física que estudia el movimiento y reposo de los cuerpos, y su evolución con el tiempo, más específicamente la relación entre fuerza, materia y movimiento. Las fuerzas aplicadas a los objetos dan como resultados desplazamientos o cambios de la posición de un objeto en relación con su entorno.\n",
    "\n",
    "Los problemas a ser tratados en este curso se enmarcan dentro de la [Mecánica computacional](https://en.wikipedia.org/wiki/Computational_mechanics), com se observa en el siguiente esquema:"
   ]
  },
  {
   "cell_type": "markdown",
   "metadata": {
    "slideshow": {
     "slide_type": "subslide"
    }
   },
   "source": [
    "\\begin{equation*}\n",
    "\\text{Mecánica} \\left \\{\n",
    "\\begin{aligned}\n",
    "&\\text{Teórica} \\\\\n",
    "&\\text{Computacional} \\left \\{\n",
    "\\begin{aligned}\n",
    "&\\text{Nano/micro} \\\\\n",
    "&\\text{Continuo} \\left \\{\n",
    "\\begin{aligned}\n",
    "&\\text{Fluidos} \\\\\n",
    "&\\text{Sólidos} \\left \\{\n",
    "\\begin{aligned}\n",
    "&\\text{Estática} \\left \\{\n",
    "\\begin{aligned}\n",
    "&\\text{Lineal} \\\\\n",
    "&\\text{No Lineal}\n",
    "\\end{aligned}\n",
    "\\right.\n",
    "\\\\\n",
    "&\\text{Dinámica}\n",
    "\\end{aligned}\n",
    "\\right.\n",
    "\\\\\n",
    "&\\text{Multifísica}\n",
    "\\end{aligned}\n",
    "\\right.\n",
    "\\\\\n",
    "&\\text{Sistema}\n",
    "\\end{aligned}\n",
    "\\right.\n",
    "\\\\\n",
    "&\\text{Aplicada}\n",
    "\\end{aligned}\n",
    "\\right.\n",
    "\\end{equation*}"
   ]
  },
  {
   "cell_type": "markdown",
   "metadata": {
    "slideshow": {
     "slide_type": "slide"
    }
   },
   "source": [
    "#### Modelación y Simulación Computacional"
   ]
  },
  {
   "cell_type": "markdown",
   "metadata": {
    "slideshow": {
     "slide_type": "subslide"
    }
   },
   "source": [
    "<p float=\"center\">\n",
    "  <img src=\"https://github.com/carlosalvarezh/FEM/blob/main/images/C0_F02_CSE.PNG?raw=true\" width=\"350\" />\n",
    "</p>\n",
    "\n",
    "La Ciencia Computacional e Ingeniería, es una disciplina que concierne al uso de métodos y dispositivos computacionales para simular eventos físicos y sistemas en ingeniería."
   ]
  },
  {
   "cell_type": "markdown",
   "metadata": {},
   "source": [
    "#### Discretización"
   ]
  },
  {
   "cell_type": "markdown",
   "metadata": {},
   "source": [
    "<p float=\"center\">\n",
    "  <img src=\"https://github.com/carlosalvarezh/FEM/blob/main/images/C0_F03_Discretization01.PNG?raw=true\" width=\"500\" />\n",
    "</p>\n",
    "\n",
    "El proceso de [discretización](https://en.wikipedia.org/wiki/Discretization) consiste en transformar un modelo continuo en un finito número de componentes discretos que pueden ser procesados por una máquina. El [modelo Computacional](https://en.wikipedia.org/wiki/Computational_model) es la versión discretizada de un modelo matemático que se ha desarrollado para ser implementado en una máquina de cómputo. Esta discplina incluye la [modelación matemática](https://en.wikipedia.org/wiki/Mathematical_model), que es un conjunto de ecuaciones algebraicas, diferenciales y/o integrales, que gobiernan un fenómeno físico de un sistema en particular. El modelo se basa en una serie de suposiciones y restricciones impuestas al fenónmeo y de las leyes físicas gobernantes.\n",
    "\n",
    "Algunos métodos empleados en la discretización espacial son:\n",
    "\n",
    "- ***[Elementos Finitos](https://en.wikipedia.org/wiki/Finite_element_method) (FEM)***\n",
    "\n",
    "\n",
    "- ***[Elementos de Contorno](https://en.wikipedia.org/wiki/Boundary_element_method) (BEM)***\n",
    "\n",
    "\n",
    "- ***[Diferencias Finitas](https://en.wikipedia.org/wiki/Finite_difference_method) (FDM)***\n",
    "\n",
    "\n",
    "- ***[Spectral](https://en.wikipedia.org/wiki/Spectral_method)***\n",
    "\n",
    "\n",
    "- ***[Libres de Malla](https://en.wikipedia.org/wiki/Meshfree_methods) (Mesfree)***\n",
    "\n",
    "Cada uno de ellos presenta ventajas y desventajas que deberán ser aprovechadas según el tipo de problema a resolver. En este curso nos centraremos únicamente en el ***Método de los Elementos Finitos (FEM)***."
   ]
  },
  {
   "cell_type": "markdown",
   "metadata": {},
   "source": [
    "#### Qué es un *Elemento Finito*?"
   ]
  },
  {
   "cell_type": "markdown",
   "metadata": {},
   "source": [
    "Para captar la idea de lo que es un elemento finito, veamos un ejemplo en donde se calcula el valor de $\\pi$ empleando el método propuesto originalmente por [*Arquimedes*](https://en.wikipedia.org/wiki/Approximations_of_%CF%80). Él sabía que la relación entre la circunferencia de un círculo y su diámetro era $\\pi$. Tenía la idea de que podía dibujar un polígono regular inscrito dentro del círculo para aproximarse a $\\pi$, y cuantos más lados dibujara en el polígono, mejor aproximación a $\\pi$ obtendría. En matemáticas modernas, diríamos que como el número de lados del polígono tiende a infinito, la circunferencia tiende a $2\\pi$. Sin embargo, en lugar de dibujar el polígono, Arquímedes calculó la longitud usando un argumento geométrico, como el siguiente:\n",
    "\n",
    "<p float=\"center\">\n",
    "  <img src=\"https://github.com/carlosalvarezh/FEM/blob/main/images/C0_F05_ArchimedesPi01.png?raw=true\" width=\"150\" />\n",
    "</p>\n",
    "\n",
    "Dibuja un círculo de radio $1$ centrado en $A$. Inscribe un polígono de $N$ lados dentro de él. Nuestra estimación de $\\pi$ es la mitad de la circunferencia del polígono (la circunferencia de un círculo es $2\\pi r$, $r=1$, lo que da $2\\pi$). A medida que los lados del polígono se hacen cada vez más pequeños, la circunferencia se acerca cada vez más a $2\\pi$.\n",
    "\n",
    "El diagrama muestra un segmento del polígono $ACE$. El lado del polígono $CE$ tiene una longitud $d_n$. Suponiendo que conocemos $d$ para un polígono de $N$ lados, si podemos encontrar una expresión para la longitud $CD=d_{2n}$, la longitud del borde de un polígono con $2N$ lados, solo en términos de $d_n$, entonces podemos mejorar nuestra estimación de $\\pi$. Intentemos hacer eso.\n",
    "\n",
    "Bisecamos el triángulo $CAE$ para hacer que $CAD$ y $DAE$ sean los dos nuevos segmentos iguales del polígono de $2N$ lados. Usando el teorema de Pitágoras en el triángulo rectángulo $ABC$, tenemos\n",
    "\n",
    "$$AB^2+BC^2=1^2=1$$\n",
    "$$AB=\\sqrt{1+BC^2}$$\n",
    "\n",
    "dado que\n",
    "\n",
    "$$BC=\\frac{d_n}{2}$$\n",
    "\n",
    "sustituyendo,\n",
    "\n",
    "$$AB=\\sqrt{1-\\left( \\frac{d_n}{2}\\right)^2}$$\n",
    "$$BD=1-AB=1-\\sqrt{1-\\frac{d^2_n}{4}}$$\n",
    "\n",
    "Usando el teorema de Pitágoras en el triángulo rectángulo $CBD$\n",
    "\n",
    "$$CD^2=BC^2+BD^2$$\n",
    "\n",
    "reemplazando\n",
    "\n",
    "$$CD=d_{2n}=\\sqrt{2-2\\sqrt{1-\\frac{d^2_n}{4}}}$$\n",
    "\n",
    "$d_{2n}$ es la longitud de un lado del polígono con $2N$ lados.\n",
    "\n",
    "Esto significa que si conocemos la longitud de los lados de un polígono con $N$ lados, entonces podemos calcular la longitud de los lados de un polígono con $2N$ lados. ¿Qué significa esto? Comencemos con un cuadrado. La inscripción de un cuadrado en un círculo se ve así, con la longitud del lado $\\sqrt{2}$. Esto da una estimación de $\\pi$ como $2\\sqrt{2}$, que es pobre (en $2.828$) pero es solo el comienzo del proceso.\n",
    "\n",
    "<p float=\"center\">\n",
    "  <img src=\"https://github.com/carlosalvarezh/FEM/blob/main/images/C0_F06_ArchimedesPi02.png?raw=true\" width=\"250\" />\n",
    "</p>\n",
    "\n",
    "Podemos calcular la longitud del lado de un octágono, a partir de la longitud del lado de un cuadrado, y la longitud del lado de un $16$-gon a partir de un octágono, etc.\n",
    "\n",
    "<p float=\"center\">\n",
    "  <img src=\"https://github.com/carlosalvarezh/FEM/blob/main/images/C0_F07_ArchimedesPi03.png?raw=true\" width=\"250\" />\n",
    "</p>\n"
   ]
  },
  {
   "cell_type": "code",
   "execution_count": 62,
   "metadata": {},
   "outputs": [],
   "source": [
    "def piArchimedes(n):\n",
    "    \"\"\"\n",
    "    Calculate n iterations of Archimedes PI recurrence relation\n",
    "    \"\"\"\n",
    "    polygon_edge = 2.0\n",
    "    polygon_sides = 4\n",
    "    for i in range(n):\n",
    "        polygon_edge = 2 - 2 * math.sqrt(1 - polygon_edge / 4)\n",
    "        polygon_sides *= 2\n",
    "    return polygon_sides * math.sqrt(polygon_edge) / 2"
   ]
  },
  {
   "cell_type": "code",
   "execution_count": 63,
   "metadata": {},
   "outputs": [
    {
     "name": "stdout",
     "output_type": "stream",
     "text": [
      "n \t pi approx \t Error(%)\n",
      "1 \t 0.00000000 \t -\n",
      "0 \t 2.82842712 \t 0.09968368\n",
      "1 \t 3.06146746 \t 0.02550464\n",
      "2 \t 3.12144515 \t 0.00641315\n",
      "3 \t 3.13654849 \t 0.00160561\n",
      "4 \t 3.14033116 \t 0.00040155\n",
      "5 \t 3.14127725 \t 0.00010040\n",
      "6 \t 3.14151380 \t 0.00002510\n",
      "7 \t 3.14157294 \t 0.00000627\n",
      "8 \t 3.14158773 \t 0.00000157\n",
      "9 \t 3.14159142 \t 0.00000039\n",
      "10 \t 3.14159235 \t 0.00000010\n",
      "11 \t 3.14159258 \t 0.00000002\n",
      "12 \t 3.14159263 \t 0.00000001\n",
      "13 \t 3.14159265 \t 0.00000000\n",
      "14 \t 3.14159265 \t 0.00000000\n",
      "15 \t 3.14159261 \t 0.00000001\n"
     ]
    }
   ],
   "source": [
    "import math\n",
    "\n",
    "print(\"n \\t pi approx \\t Error(%)\")\n",
    "print(\"1 \\t {0:6.8f} \\t -\".format(0, ))\n",
    "\n",
    "for n in range(16):\n",
    "    result = piArchimedes(n)\n",
    "    error = abs(result - math.pi) / math.pi\n",
    "    print(\"{0} \\t {1:4.8f} \\t {2:4.8f}\".format(n, result, error))\n"
   ]
  },
  {
   "cell_type": "markdown",
   "metadata": {},
   "source": [
    "<div style=\"text-align: right\"> <a href=\"#TOC\">Volver a la Tabla de Contenido</a> </div>"
   ]
  },
  {
   "cell_type": "markdown",
   "metadata": {},
   "source": [
    "### Qué es el FEM?"
   ]
  },
  {
   "cell_type": "markdown",
   "metadata": {},
   "source": [
    "El [Método de los Elementos Finitos](https://en.wikipedia.org/wiki/Finite_element_method) (FEM, en inglés) es una técnica numérica empleada principalmente para resolver [ecuaciones diferenciales](https://en.wikipedia.org/wiki/Differential_equation), que surgen en el [modelamiento matemático](https://en.wikipedia.org/wiki/Mathematical_model) en áreas como la ingeniería, ciencias básicas, sociales, entre muchas otras."
   ]
  },
  {
   "cell_type": "markdown",
   "metadata": {},
   "source": [
    "#### FEM o FEA?"
   ]
  },
  {
   "cell_type": "markdown",
   "metadata": {},
   "source": [
    "El método de elementos finitos (FEM) es una técnica numérica utilizada para realizar análisis de elementos finitos (FEA) de cualquier fenómeno físico dado.\n",
    "\n",
    "Es necesario utilizar las matemáticas para comprender y cuantificar de manera integral cualquier fenómeno físico, como el comportamiento estructural o de los fluidos, el transporte térmico, la propagación de ondas y el crecimiento de células biológicas. La mayoría de estos procesos se describen mediante ecuaciones diferenciales parciales (PDE). Sin embargo, para que una computadora resuelva estas PDE, se han desarrollado técnicas numéricas durante las últimas décadas y una de las más destacadas en la actualidad es el método de elementos finitos."
   ]
  },
  {
   "cell_type": "markdown",
   "metadata": {},
   "source": [
    "#### Aplicaciones del FEM"
   ]
  },
  {
   "cell_type": "markdown",
   "metadata": {},
   "source": [
    "El método de elementos finitos comenzó con una promesa significativa en el modelado de varias aplicaciones mecánicas relacionadas con la ingeniería aeroespacial y civil. Las aplicaciones del método de los elementos finitos recién ahora están comenzando a alcanzar su potencial. Una de las perspectivas más interesantes es su aplicación en [problemas acoplados](https://en.wikipedia.org/wiki/Coupling_(physics)) tales como [interacción fluido-estructura](https://en.wikipedia.org/wiki/Fluid%E2%80%93structure_interaction)(FSI), problemas [termomecánicos](https://en.wikipedia.org/wiki/Thermomechanical_analysis), [termoquímicos](https://en.wikipedia.org/wiki/Thermochemical_cycle), [biomecánica](https://en.wikipedia.org/wiki/Biomechanics), [ingeniería biomédica](https://en.wikipedia.org/wiki/Biomedical_sciences), [piezoeléctrica](https://en.wikipedia.org/wiki/Piezoelectricity), y [electromagnética](https://en.wikipedia.org/wiki/Computational_electromagnetics), entre muchos otros."
   ]
  },
  {
   "cell_type": "markdown",
   "metadata": {},
   "source": [
    "#### Ecuaciones Diferenciales en Derivadas Parciales"
   ]
  },
  {
   "cell_type": "markdown",
   "metadata": {},
   "source": [
    "En matemáticas, una [Ecuación Diferencial en Derivadas Parciales](https://en.wikipedia.org/wiki/Partial_differential_equation) (PDE, de sus siglas en inglés) es una ecuación que impone relaciones entre las diversas derivadas parciales de una función multivariable. Existen diferentes formas de escribir una PDE, pero de las más comunes son:\n",
    "\n",
    "$$u_x=\\frac{\\partial u}{\\partial x}, \\quad u_{xx}=\\frac{\\partial^2 u}{\\partial x^2}, \\quad u_{xy}=\\frac{\\partial^2 u}{\\partial x \\partial y}=\\frac{\\partial}{\\partial y} \\left( \\frac{\\partial u}{\\partial x}\\right),$$\n",
    "\n",
    "Es importante comprender los diferentes géneros de PDE y su idoneidad para su uso con FEM. Comprender esto es particularmente importante para todos, independientemente de la motivación para usar el análisis de elementos finitos. Es fundamental recordar que FEM es una herramienta y cualquier herramienta es tan buena como su usuario.\n",
    "\n",
    "Aunque, como se ha indicado, el FEM es una herramienta para resolver PDEs, en el curso no se realizará un desarrollo teórico de este tema, por lo que se deja al usuario la responsabilidad de su estudio y adecuado entendimiento. En el libro de [Kreyszig](https://soaneemrana.org/onewebmedia/ADVANCED%20ENGINEERING%20MATHEMATICS%20BY%20ERWIN%20ERESZIG1.pdf), capítulo 12, encontrará información que puede ser una buena referencia para estudio. También el notebook de [Ecuaciones Diferenciales con Python](https://relopezbriega.github.io/blog/2016/01/10/ecuaciones-diferenciales-con-python/) del profesor Raúl Lopez Briega, en español, en donde podrá realizar algunas aplicaciones empleando programación en `python`."
   ]
  },
  {
   "cell_type": "markdown",
   "metadata": {},
   "source": [
    "#### Cómo trabaja el FEM?"
   ]
  },
  {
   "cell_type": "markdown",
   "metadata": {},
   "source": [
    "El [principio de minimización de la energía](https://en.wikipedia.org/wiki/Principle_of_minimum_energy) forma la columna vertebral principal del método de elementos finitos. En otras palabras, cuando se aplica una condición de contorno específica a un cuerpo (como desplazamiento o fuerza), esto puede conducir a varias configuraciones, pero sin embargo, solo una configuración particular es posible o lograda de manera realista. Sólo se elige aquella configuración donde la energía total es mínima. Incluso cuando la simulación se realiza varias veces, prevalecen los mismos resultados. "
   ]
  },
  {
   "cell_type": "markdown",
   "metadata": {},
   "source": [
    "#### Historia del FEM"
   ]
  },
  {
   "cell_type": "markdown",
   "metadata": {},
   "source": [
    "Dependiendo de la perspectiva histórica, se puede decir que el FEM tuvo sus orígenes en la obra de Euler, ya en el siglo XVI. Sin embargo, los primeros trabajos matemáticos sobre FEM se pueden encontrar en los trabajos de Schellback(1851) y Courant(1943).\n",
    "\n",
    "El FEM fue desarrollado de forma independiente por ingenieros para abordar problemas de mecánica estructural relacionados con la ingeniería aeroespacial y civil. Los desarrollos comenzaron a mediados de la década de 1950 con los artículos de [Turner, Clough, Martin y Topp](http://www.ce.memphis.edu/7117/notes/presentations/papers/Turner%20et%20al%20(1956)%20Stiffness%20and%20deflection%20analysis%20of%20comlex%20strucutres.pdf)(1956), [Argyris](https://en.wikipedia.org/wiki/John_Argyris)(1957) y [Babuska y Aziz](https://www.elsevier.com/books/the-mathematical-foundations-of-the-finite-element-method-with-applications-to-partial-differential-equations/aziz/978-0-12-068650-6)(1972). Los libros de [Zienkiewicz](https://en.wikipedia.org/wiki/Olgierd_Zienkiewicz)(1971) sentaron las bases para el desarrollo futuro en FEM.\n",
    "\n",
    "Una revisión interesante de estos desarrollos históricos se puede encontrar en Oden(1991). Se puede encontrar una revisión del desarrollo de FEM durante los últimos 75 años en este artículo de blog: [75 Years of the Finite Element Method](https://www.simscale.com/blog/2015/11/75-years-of-the-finite-element-method-fem/). En el artículo de [Gupta y Meek](https://people.sc.fsu.edu/~jpeterson/history_fem.pdf)(1996) o en este documento de curso del profesor [Mohite](http://home.iitk.ac.in/~mohite/History_of_FEM.pdf), podrá encontrar más información."
   ]
  },
  {
   "cell_type": "markdown",
   "metadata": {},
   "source": [
    "<div style=\"text-align: right\"> <a href=\"#TOC\">Volver a la Tabla de Contenido</a> </div>"
   ]
  },
  {
   "cell_type": "markdown",
   "metadata": {},
   "source": [
    "### Diferentes tipos del FEM"
   ]
  },
  {
   "cell_type": "markdown",
   "metadata": {},
   "source": [
    "Como se discutió anteriormente, la tecnología FEM tradicional ha demostrado deficiencias en los problemas de modelado relacionados con la mecánica de fluidos y la propagación de ondas. Recientemente se han realizado varias mejoras para optimizar el proceso de solución y ampliar la aplicabilidad del análisis de elementos finitos a una amplia gama de problemas. Algunos de los importantes que aún se utilizan incluyen:"
   ]
  },
  {
   "cell_type": "markdown",
   "metadata": {},
   "source": [
    "#### Método de elementos finitos extendido (XFEM)"
   ]
  },
  {
   "cell_type": "markdown",
   "metadata": {},
   "source": [
    "El método de Bubnov-Galerkin requiere continuidad de desplazamiento entre elementos. Aunque problemas como el contacto, la fractura y el daño implican discontinuidades y saltos que no pueden manejarse directamente con el método de elementos finitos. Para superar esta deficiencia, [XFEM](https://en.wikipedia.org/wiki/Extended_finite_element_method) nació en la década de 1990. XFEM funciona mediante la expansión de las funciones de forma con las funciones de pasos de Heaviside. Se asignan grados de libertad adicionales a los nodos alrededor del punto de discontinuidad para que se puedan considerar los saltos."
   ]
  },
  {
   "cell_type": "markdown",
   "metadata": {},
   "source": [
    "#### Método de elementos finitos generalizado (GFEM)"
   ]
  },
  {
   "cell_type": "markdown",
   "metadata": {},
   "source": [
    "[GFEM](https://www.sciencedirect.com/science/article/abs/pii/S0045782501001888) se introdujo casi al mismo tiempo que XFEM en los años 90. Combina las características de los métodos tradicionales FEM y sin malla. Las funciones de forma se definen principalmente por las coordenadas globales y luego se multiplican por partición de unidad para crear funciones de forma elementales locales. Una de las ventajas de GFEM es la prevención de remallado alrededor de singularidades."
   ]
  },
  {
   "cell_type": "markdown",
   "metadata": {},
   "source": [
    "#### Método mixto de elementos finitos"
   ]
  },
  {
   "cell_type": "markdown",
   "metadata": {},
   "source": [
    "El [Método mixto de elementos finitos](https://en.wikipedia.org/wiki/Mixed_finite_element_method) se aplica en varios problemas, como el contacto o la incompresibilidad, en el que las restricciones se imponen utilizando multiplicadores de Lagrange. Estos grados de libertad extra que surgen de los multiplicadores de Lagrange se resuelven de forma independiente. El sistema de ecuaciones se resuelve como un sistema acoplado de ecuaciones."
   ]
  },
  {
   "cell_type": "markdown",
   "metadata": {},
   "source": [
    "#### Método de elementos finitos hp"
   ]
  },
  {
   "cell_type": "markdown",
   "metadata": {},
   "source": [
    "[hp-FEM](https://en.wikipedia.org/wiki/Hp-FEM) es una combinación de refinamiento automático de malla (refinamiento h) y un aumento en el orden de polinomio (refinamiento p). Esto no es lo mismo que hacer refinamientos h y p por separado. Cuando se utiliza el refinamiento hp automático y un elemento se divide en elementos más pequeños (refinamiento h), cada elemento también puede tener diferentes órdenes polinomiales."
   ]
  },
  {
   "cell_type": "markdown",
   "metadata": {},
   "source": [
    "#### Método de elementos finitos de Galerkin discontinuo (DG-FEM)"
   ]
  },
  {
   "cell_type": "markdown",
   "metadata": {},
   "source": [
    "[DG-FEM](https://en.wikipedia.org/wiki/Discontinuous_Galerkin_method) ha mostrado una promesa significativa para utilizar la idea de elementos finitos para resolver ecuaciones hiperbólicas, donde los métodos tradicionales de elementos finitos han sido débiles. Además, también ha mostrado mejoras en la flexión y problemas incompresibles que se observan típicamente en la mayoría de los procesos de materiales. Aquí, se agregan restricciones adicionales a la forma débil que incluye un parámetro de penalización (para evitar la interpenetración) y términos para otro equilibrio de tensiones entre los elementos."
   ]
  },
  {
   "cell_type": "markdown",
   "metadata": {},
   "source": [
    "<div style=\"text-align: right\"> <a href=\"#TOC\">Volver a la Tabla de Contenido</a> </div>"
   ]
  },
  {
   "cell_type": "markdown",
   "metadata": {},
   "source": [
    "### El proceso de análisis *FEM*"
   ]
  },
  {
   "cell_type": "markdown",
   "metadata": {},
   "source": [
    "El comportamiento de un fenómeno en un sistema depende de la geometría o dominio del sistema, la propiedad del material o medio y las condiciones de frontera, iniciales y de carga. Para un sistema de ingeniería, la geometría o el dominio pueden ser muy complejos. Además, la frontera y las condiciones iniciales también pueden ser complicadas. Por lo tanto, en general, es muy difícil resolver la ecuación diferencial gobernante por medios analíticos. En la práctica, la mayoría de los problemas se resuelven mediante métodos numéricos. Entre estos, los métodos de discretización de dominios propugnados por el FEM son los más populares, debido a su practicidad y versatilidad."
   ]
  },
  {
   "cell_type": "markdown",
   "metadata": {},
   "source": [
    "#### Modelado"
   ]
  },
  {
   "cell_type": "markdown",
   "metadata": {},
   "source": [
    "<p float=\"center\">\n",
    "  <img src=\"https://github.com/carlosalvarezh/FEM/blob/main/images/C0_F08_PhysicalFEM01.PNG?raw=true\" width=\"500\" />\n",
    "</p>\n",
    "\n",
    "<div style=\"text-align: right\"> Fuente: <a href=\"http://kis.tu.kielce.pl//mo/COLORADO_FEM/colorado/Home.html\">Felippa, C. Introduction to Finite Element Methods.</a> </div>\n",
    "\n",
    "El procedimiento de modelado computacional que utiliza el FEM consta en general de cuatro pasos:\n",
    "\n",
    "\n",
    "- Modelado de la geometría.\n",
    "\n",
    "\n",
    "- [Mallado](https://en.wikipedia.org/wiki/Mesh_generation) (discretización).\n",
    "\n",
    "\n",
    "- Especificación de propiedad material.\n",
    "\n",
    "\n",
    "- Especificación de condiciones de contorno, inicial y de carga.\n",
    "\n",
    "\n",
    "***Ejemplo:*** Elementos unidimensionales\n",
    "\n",
    "<p float=\"center\">\n",
    "  <img src=\"https://github.com/carlosalvarezh/FEM/blob/main/images/C0_F09_ModelFEM.PNG?raw=true\" width=\"500\" />\n",
    "</p>\n",
    "\n",
    "<div style=\"text-align: right\"> Fuente: <a href=\"http://kis.tu.kielce.pl//mo/COLORADO_FEM/colorado/Home.html\">Felippa, C. Introduction to Finite Element Methods.</a> </div>\n",
    "\n",
    "\n",
    "***Ejemplo:*** Elementos bidimensionales\n",
    "\n",
    "<p float=\"center\">\n",
    "  <img src=\"https://github.com/carlosalvarezh/FEM/blob/main/images/C0_F10_DiscretizationFEM.png?raw=true\" width=\"750\" />\n",
    "</p>\n",
    "\n",
    "<div style=\"text-align: right\"> Fuente: <a href=\"https://link.springer.com/referenceworkentry/10.1007%2F978-3-642-20617-7_16699\">Springer.</a> </div>"
   ]
  },
  {
   "cell_type": "markdown",
   "metadata": {},
   "source": [
    "#### Simulación"
   ]
  },
  {
   "cell_type": "markdown",
   "metadata": {},
   "source": [
    "Las etapas del proceso de simulación empleando la técnica FEM se puede resumir en la siguiente tabla:\n",
    "\n",
    "<p float=\"center\">\n",
    "  <img src=\"https://github.com/carlosalvarezh/FEM/blob/main/images/C0_F11_SimulationFEM.PNG?raw=true\" width=\"350\" />\n",
    "</p>\n",
    "\n",
    "<div style=\"text-align: right\"> Fuente: <a href=\"https://www.researchgate.net/publication/287427324_Finite_Element_Simulation_by_Free_Software_Tools\">Miklos Kuczmann</a> </div>"
   ]
  },
  {
   "cell_type": "markdown",
   "metadata": {},
   "source": [
    "#### Terminología FEM"
   ]
  },
  {
   "cell_type": "markdown",
   "metadata": {},
   "source": [
    "- ***Dominio:*** es el conjunto de variables independientes para las que se define una función. En el *FEA*, un dominio es un sistema (región) continuo sobre el cual gobiernan las leyes de la física. En la ingeniería estructural, un dominio podría ser una viga o el marco de un edificio completo. En la ingeniería mecánica, un dominio podría ser una pieza de una máquina o un campo térmico.\n",
    "\n",
    "\n",
    "- ***Ecuaciones gobernantes:*** son las ecuaciones derivadas de la física del sistema. Muchos sistemas de ingeniería pueden describirse mediante ecuaciones de gobierno, que determinan las características y comportamientos del sistema.\n",
    "\n",
    "\n",
    "- ***Condiciones de frontera:*** son valores de la función en el borde del rango de algunas de sus variables. Es necesario conocer algunas de las condiciones de contorno para resolver un problema de ingeniería o para encontrar una función desconocida.\n",
    "\n",
    "\n",
    "- ***Elemento:*** es una parte del dominio del problema y, por lo general, tiene una forma simple como un triángulo o cuadrilátero en 2D, o un tetraedro o un sólido rectangular en 3D.\n",
    "\n",
    "\n",
    "- ***Nodo:*** es un punto en el dominio y, a menudo, es el vértice de varios elementos. Un nodo también se llama punto nodal.\n",
    "\n",
    "\n",
    "- ***Malla:*** los elementos y nodos, juntos, forman una malla (mesh o grid, en inglés), que es la estructura de datos central en FEA.\n",
    "\n",
    "<p float=\"center\">\n",
    "  <img src=\"https://github.com/carlosalvarezh/FEM/blob/main/images/C0_F12_NodeElementMeshFEM.png?raw=true\" width=\"350\" />\n",
    "</p>\n",
    "\n",
    "\n",
    "- ***Generación de malla:*** la mayoría del software FEA genera automáticamente una malla refinada para lograr resultados más precisos. Para análisis de elementos finitos complejos o a gran escala, a menudo es imperativo que las computadoras generen una malla de elementos finitos automáticamente. Hay muchos algoritmos diferentes para la generación automática de mallas. En [este enlace](http://www.argusone.com/MeshGeneration.html) podrá ver algunas muestras de malla generadas automáticamente.\n",
    "\n",
    "\n",
    "- ***Análisis lineal:*** se basa en los siguientes supuestos: (1) estático; (2) Pequeños desplazamientos; (3) El material es linealmente elástico.\n",
    "\n",
    "\n",
    "- ***Análisis no lineal:*** considera la no linealidad del material y/o la no linealidad geométrica de un sistema de ingeniería. El análisis geométrico no lineal también se denomina análisis de grandes deformaciones.\n",
    "\n",
    "\n",
    "- ***Grados de libertad:*** Los [grados de libertad](https://en.wikipedia.org/wiki/Degrees_of_freedom_(mechanics)) (DOF) son las principales incógnitas en las ecuaciones que constituyen un modelo de elementos finitos. La resolución de las ecuaciones determina los valores de los grados de libertad para cada nodo del modelo. Estos valores se denominan \"datos primarios\" en la documentación. Los datos derivados (tensiones, deformaciones, gradientes, flujos, etc.) se calculan a partir de la solución DOF. Los DOF incluyen desplazamientos (UX, UY, UZ), rotaciones (ROTX, ROTY, ROTZ), temperatura (TEMP), entre otros. Los grados de libertad incluidos en cada tipo de elemento reflejan la física del problema subyacente. Debe elegir elementos que ofrezcan solo los grados de libertad que necesita, ya que los grados de libertad adicionales aumentan el tiempo de cálculo y no proporcionan ningún beneficio. Por ejemplo, el análisis estructural (generalmente) no implica transferencia de calor o voltajes. Por lo tanto, los elementos utilizados para modelar estructuras no deben tener TEMP o VOLT DOF. "
   ]
  },
  {
   "cell_type": "markdown",
   "metadata": {},
   "source": [
    "<div style=\"text-align: right\"> <a href=\"#TOC\">Volver a la Tabla de Contenido</a> </div>"
   ]
  },
  {
   "cell_type": "markdown",
   "metadata": {},
   "source": [
    "### Pasos en la solución por el FEM"
   ]
  },
  {
   "cell_type": "markdown",
   "metadata": {},
   "source": [
    "#### Discretización la estructura en elementos. "
   ]
  },
  {
   "cell_type": "markdown",
   "metadata": {},
   "source": [
    "Estos elementos están conectados entre sí a través de nodos.\n",
    "\n",
    "<p float=\"center\">\n",
    "  <img src=\"https://github.com/carlosalvarezh/FEM/blob/main/images/C0_F13_DOF2D.PNG?raw=true\" width=\"350\" />\n",
    "</p>\n",
    "\n",
    "<div style=\"text-align: right\"> Fuente: <a href=\"https://mechanicalc.com/reference/finite-element-analysis\">mechanicalc.com</a> </div>\n",
    "\n",
    "\n",
    "En este primer paso, se compone un modelo matemático de la estructura. Este modelo es una aproximación de la estructura, mientras que la estructura física es continua, el modelo consta de elementos discretos.\n",
    "\n",
    "En este ejemplo se utiliza elementos tipo viga que se basan en la [teoría de vigas de Euler-Bernoulli](https://en.wikipedia.org/wiki/Euler%E2%80%93Bernoulli_beam_theory). El elemento tiene $2$ nodos, cada uno de los cuales tiene $3$ grados de libertad: traslación en $x$, traslación en $y$ y rotación."
   ]
  },
  {
   "cell_type": "markdown",
   "metadata": {},
   "source": [
    "#### Matriz de rigidez local para cada elemento"
   ]
  },
  {
   "cell_type": "markdown",
   "metadata": {},
   "source": [
    "Esta matriz representa la rigidez de cada nodo en el elemento en un grado de libertad específico (es decir, determina el desplazamiento de cada nodo en cada grado de libertad bajo una carga dada). Debido a que cada uno de los nodos en el elemento de viga tiene $3$ grados de libertad, una matriz de $6 \\times 6$ puede describir completamente la rigidez del elemento.\n",
    "\n",
    "\\begin{equation}\n",
    "k^{(e)}=\n",
    "\\begin{bmatrix}\n",
    "\\frac{AE}{L} & 0 & 0 & -\\frac{AE}{L} & 0 & 0 \\\\\n",
    "0 & \\frac{12EI}{L^3} & \\frac{6EI}{L^2} & 0 & -\\frac{12EI}{L^3} & \\frac{6EI}{L^2}\\\\\n",
    "0 & \\frac{6EI}{L^2} & \\frac{4EI}{L} & 0 & -\\frac{6EI}{L^2} & \\frac{2EI}{L}\\\\\n",
    "-\\frac{AE}{L} & 0 & 0 & \\frac{AE}{L} & 0 & 0 \\\\\n",
    "0 & -\\frac{12EI}{L^3} & -\\frac{6EI}{L^2} & 0 & \\frac{12EI}{L^3} & -\\frac{6EI}{L^2}\\\\\n",
    "0 & \\frac{6EI}{L^2} & \\frac{2EI}{L} & 0 & -\\frac{6EI}{L^2} & \\frac{4EI}{L}\n",
    "\\end{bmatrix}\n",
    "\\end{equation}\n"
   ]
  },
  {
   "cell_type": "markdown",
   "metadata": {},
   "source": [
    "#### Ensamble de la matriz de rigidez global"
   ]
  },
  {
   "cell_type": "markdown",
   "metadata": {},
   "source": [
    "La matriz de rigidez global para la estructura general se ensambla basándose en la combinación de las matrices de rigidez local. En un nivel alto, la matriz de rigidez global se crea sumando las matrices de rigidez locales:\n",
    "\n",
    "$$\\left[ K\\right]=\\sum_i \\left[ k_i^{(e)}\\right]$$\n",
    "\n",
    "donde la matriz $[k^{(e)}_i]$ es la matriz de rigidez local del elemento $i$.\n",
    "\n",
    "La matriz de rigidez global será una matriz cuadrada $n \\times n$, donde $n$ es $3$ veces el número de nodos en la malla (ya que cada nodo tiene $3$ grados de libertad). Al ensamblar la matriz de rigidez global, los términos de rigidez para cada nodo en la matriz de rigidez elemental se colocan en la ubicación correspondiente en la matriz global. Para cualquier elemento que comparta un nodo, las contribuciones de rigidez de ese nodo se sumarán de cada elemento."
   ]
  },
  {
   "cell_type": "markdown",
   "metadata": {},
   "source": [
    "#### Vector de fuerza aplicada"
   ]
  },
  {
   "cell_type": "markdown",
   "metadata": {},
   "source": [
    "El vector de fuerza aplicada será un vector $n \\times 1$, donde $n$ es $3$ veces el número de nodos en la malla. El vector de fuerza se ensambla incluyendo las fuerzas aplicadas en cada grado de libertad en cada nodo de la malla:\n",
    "\n",
    "$$\\left\\{ F\\right\\} =\\sum_i \\left\\{ f_i^{(e)} \\right\\}$$\n",
    "\n",
    "Una vez que se construyen la matriz de rigidez global y el vector de fuerza aplicada, se pueden resolver los desplazamientos nodales. La siguiente ecuación relaciona las fuerzas y los desplazamientos en la estructura general:\n",
    "\n",
    "$$\\left\\{F\\right\\}+\\left\\{R\\right\\}=\\left[K\\right]\\left\\{U\\right\\}$$\n",
    "\n",
    "donde \n",
    "\n",
    "- $\\left\\{F\\right\\}$ es el vector de fuerza aplicada, \n",
    "\n",
    "\n",
    "- $\\left\\{R\\right\\}$ es el vector de reacción externa, \n",
    "\n",
    "\n",
    "- $\\left[K\\right]$ es la matriz de rigidez global, y\n",
    "\n",
    "\n",
    "- $\\left\\{U\\right\\}$ es el vector de desplazamiento nodal.\n",
    "\n",
    "En la ecuación anterior, $\\left\\{R\\right\\}$ y $\\left\\{U\\right\\}$ son incógnitas. Para simplificar la solución de esta ecuación, se desea resolver las reacciones y los desplazamientos independientemente unos de otros. Para hacer esto, podemos usar el hecho de que para cada restricción que se aplicó (ya sea una restricción en traslación en $x$, traslación en $y$, o rotación), el desplazamiento asociado con esa restricción será cero. Además, las reacciones externas solo ocurrirán donde se aplicaron restricciones. Por lo tanto, se sabe que para cada grado de libertad en cada nodo:\n",
    "\n",
    "- Si se aplica una restricción, el desplazamiento en esa restricción será cero y la reacción externa puede ser distinta de cero.\n",
    "\n",
    "\n",
    "- Si no hay restricción, la reacción externa será cero y el desplazamiento puede ser distinto de cero."
   ]
  },
  {
   "cell_type": "markdown",
   "metadata": {},
   "source": [
    "#### Aplicar condiciones de contorno y resolver los desplazamientos nodales"
   ]
  },
  {
   "cell_type": "markdown",
   "metadata": {},
   "source": [
    "Inicialmente resolveremos la ecuación anterior para los desplazamientos nodales, $\\left\\{U\\right\\}$. Con base en el razonamiento anterior, es posible eliminar el vector $\\left\\{R\\right\\}$ de la ecuación. Las condiciones de contorno se aplican a la ecuación \"poniendo a cero\" las filas en las matrices correspondientes a las restricciones aplicadas. Al hacer esto, no hemos perdido ninguna información sobre los desplazamientos nodales, ya que se sabe que los desplazamientos serán cero para cada fila que se puso a cero. Ahora la ecuación se ha reducido a:\n",
    "\n",
    "$$\\left\\{F\\right\\}=\\left[K\\right]\\left\\{U\\right\\}$$"
   ]
  },
  {
   "cell_type": "markdown",
   "metadata": {},
   "source": [
    "#### Resolver las reacciones externas"
   ]
  },
  {
   "cell_type": "markdown",
   "metadata": {},
   "source": [
    "La ecuación anterior se puede resolver para $\\left\\{U\\right\\}$, después de lo cual se conocen todos los desplazamientos nodales. La única incógnita que queda en la ecuación original es $\\left\\{R\\right\\}$, y esto ahora se puede resolver para:\n",
    "\n",
    "$$\\left\\{R\\right\\}=\\left[K\\right]\\left\\{U\\right\\}-\\left\\{F\\right\\}$$\n",
    "\n",
    "Ahora es posible resolver las fuerzas en cada nodo."
   ]
  },
  {
   "cell_type": "markdown",
   "metadata": {},
   "source": [
    "#### Resolver las fuerzas nodales"
   ]
  },
  {
   "cell_type": "markdown",
   "metadata": {},
   "source": [
    "Para cualquier fuerza de reacción encontrada, la fuerza nodal es igual a la fuerza de reacción. Sin embargo, para los nodos donde no hay una reacción externa, las fuerzas en el nodo aún se desconocen. Estos se pueden encontrar extrayendo los desplazamientos apropiados del vector $\\left\\{U\\right\\}$ global para construir un vector $\\left\\{u\\right\\}$ local para cada elemento. Cada uno de estos vectores locales será un $6 \\times 1$. Las fuerzas nodales en cada elemento se pueden resolver usando:\n",
    "\n",
    "$$\\left\\{f\\right\\} = \\left[k\\right] \\left\\{u\\right\\}$$\n",
    "\n",
    "donde \n",
    "\n",
    "- $\\left\\{f\\right\\}$ es el vector de fuerza del elemento (local), \n",
    "\n",
    "\n",
    "- $\\left[k\\right]$ es la matriz de rigidez del elemento, y \n",
    "\n",
    "\n",
    "- $\\left\\{u\\right\\}$ es el vector de desplazamiento del elemento. "
   ]
  },
  {
   "cell_type": "markdown",
   "metadata": {},
   "source": [
    "#### Resolver las tensiones"
   ]
  },
  {
   "cell_type": "markdown",
   "metadata": {},
   "source": [
    "Una vez que se conocen las fuerzas en cada nodo de la malla, es posible resolver los esfuerzo en cada nodo:\n",
    "\n",
    "| Esfuerzo axial |Esfuerzo cortante|Esfuerzo a flexión|Esfuerzos de von Mises|\n",
    "|:--------------:|:---------------:|:----------------:|:--------------------:|\n",
    "|$$\\sigma_{ax}=\\frac{F_{ax}}{A}$$ |$$\\tau_{sh}=\\frac{F_{sh}}{A}$$|$$\\sigma_b=\\frac{Mc}{I}$$|$$\\sigma_{vm}=\\sqrt{(\\sigma_{ax}+\\sigma_b)^2+3\\tau_{sh}^2}$$|\n"
   ]
  },
  {
   "cell_type": "markdown",
   "metadata": {},
   "source": [
    "<div style=\"text-align: right\"> <a href=\"#TOC\">Volver a la Tabla de Contenido</a> </div>"
   ]
  },
  {
   "cell_type": "markdown",
   "metadata": {},
   "source": [
    "### Aspectos computacionales del FEM"
   ]
  },
  {
   "cell_type": "markdown",
   "metadata": {},
   "source": [
    "Coming soon..."
   ]
  },
  {
   "cell_type": "markdown",
   "metadata": {},
   "source": [
    "<div style=\"text-align: right\"> <a href=\"#TOC\">Volver a la Tabla de Contenido</a> </div>"
   ]
  },
  {
   "cell_type": "code",
   "execution_count": 1,
   "metadata": {
    "scrolled": true
   },
   "outputs": [
    {
     "data": {
      "text/html": [
       "\n",
       "<link href='http://fonts.googleapis.com/css?family=Fenix' rel='stylesheet' type='text/css'>\n",
       "<link href='http://fonts.googleapis.com/css?family=Alegreya+Sans:100,300,400,500,700,800,900,100italic,300italic,400italic,500italic,700italic,800italic,900italic' rel='stylesheet' type='text/css'>\n",
       "<link href='http://fonts.googleapis.com/css?family=Source+Code+Pro:300,400' rel='stylesheet' type='text/css'>\n",
       "\n",
       "<style>\n",
       "\n",
       "/*\n",
       "Template for Notebooks for Numerical analysis.\n",
       "\n",
       "Based on Lorena Barba template available at:\n",
       "\n",
       "    https://github.com/barbagroup/AeroPython/blob/master/styles/custom.css\n",
       "*/\n",
       "\n",
       "/* Fonts */\n",
       "@font-face {\n",
       "font-family: \"Computer Modern\";\n",
       "src: url('http://mirrors.ctan.org/fonts/cm-unicode/fonts/otf/cmunss.otf');\n",
       "}\n",
       "\n",
       "/* Text */\n",
       "div.cell{\n",
       "width:800px;\n",
       "margin-left:16% !important;\n",
       "margin-right:auto;\n",
       "}\n",
       "h1 {\n",
       "font-family: 'Alegreya Sans', sans-serif;\n",
       "}\n",
       "h2 {\n",
       "font-family: 'Fenix', serif;\n",
       "}\n",
       "h3{\n",
       "font-family: 'Fenix', serif;\n",
       "margin-top:12px;\n",
       "margin-bottom: 3px;\n",
       "}\n",
       "h4{\n",
       "font-family: 'Fenix', serif;\n",
       "}\n",
       "h5 {\n",
       "font-family: 'Alegreya Sans', sans-serif;\n",
       "}\t\n",
       "div.text_cell_render{\n",
       "font-family: 'Alegreya Sans',Computer Modern, \"Helvetica Neue\", Arial, Helvetica, Geneva, sans-serif;\n",
       "line-height: 135%;\n",
       "font-size: 120%;\n",
       "width:600px;\n",
       "margin-left:auto;\n",
       "margin-right:auto;\n",
       "}\n",
       ".CodeMirror{\n",
       "font-family: \"Source Code Pro\";\n",
       "font-size: 90%;\n",
       "}\n",
       "/* .prompt{\n",
       "display: None;\n",
       "}*/\n",
       ".text_cell_render h1 {\n",
       "font-weight: 200;\n",
       "font-size: 25pt;\n",
       "line-height: 100%;\n",
       "color:#CD2305;\n",
       "margin-bottom: 0.5em;\n",
       "margin-top: 0.5em;\n",
       "display: block;\n",
       "}\t\n",
       ".text_cell_render h5 {\n",
       "font-weight: 300;\n",
       "font-size: 16pt;\n",
       "color: #CD2305;\n",
       "font-style: italic;\n",
       "margin-bottom: .5em;\n",
       "margin-top: 0.5em;\n",
       "display: block;\n",
       "}\n",
       ".warning{\n",
       "color: rgb( 240, 20, 20 )\n",
       "}\n",
       "</style>\n",
       "\n",
       "<script>\n",
       "/* Equations */\n",
       "\n",
       "MathJax.Hub.Config({\n",
       "TeX: {\n",
       "extensions: [\"AMSmath.js\"]\n",
       "},\n",
       "tex2jax: {\n",
       "inlineMath: [ ['$','$'], [\"\\\\(\",\"\\\\)\"] ],\n",
       "displayMath: [ ['$$','$$'], [\"\\\\[\",\"\\\\]\"] ]\n",
       "},\n",
       "displayAlign: 'center', // Change this to 'center' to center equations.\n",
       "\"HTML-CSS\": {\n",
       "styles: {'.MathJax_Display': {\"margin\": 4}}\n",
       "}\n",
       "});\n",
       "</script>\n",
       "\n",
       "\n"
      ],
      "text/plain": [
       "<IPython.core.display.HTML object>"
      ]
     },
     "execution_count": 1,
     "metadata": {},
     "output_type": "execute_result"
    }
   ],
   "source": [
    "from IPython.core.display import HTML\n",
    "def css_styling():\n",
    "    styles = open('./nb_style.css', 'r').read()\n",
    "    return HTML(styles)\n",
    "css_styling()"
   ]
  }
 ],
 "metadata": {
  "kernelspec": {
   "display_name": "Python 3",
   "language": "python",
   "name": "python3"
  },
  "language_info": {
   "codemirror_mode": {
    "name": "ipython",
    "version": 3
   },
   "file_extension": ".py",
   "mimetype": "text/x-python",
   "name": "python",
   "nbconvert_exporter": "python",
   "pygments_lexer": "ipython3",
   "version": "3.6.13"
  },
  "toc": {
   "base_numbering": 1,
   "nav_menu": {},
   "number_sections": true,
   "sideBar": true,
   "skip_h1_title": true,
   "title_cell": "Tabla de Contenidos",
   "title_sidebar": "Contenidos",
   "toc_cell": true,
   "toc_position": {
    "height": "calc(100% - 180px)",
    "left": "10px",
    "top": "150px",
    "width": "211px"
   },
   "toc_section_display": true,
   "toc_window_display": true
  }
 },
 "nbformat": 4,
 "nbformat_minor": 2
}
