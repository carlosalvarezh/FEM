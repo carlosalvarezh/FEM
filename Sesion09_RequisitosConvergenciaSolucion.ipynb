{
 "cells": [
  {
   "cell_type": "markdown",
   "id": "bd305fda",
   "metadata": {},
   "source": [
    "<h1 align=\"center\"><b>Introducción al estudio del Método de los Elementos Finitos</b></h1>\n",
    "\n",
    "<h1 align=\"center\"><b>Una aproximación al análisis estático lineal</b></h1>\n",
    "\n",
    "<h1 align=\"center\"><b>Requisitos para la convergencia de la solución</b></h1>"
   ]
  },
  {
   "cell_type": "markdown",
   "id": "b4418b7c",
   "metadata": {},
   "source": [
    "<table>\n",
    " <tr align=left><td><img align=left src=\"https://github.com/carlosalvarezh/CFD_Applied/blob/master/figs/CC-BY.png?raw=true\">\n",
    " <td>Text provided under a Creative Commons Attribution license, CC-BY. All code is made available under the FSF-approved MIT license.(c) Carlos Alberto Alvarez Henao</td>\n",
    "</table>"
   ]
  },
  {
   "cell_type": "markdown",
   "id": "9a9bdeed",
   "metadata": {},
   "source": [
    "*** \n",
    "\n",
    "***Docente:*** Carlos Alberto Álvarez Henao, I.C. D.Sc.\n",
    "\n",
    "***e-mail:*** carlosalvarezh@gmail.com\n",
    "\n",
    "***skype:*** carlos.alberto.alvarez.henao\n",
    "\n",
    "***Herramienta:*** [Jupyter Notebook](http://jupyter.org/)\n",
    "\n",
    "***Kernel:*** Python 3.8\n",
    "\n",
    "***MEDELLÍN - COLOMBIA***\n",
    "\n",
    "***2021/02***\n",
    "\n",
    "***"
   ]
  },
  {
   "cell_type": "markdown",
   "id": "039baec1",
   "metadata": {},
   "source": [
    "<a id='TOC'></a>"
   ]
  },
  {
   "cell_type": "markdown",
   "id": "c7b0dea1",
   "metadata": {
    "toc": true
   },
   "source": [
    "<h1>Tabla de Contenidos<span class=\"tocSkip\"></span></h1>\n",
    "<div class=\"toc\"><ul class=\"toc-item\"><li><span><a href=\"#Selección-del-tipo-de-elemento-y-requisitos-para-la-convergencia-de-la-solución\" data-toc-modified-id=\"Selección-del-tipo-de-elemento-y-requisitos-para-la-convergencia-de-la-solución-6\"><span class=\"toc-item-num\">6&nbsp;&nbsp;</span>Selección del tipo de elemento y requisitos para la convergencia de la solución</a></span><ul class=\"toc-item\"><li><span><a href=\"#Selección-del-tipo-de-elemento\" data-toc-modified-id=\"Selección-del-tipo-de-elemento-6.1\"><span class=\"toc-item-num\">6.1&nbsp;&nbsp;</span>Selección del tipo de elemento</a></span></li><li><span><a href=\"#Requisitos-para-la-convergencia-de-la-solución\" data-toc-modified-id=\"Requisitos-para-la-convergencia-de-la-solución-6.2\"><span class=\"toc-item-num\">6.2&nbsp;&nbsp;</span>Requisitos para la convergencia de la solución</a></span><ul class=\"toc-item\"><li><span><a href=\"#Introducción\" data-toc-modified-id=\"Introducción-6.2.1\"><span class=\"toc-item-num\">6.2.1&nbsp;&nbsp;</span>Introducción</a></span></li><li><span><a href=\"#Condición-de-continuidad\" data-toc-modified-id=\"Condición-de-continuidad-6.2.2\"><span class=\"toc-item-num\">6.2.2&nbsp;&nbsp;</span>Condición de continuidad</a></span></li><li><span><a href=\"#Condición-de-derivabilidad\" data-toc-modified-id=\"Condición-de-derivabilidad-6.2.3\"><span class=\"toc-item-num\">6.2.3&nbsp;&nbsp;</span>Condición de derivabilidad</a></span></li><li><span><a href=\"#Condición-de-integrabilidad\" data-toc-modified-id=\"Condición-de-integrabilidad-6.2.4\"><span class=\"toc-item-num\">6.2.4&nbsp;&nbsp;</span>Condición de integrabilidad</a></span></li><li><span><a href=\"#Criterio-de-la-parcela\" data-toc-modified-id=\"Criterio-de-la-parcela-6.2.5\"><span class=\"toc-item-num\">6.2.5&nbsp;&nbsp;</span>Criterio de la parcela</a></span></li><li><span><a href=\"#Condición-de-gradiente-constante\" data-toc-modified-id=\"Condición-de-gradiente-constante-6.2.6\"><span class=\"toc-item-num\">6.2.6&nbsp;&nbsp;</span>Condición de gradiente constante</a></span></li><li><span><a href=\"#Condición-de-gradiente-nulo\" data-toc-modified-id=\"Condición-de-gradiente-nulo-6.2.7\"><span class=\"toc-item-num\">6.2.7&nbsp;&nbsp;</span>Condición de gradiente nulo</a></span></li><li><span><a href=\"#Ejemplo---Test-de-la-parcela\" data-toc-modified-id=\"Ejemplo---Test-de-la-parcela-6.2.8\"><span class=\"toc-item-num\">6.2.8&nbsp;&nbsp;</span>Ejemplo - Test de la parcela</a></span></li></ul></li><li><span><a href=\"#Otros-requisitos-para-la-aproximación-de-Elementos-Finitos\" data-toc-modified-id=\"Otros-requisitos-para-la-aproximación-de-Elementos-Finitos-6.3\"><span class=\"toc-item-num\">6.3&nbsp;&nbsp;</span>Otros requisitos para la aproximación de Elementos Finitos</a></span><ul class=\"toc-item\"><li><span><a href=\"#Condición-de-compatibilidad\" data-toc-modified-id=\"Condición-de-compatibilidad-6.3.1\"><span class=\"toc-item-num\">6.3.1&nbsp;&nbsp;</span>Condición de compatibilidad</a></span></li><li><span><a href=\"#Condición-de-completitud\" data-toc-modified-id=\"Condición-de-completitud-6.3.2\"><span class=\"toc-item-num\">6.3.2&nbsp;&nbsp;</span>Condición de completitud</a></span></li><li><span><a href=\"#Ejemplos-de-Polinomios-y-aproximaciones-completas-e-incompletas\" data-toc-modified-id=\"Ejemplos-de-Polinomios-y-aproximaciones-completas-e-incompletas-6.3.3\"><span class=\"toc-item-num\">6.3.3&nbsp;&nbsp;</span>Ejemplos de Polinomios y aproximaciones completas e incompletas</a></span></li><li><span><a href=\"#Condición-de-estabilidad\" data-toc-modified-id=\"Condición-de-estabilidad-6.3.4\"><span class=\"toc-item-num\">6.3.4&nbsp;&nbsp;</span>Condición de estabilidad</a></span></li><li><span><a href=\"#Condición-de-invarianza\" data-toc-modified-id=\"Condición-de-invarianza-6.3.5\"><span class=\"toc-item-num\">6.3.5&nbsp;&nbsp;</span>Condición de invarianza</a></span></li></ul></li><li><span><a href=\"#Consideraciones-sobre-compatibilidad-y-equilibrio-de-la-solución\" data-toc-modified-id=\"Consideraciones-sobre-compatibilidad-y-equilibrio-de-la-solución-6.4\"><span class=\"toc-item-num\">6.4&nbsp;&nbsp;</span>Consideraciones sobre compatibilidad y equilibrio de la solución</a></span></li><li><span><a href=\"#Condiciones-para-la-convergencia-de-los-elementos-isoparamétricos\" data-toc-modified-id=\"Condiciones-para-la-convergencia-de-los-elementos-isoparamétricos-6.5\"><span class=\"toc-item-num\">6.5&nbsp;&nbsp;</span>Condiciones para la convergencia de los elementos isoparamétricos</a></span></li><li><span><a href=\"#Tipos-de-error-en-la-solución-por-elementos-finitos\" data-toc-modified-id=\"Tipos-de-error-en-la-solución-por-elementos-finitos-6.6\"><span class=\"toc-item-num\">6.6&nbsp;&nbsp;</span>Tipos de error en la solución por elementos finitos</a></span><ul class=\"toc-item\"><li><span><a href=\"#Error-de-discretización\" data-toc-modified-id=\"Error-de-discretización-6.6.1\"><span class=\"toc-item-num\">6.6.1&nbsp;&nbsp;</span>Error de discretización</a></span></li><li><span><a href=\"#Error-de-aproximación-de-la-geometría\" data-toc-modified-id=\"Error-de-aproximación-de-la-geometría-6.6.2\"><span class=\"toc-item-num\">6.6.2&nbsp;&nbsp;</span>Error de aproximación de la geometría</a></span></li><li><span><a href=\"#Error-en-el-cálculo-de-las-integrales-del-elemento\" data-toc-modified-id=\"Error-en-el-cálculo-de-las-integrales-del-elemento-6.6.3\"><span class=\"toc-item-num\">6.6.3&nbsp;&nbsp;</span>Error en el cálculo de las integrales del elemento</a></span></li><li><span><a href=\"#Errores-en-la-solución-del-sistema-de-ecuaciones\" data-toc-modified-id=\"Errores-en-la-solución-del-sistema-de-ecuaciones-6.6.4\"><span class=\"toc-item-num\">6.6.4&nbsp;&nbsp;</span>Errores en la solución del sistema de ecuaciones</a></span></li><li><span><a href=\"#Ejemplo---Error-de-truncamiento\" data-toc-modified-id=\"Ejemplo---Error-de-truncamiento-6.6.5\"><span class=\"toc-item-num\">6.6.5&nbsp;&nbsp;</span>Ejemplo - Error de truncamiento</a></span></li><li><span><a href=\"#Errores-asociados-a-la-ecuación-constitutiva\" data-toc-modified-id=\"Errores-asociados-a-la-ecuación-constitutiva-6.6.6\"><span class=\"toc-item-num\">6.6.6&nbsp;&nbsp;</span>Errores asociados a la ecuación constitutiva</a></span></li></ul></li></ul></li></ul></div>"
   ]
  },
  {
   "cell_type": "markdown",
   "id": "932c0693",
   "metadata": {},
   "source": [
    "## Selección del tipo de elemento y requisitos para la convergencia de la solución"
   ]
  },
  {
   "cell_type": "markdown",
   "id": "6c2907ef",
   "metadata": {},
   "source": [
    "### Selección del tipo de elemento"
   ]
  },
  {
   "cell_type": "markdown",
   "id": "5c6f8b39",
   "metadata": {},
   "source": [
    "Una de las primeras decisiones en el cálculo de una estructura por elementos finitos es seleccionar el elemento que se va a utilizar para el análisis. Esta es una decisión importante y en ningún caso inmediata, puesto que, como hemos visto para el sencillo problema unidimensional, existen varios tipos de elementos utilizables todos ellos con diferentes grados de precisión.\n",
    "\n",
    "Quizás habría que conenzar diciendo que la selección de un determinado elemento es una decisión totalmente personal del calculista que tiene que pronunciarse en base a: 1) las características propias del problema a analizar; 2) los tipos de elementos, programas de cálculo y capacidad de ordenador disponibles; y 3) la experiencia acumulada en la solución de problemas similares por el método de los elementos finitos.\n",
    "\n",
    "No obstante estos planteamientos tan generales, existen unas mínimas normas que pueden tenerse en cuenta a la hora de seleccionar un elemento finito. Dichas normas son:\n",
    "\n",
    "1. En caso de que se tenga una cierta idea de la forma polinómica de la solución, conviene utilizar elementos con funciones de forma del mismo grado que la solución conocida. Esto no sólo favorece la obtención de la solución exacta en los nodos, sino también garantiza que la variación de los desplazamientos en el interior de cada elemento es la correcta. Desafortunadamente, esta situación no ocurre en la mayor parte de los casos de interés práctico.\n",
    "\n",
    "\n",
    "2. En zonas donde se intuya que pueden existir gradientes elevados es más adecuado utilizar elementos de mayor orden. Por el contrario, en zonas donde dicha variación sea más uniforme puede obtenerse una buena aproximación con elementos menos precisos.\n",
    "\n",
    "\n",
    "3. Dadas las crecientes posibilidades de rapidez de cálculo y de capacidad de almacenamiento de los ordenadores actuales, se recomienda utilizar elementos finitos sencillos (pocos nodos) frente a elementos más complejos (muchos nodos).\n",
    "\n",
    "Es evidente que los elemestos más sencillos tienen una capacidad menor de aproximar soluciones en las que el campo de desplazamientos \"exacto\" sea una función polinómica de alto grado. Por consiguiente, para obtener una buena aproximación en dichos casos será necesario utilizar un mayor número de elementos que si se emplearan directamente elementos de órdenes superiores. Una representación simbólica de esta situación se describe en la Figura 6.1. \n",
    "\n",
    "<a id='Fig6_1'></a>\n",
    "<p float=\"center\">\n",
    "  <img src=\"https://github.com/carlosalvarezh/FEM/blob/main/images/C06_F01_AproximacionSolucion.PNG?raw=true\" width=\"350\" />\n",
    "</p>\n",
    "<div style=\"text-align: center\"><strong>Figura 6.1.</strong>Aproximación de una solución emple, por Oñate, <a href=\"https://books.cimne.com/product/calculo-de-estructuras-por-el-metodo-de-los-elementos-finitos-analisis-estatico-lineal-vol-1/\"> Cálculo de Estructuras por el Método de los Elementos Finitos. Análisis Estático Lineal. Volumen 1. Sólidos. </a></div>\n",
    "\n",
    "Obviamente, para representar con precisión la solución de tercer grado de dicha figura con elementos lineales de dos nodos necesitamos un gran número de elementos, mientras que utilizando un solo elemento cúbico de cuatro nodos la aproximación es exacta. Sin embargo, la mayor sencillez de los elementos de menor orden hace que el cálculo de las matrices del elemento sea más económico que en el caso de elementos más complejos. Esto justifica la competitividad de los primeros, aún utilizándose en mayor número, puesto que los problemas asociados al mayor número de variables son cada vez menos importantes, dado el creciente avance en velocidad de los computadores. La disyuntiva surge al tener que escoger un elemento de entre dos de órdenes similares. En este caso es claramente la experiencia del calculista la que decide, aunque, como regla práctica, en caso de duda se recomienda utilizar siempre el elemento más sencillo."
   ]
  },
  {
   "cell_type": "markdown",
   "id": "0e72d536",
   "metadata": {},
   "source": [
    "### Requisitos para la convergencia de la solución"
   ]
  },
  {
   "cell_type": "markdown",
   "id": "24ae37cf",
   "metadata": {},
   "source": [
    "#### Introducción"
   ]
  },
  {
   "cell_type": "markdown",
   "id": "72d64738",
   "metadata": {},
   "source": [
    "La aproximación de elementos finitos debe satisfacer ciertas condiciones que garanticen que a medida que se utilicen más elementos, la solución se aproxime más a la exacta. En la práctica, debido a condiciones externas al propio análisis, tales como la falta de tiempo o aspectos económicos, generalmente se suelen efectuar uno o como máximo dos análisis con dos mallas diferentes. No obstante, es importante estar seguros de que, dadas las condiciones ideales de tiempo y capacidad de ordenador, seríamos capaces de aproximar suficientemente la solución exacta mediante refinamientos sucesivos de la malla.\n",
    "\n",
    "Dentro de este contexto las condiciones esenciales para la convergencia de la solución de elementos finitos son las siguientes:"
   ]
  },
  {
   "cell_type": "markdown",
   "id": "aa725da7",
   "metadata": {},
   "source": [
    "#### Condición de continuidad"
   ]
  },
  {
   "cell_type": "markdown",
   "id": "c30ef31e",
   "metadata": {},
   "source": [
    "La aproximación de $\\phi$ debe ser continua en el interior de cada elemento. Esta evidente condición se satisface automáticamente al utilizar aproximaciones polinómicas. Por consiguiente, en la práctica no hay que preocuparse de ella."
   ]
  },
  {
   "cell_type": "markdown",
   "id": "3da2215d",
   "metadata": {},
   "source": [
    "#### Condición de derivabilidad"
   ]
  },
  {
   "cell_type": "markdown",
   "id": "9fe69a03",
   "metadata": {},
   "source": [
    "Es obvio que la aproximación polinómica escogida debe ser derivable al menos hasta el orden de las derivadas que aparecen en las integrales del problema. En caso contrario, nunca se podrían reproducir con la aproximación de elementos finitos todos los términos de dichas integrales.\n",
    "\n",
    "Así, por ejemplo, en el problema unidimensional estudiado en los apartados anteriores la forma integral débil no contiene derivadas de orden mayor al primero, lo que exige simplemente que las funciones de forma sean, al menos, polinomios de primer grado.\n"
   ]
  },
  {
   "cell_type": "markdown",
   "id": "680ceb56",
   "metadata": {},
   "source": [
    "#### Condición de integrabilidad"
   ]
  },
  {
   "cell_type": "markdown",
   "id": "bbbd2b3f",
   "metadata": {},
   "source": [
    "<a id='Fig6_2'></a>\n",
    "<p float=\"center\">\n",
    "  <img src=\"https://github.com/carlosalvarezh/FEM/blob/main/images/C06_F02_CondicionIntegrabilidad.PNG?raw=true\" width=\"350\" />\n",
    "</p>\n",
    "<div style=\"text-align: center\"><strong>Figura 6.2.</strong>Condición de integrabilidad, por Oñate, <a href=\"https://books.cimne.com/product/calculo-de-estructuras-por-el-metodo-de-los-elementos-finitos-analisis-estatico-lineal-vol-1/\"> Cálculo de Estructuras por el Método de los Elementos Finitos. Análisis Estático Lineal. Volumen 1. Sólidos. </a></div>\n",
    "\n",
    "Lógicamente, las funciones de forma deben ser tales que las integrales de la forma débil tengan función primitiva. Para explicar esta condición consideremos el sencillo ejemplo de la Figura $6.2$ donde se ha representado una función lineal continua $f(x)$ y sus dos primeras derivadas. Vemos que la integral de $f(x)$ en el intervalo considerado existe y es igual al área rayada de la figura. Asimismo, existe la integral de su primera derivada $f^{\\prime}(x)$ pese a que no es una función continua. Finalmente, vemos que la derivada segunda $f^{\\prime \\prime}(x)$ tiene puntos singulares, fruto de la discontinuidad de $f^{\\prime}(x)$ y no es integrable. Por consiguiente, la regla general que se deduce de este sencillo ejemplo es la siguiente: ***la derivada de orden $m$ de una función es integrable si son continuas sus $m-1$ primeras derivadas***.\n",
    "\n",
    "Así, pues, trasladando lo anterior al problema de elementos finitos diremos que si en la forma débil aparecen derivadas de la incógnita de orden $m$, las funciones de forma utilizadas para aproximar la incógnita, deben tener continuidad de clase $C^{m-1}$.\n",
    "\n",
    "Como ejemplo consideremos el sencillo problema unidimensional estudiado en apartados anteriores. Hemos visto que en las integrales aparecen unicamente derivadas de primer grado de $\\phi$, por tanto, de acuerdo con lo anterior, basta con que $\\phi$ sea simplemente continuo (continuidad de clase $C^{0}$ ). Dicha continuidad está garantizada en el interior del elemento al escoger funciones de forma polinómicas, $y$, entre elementos, al venir definido unívocamente $\\phi$ por un único valor en los nodos. Por consiguiente, la continuidad de la variable está totalmente garantizada.\n",
    "\n",
    "Esta condición es de gran importancia y hay que tenerla muy en cuenta a la hora de escoger las funciones de forma para cada problema.\n"
   ]
  },
  {
   "cell_type": "markdown",
   "id": "562e4b1d",
   "metadata": {},
   "source": [
    "#### Criterio de la parcela"
   ]
  },
  {
   "cell_type": "markdown",
   "id": "d8390d00",
   "metadata": {},
   "source": [
    "En la búsqueda de criterios sencillos para predecir la convergencia o divergencia de un elemento, [Irons](https://en.wikipedia.org/wiki/Bruce_Irons_(engineer)) estableció un procedimiento basado en un razonamiento de tipo fisico e intuitivo que prácticamente se ha establecido como el más adecuado y utilizado en la práctica para los fines citados.\n",
    "\n",
    "El método recibe el nombre de [criterio de la parcela](https://en.wikipedia.org/wiki/Patch_test_(finite_elements)) y se basa en seleccionar un conjunto, o parcela, de elementos y aplicar en los nodos del contorno de la parcela valores de $\\phi$ prescritos correspondientes a una solución conocida en toda ella. Se dice entonces que el elemento satisface el criterio de la parcela, lo que garantiza su convergencia si la solución obtenida para $\\phi$ y sus gradientes en el interior de la parcela coincide con la que se deduciría analíticamente del campo de $\\phi$ conocido.\n",
    "\n",
    "Esta sencilla y lógica prueba, fácil de aplicar en la mayoría de los casos, no se cumple sin embargo para algunos elementos, lo que según está comprobado los descalifica, en principio, para su utilización práctica.\n",
    "\n",
    "Del criterio de la parcela se desprenden dos importantes condiciones para la convergencia del elemento.\n"
   ]
  },
  {
   "cell_type": "markdown",
   "id": "0f0a0fb7",
   "metadata": {},
   "source": [
    "#### Condición de gradiente constante"
   ]
  },
  {
   "cell_type": "markdown",
   "id": "3aedb76b",
   "metadata": {},
   "source": [
    "A medida que la malla de elementos finitos se refina las condiciones dentro de cada elemento se aproximarán más a las de un estado de gradiente constante. Obviamente, todo elemento debe ser capaz de reproducir dicho estado para garantizar la convergencia en el límite.\n",
    "\n",
    "Esta condición correspondería a la aplicación del criterio de la parcela con un campo de $\\phi$ prescrito que produzca un estado de gradiente constante.\n"
   ]
  },
  {
   "cell_type": "markdown",
   "id": "67791700",
   "metadata": {},
   "source": [
    "#### Condición de gradiente nulo"
   ]
  },
  {
   "cell_type": "markdown",
   "id": "27c4ca56",
   "metadata": {},
   "source": [
    "Al someter a un elemento, o una parcela de elementos, a un campo de $\\phi$ prescrito en su contorno correspondientes a un valor de $\\phi$ constante en todo el dominio sólido, debe obtenerse un estado de gradiente y flujo nulo en su interior; si no fuera así, dicho elemento puede no ser adecuado para reproducir estados de gradientes más complejos. Adviértase que éste es un caso particular del anterior para un gradiente constante igual a cero.\n",
    "\n",
    "La condición de gradiente nulo para un elemento aislado se satisface siempre y cuando la suma de las funciones de forma en cualquier punto del elemento valga la unidad.\n",
    "\n",
    "En efecto, supongamos el sencillo elemento de dos nodos ya estudiado, y apliquemos valores iguales $\\bar{\\phi}$ a los dos nodos del elemento. En el interior del elemento se tendrá\n",
    "\n",
    "$$\n",
    "\\phi=N_{1} \\bar{\\phi}+N_{2} \\bar{\\phi}=\\left(N_{1}+N_{2}\\right) \\bar{\\phi}\n",
    "$$\n",
    "\n",
    "Por consiguiente, para que $\\bar{\\phi}$ coincida con $\\phi$ en todo el elemento se ha de cumplir $N_{1}+N_{2}=1$, que es la condición buscada.\n",
    "\n",
    "Aclaremos el criterio de la parcela con un par de sencillos ejemplos.\n"
   ]
  },
  {
   "cell_type": "markdown",
   "id": "36b94ab8",
   "metadata": {},
   "source": [
    "#### Ejemplo - Test de la parcela"
   ]
  },
  {
   "cell_type": "markdown",
   "id": "62f9695b",
   "metadata": {},
   "source": [
    "<a id='Fig6_3'></a>\n",
    "<p float=\"center\">\n",
    "  <img src=\"https://github.com/carlosalvarezh/FEM/blob/main/images/C06_F03_TestParcela.PNG?raw=true\" width=\"450\" />\n",
    "</p>\n",
    "<div style=\"text-align: center\"><strong>Figura 6.3.</strong>Ejemplo test de la parcela, por Oñate, <a href=\"https://books.cimne.com/product/calculo-de-estructuras-por-el-metodo-de-los-elementos-finitos-analisis-estatico-lineal-vol-1/\"> Cálculo de Estructuras por el Método de los Elementos Finitos. Análisis Estático Lineal. Volumen 1. Sólidos. </a></div>\n",
    "\n",
    "Consideremos la malla de elementos finitos de la Figura 3.9. Todos los elementos tienen la misma longitud y propiedades del material. Aplicar el criterio de la parcela a la zona de la malla indicada compuesta por tres elementos de dos nodos\n",
    "\n",
    "***Solución:***\n",
    "\n",
    "- ***Caso a: Solución de gradiente constante***\n",
    "\n",
    "Supondremos conocida la solución $\\phi=l+x$ que proporciona un estado de gradiente en toda la malla e igual a $g=\\frac{d \\phi}{d x}=1$. En los extremos de la parcela escogida se tienen los siguientes movimientos prescritos:\n",
    "\n",
    "$$\n",
    "\\begin{aligned}\n",
    "&\\phi_{3}=l+3 l=4 l \\\\\n",
    "&\\phi_{6}=l+6 l=7 l\n",
    "\\end{aligned}\n",
    "$$\n",
    "\n",
    "Resolveremos el problema de elementos finitos de encontrar $\\phi_{4}$ y $\\phi_{5}$ en la parcela conocidos $\\phi_{3}$ y $\\phi_{6} .$ El sistema de ecuaciones a resolver es\n",
    "\n",
    "$$\n",
    "\\frac{EA}{l}\\left[\\begin{array}{rrrr}\n",
    "1 & -1 & 0 & 0 \\\\\n",
    "-1 & 2 & -1 & 0 \\\\\n",
    "0 & -1 & 2 & -1 \\\\\n",
    "0 & 0 & -1 & 1\n",
    "\\end{array}\\right]\\left\\{\\begin{array}{l}\n",
    "\\phi_{3} \\\\\n",
    "\\phi_{4} \\\\\n",
    "\\phi_{5} \\\\\n",
    "\\phi_{6}\n",
    "\\end{array}\\right\\}=\\left\\{\\begin{array}{c}\n",
    "R_{3} \\\\\n",
    "0 \\\\\n",
    "0 \\\\\n",
    "R_{6}\n",
    "\\end{array}\\right\\}\n",
    "$$\n",
    "\n",
    "del que se obtiene $\\phi_{4}=5 l$ y $\\phi_{5}=6 l$ que coinciden con los valores exactos correspondientes al campo de $\\phi$ prescrito. Asimismo, se puede comprobar fácilmente que\n",
    "\n",
    "$$\n",
    "\\begin{aligned}\n",
    "&g^{(3)}=-\\frac{1}{l} \\phi_{3}+\\frac{1}{l} \\phi_{4}=1 \\\\\n",
    "&g^{(4)}=-\\frac{1}{l} \\phi_{4}+\\frac{1}{l} \\phi_{5}=1 \\\\\n",
    "&g^{(5)}=-\\frac{1}{l} \\phi_{5}+\\frac{1}{l} \\phi_{6}=1\n",
    "\\end{aligned}\n",
    "$$\n",
    "\n",
    "lo que corresponde con la solución esperada. Así, pues, el elemento satisface el criterio de la parcela.\n",
    "\n",
    "- ***Caso b: Solución de gradiente nulo (o de cuerpo rígido)***\n",
    "\n",
    "Un caso particular del anterior es el de campo de $\\phi$ prescrito correspondiente a un valor de $\\phi$ constante, con gradiente nulo en toda la malla.\n",
    "\n",
    "Estudiando el comportamiento de la parcela de elementos para $\\phi=3 l$, lo que equivale a resolver el sistema de ecuaciones del caso (a) con $\\phi_{3}=$. $\\phi_{6}=3 l$, se obtiene $\\phi_{4}=\\phi_{5}=3 l$ con lo que el gradiente es nulo en toda la parcela y la solución coincide de nuevo con la prevista."
   ]
  },
  {
   "cell_type": "markdown",
   "id": "b11bf4af",
   "metadata": {},
   "source": [
    "### Otros requisitos para la aproximación de Elementos Finitos"
   ]
  },
  {
   "cell_type": "markdown",
   "id": "43391e01",
   "metadata": {},
   "source": [
    "Se estudiaran requisitos que deberían ser satisfechos en la aproximación de elementos finitos. Dichos requisitos no son estrictamente \"condiciones necesarias\" para la convergencia. No obstante, su cumplimiento es siempre deseable ya que en caso contrario pueden encontrarse situaciones en que se deteriore la convergencia o la precisión de la solución."
   ]
  },
  {
   "cell_type": "markdown",
   "id": "26cc8c97",
   "metadata": {},
   "source": [
    "#### Condición de compatibilidad"
   ]
  },
  {
   "cell_type": "markdown",
   "id": "ee2ee91a",
   "metadata": {},
   "source": [
    "La continuidad de clase $C^{0}$ exige que la aproximación sea continua entre elementos. Por consiguiente, no deben existir saltos entre los valores de las variables a lo largo de los lados o caras comunes entre elementos. Los elementos que satisfacen esta condición se denominan compatibles o conformes. Está demostrado que si se utiliza integración exacta para todas las matrices y vectores, los elementos conformes convergen siempre desde soluciones más rigidas que la \"exacta\".\n",
    "\n",
    "La condición de compatibilidad se satisface normalmente si se cumple el requisito de continuidad de la función aproximada en los nodos, lo que está garantizado al utilizar funciones de forma polinómicas con valor unidad en un nodo y cero en el resto. Esto puede no cumplirse en algunos casos como, por ejemplo, en algunos elementos de placa delgada basados en la [teoría de Kirchhoff](https://en.wikipedia.org/wiki/Kirchhoff%E2%80%93Love_plate_theory) y entonces los elementos son incompatibles o no conformes. Estos elementos pueden, sin embargo, ser válidos y converger a la solución correcta si al refinar progresivamente la malla desaparece la incompatibilidad y se consigue que el elemento reproduzca un estado de deformación constante.\n",
    "\n",
    "Curiosamente, los elementos incompatibles son a veces más competitivos. Esto es debido a que las discontinuidades mencionadas tienden a flexibilizar la solución, lo que equilibra el efecto de rigidez intrínseco a la aproximación polinómica de elementos finitos, obteniéndose a veces resultados sorprendentemente buenos con mallas gruesas. No obstante, éste es un efecto poco predecible y además impide conocer a priori si la solución es por exceso o por defecto ya que no es posible garantizar que la aproximación de elementos finitos es más \"rigida\" que la exacta, lo que sí se cumple en elementos compatibles.\n",
    "\n",
    "En resumen, para garantizar la convergencia debe satiofacerse la condición de compatibilidad al ir refinando progresivamente la malla. Por tanto, el incumplimiento de dicha condición en una malla gruesa no implica que la solución no sea válida y que la convergencia no sea alcanzable.\n"
   ]
  },
  {
   "cell_type": "markdown",
   "id": "a7301278",
   "metadata": {},
   "source": [
    "#### Condición de completitud"
   ]
  },
  {
   "cell_type": "markdown",
   "id": "e53e1c22",
   "metadata": {},
   "source": [
    "Para explicar esta condición de manera sencilla recordemos que la solución polinómica de elementos finitos equivale a aproximar un cierto número de términos del desarrollo en serie de Taylor de la solución exacta, que en el entorno del punto $x_{i}$ se expresa por\n",
    "\n",
    "$$\n",
    "\\phi(x)=\\phi\\left(x_{i}\\right)+\\frac{1}{1 !}\\left(\\frac{d \\phi}{d x}\\right)_{i}\\left(x-x_{i}\\right)+\\frac{1}{2 !}\\left(\\frac{d^{2} \\phi}{d x^{2}}\\right)_{i}\\left(x-x_{i}\\right)^{2}+\\cdots+\\frac{1}{n !}\\left(\\frac{d^{n} \\phi}{d x^{n}}\\right)_{i}\\left(x-x_{i}\\right)^{n}\n",
    "$$\n",
    "\n",
    "Por otra parte, la aproximación de elementos finitos proporciona una solución de la forma\n",
    "\n",
    "$$\n",
    "\\bar{\\phi}(x)=a_{0}+a_{1} x+a_{2} x^{2}+\\cdots+a_{m} x^{m}\n",
    "$$\n",
    "\n",
    "Es evidente que $\\bar{\\phi}(x)$ aproximará hasta el término m-ésimo del desarrollo de Taylor de $\\phi(x)$ siempre y cuando la expresión de $\\bar{\\phi}(x)$ contenga todos los términos del polinomio de grado $m$ (polinomio completo de grado $m$ ). En dicho caso, el error de la aproximación de elementos finitos es del orden del primer término que se desprecia en el desarrollo de Taylor de $\\phi(x)$, y a partir de dicho error pueden deducirse formas de extrapolación de la solución.\n",
    "\n",
    "Se deduce de lo anterior que la aproximación de elementos finitos depende del polinomio completo de mayor grado contenido en las funciones de forma. Así la aproximacion será óptima si todos sus términos formán un polinomio completo y no lo será en caso contrario, ocurriendo entonces que los términos adicionales a los del polinomio completo introducen variables que no contribuyen de manera significativa a una mayor aproximación del elemento.\n"
   ]
  },
  {
   "cell_type": "markdown",
   "id": "71953690",
   "metadata": {},
   "source": [
    "#### Ejemplos de Polinomios y aproximaciones completas e incompletas"
   ]
  },
  {
   "cell_type": "markdown",
   "id": "4393d766",
   "metadata": {},
   "source": [
    "1. ***Polinomio completo de grado 2. Aproximación completa de grado $2.$***\n",
    "\n",
    "$$\n",
    "\\begin{aligned}\n",
    "1 D: \\quad & \\bar{\\phi}(x)=a_{0}+a_{1} x+a_{2} x^{2} \\\\\\\\\n",
    "2 D: \\quad & \\bar{\\phi}(x, y)=a_{0}+a_{1} x+a_{2} y+a_{3} x y+a_{4} x^{2}+a_{5} y^{2}\n",
    "\\end{aligned}\n",
    "$$\n",
    "\n",
    "\n",
    "2. ***Polinomio completo de primer grado. Aproximación incompleta de tercer grado.***\n",
    "\n",
    "$$\n",
    "\\begin{array}{ll}\n",
    "1 D: & \\bar{\\phi}(x)=a_{0}+a_{1} x+a_{2} x^{3} \\\\\\\\\n",
    "2 D: & \\bar{\\phi}(x, y)=a_{0}+a_{1} x+a_{2} y+a_{3} x^{2}+a_{4} y^{2}+a_{5} x^{3}\n",
    "\\end{array}\n",
    "$$\n",
    "\n",
    "Para deducir los términos que intervienen en un polinomio completo de más de una variable es útil hacer uso del [triángulo de Pascal](https://en.wikipedia.org/wiki/Pascal%27s_triangle). En un capítulo posterior volveremos a referirnos a este tema al hablar de funciones de forma de elementos bidimensionales.\n",
    "\n",
    "En conclusión, es deseable que las funciones de forma del elemento sean polinomios completos y, en caso de que esto no sea factible, como sucede con frecuencia, que el número de términos adicionales a los del polinomio completo sea el menor posible. Hay que señalar que el hecho de que la aproximación escogida sea incompleta no impide la convergencia.\n"
   ]
  },
  {
   "cell_type": "markdown",
   "id": "d3d2ec6f",
   "metadata": {},
   "source": [
    "#### Condición de estabilidad"
   ]
  },
  {
   "cell_type": "markdown",
   "id": "b6f59877",
   "metadata": {},
   "source": [
    "La matriz de rigidez de un elemento debe tener un rango correcto. Recordemos que el [rango de una matriz](https://en.wikipedia.org/wiki/Rank_(linear_algebra) es igual al número de valores propios no nulos que contiene. El rango correcto de la matriz de rigidez de un elemento aislado y sin vinculaciones externas debe ser igual al número de valores propios linealmente independientes, también denominadas modos de energía nula. La estabilidad del elemento está generalmente garantizada si la matriz de rigidez del elemento se evalúa de forma correcta. No obstante, en la práctica sucede con frecuencia que debido a la evaluación inexacta de algunos términos de dicha matriz, por ejemplo por utilización de técnicas de integración reducida, se introducen en el elemento valores propios nulos adicionales que dan lugar a \"mecanismos\" internos y soluciones espúreas. Dichos mecanismos no son deseables y un elemento \"óptimo\" debería estar libre de ellos.\n",
    "\n",
    "La existencia de autovalores espúreos no siempre es motivo de exclusión de un elemento, ya que, en algunos casos, los mecanismos a que dan lugar no son propagables entre dos o más elementos, lo que garantiza el buen comportamiento del elemento en una malla. Por tanto, sí se detectan mecanismos espúreos en un elemento antes de decidir sobre la exclusión del mismo deben efectuarse más comprobaciones sobre el grado de propagáción de la solución espúrea en una malla.\n"
   ]
  },
  {
   "cell_type": "markdown",
   "id": "cc1ae278",
   "metadata": {},
   "source": [
    "#### Condición de invarianza"
   ]
  },
  {
   "cell_type": "markdown",
   "id": "21cf2a10",
   "metadata": {},
   "source": [
    "Un elemento no debe tener direcciones preferentes. Es decir, los elementos deben poseer lo que se denomina \"invarianza geométrica\", también conocida con el nombre de isotropía geométrica o espacial.\n",
    "\n",
    "La no invarianza se manifiesta si al variar de dirección el elemento en el espacio en que está definido, manteniendo constante con relación al elemento el estado de solicitaciones, se obtienen resultados diferentes. En general, un elemento es invariante si todas las incógnitas se interpolan con los mísmos términos polinómicos y a su vez la aproximación es insensible al cambio de una coordenada por otra.\n",
    "\n",
    "La no invarianza es claramente un defecto del elemento, pero no es un condicionante para su convergencia. La invarianza de un elemento está garantizada si sus funciones de forma son polinomios completos. En general, los elementos pueden hacerse invariantes de una manera sencilla utilizando una formulación isoparamétrica .\n"
   ]
  },
  {
   "cell_type": "markdown",
   "id": "e7359836",
   "metadata": {},
   "source": [
    "### Consideraciones sobre compatibilidad y equilibrio de la solución"
   ]
  },
  {
   "cell_type": "markdown",
   "id": "df9b9177",
   "metadata": {},
   "source": [
    "No debemos olvidar que la solución de elementos finitos es aproximada y, por consiguiente, en ger:eral no satisface los requisitos de equilibrio y compatibilidad que serían exigibles a la solución exacta. Así, al efectuar un análisis por elementos finitos encontraremos usualmente (aunque según el tipo de elemento puede haber excepciones) que:\n",
    "\n",
    "1. ***La solución es compatible dentro de los elementos.*** Esto está garantizado siempre que la aproximación escogida para el campo incógnita sea continua (lo que se cumple utilizando funciones de forma polinómicas).\n",
    "\n",
    "\n",
    "2. ***La solución puede ser o no ser compatible a lo largo de los contornos interelementales.*** Hemos visto en el apartado anterior que la compatibilidad entre elementos sólo es exigible en el límite de refinamiento de la malla. Por consiguiente, son aceptables soluciones incompatibles e incluso en algunos casos pueden mejorar los resultados como se ha explicado.\n",
    "\n",
    "\n",
    "3. ***La compatibilidad*** se satisface siempre en los nodos, debido a que son los puntos de conexión entre elementos y donde exigimos que se satisfaga la continuidad de las variables y el equilibrio.\n",
    "\n",
    "\n",
    "4. ***El equilibrio*** de flujos se satisface siempre en los nodos. Las ecuaciones matriciales de la estructura satisfacen el equilibrio en todos los nodos. Por consiguiente, la solución aproximada es tal que la suma de flujos en cada nodo es nula $(\\mathbf{K a}-\\mathbf{f}=0)$.\n",
    "\n",
    "\n",
    "5. ***Normalmente no existe equilibrio de flujos entre elementos***, Los flujos en los nodos de cada elemento se obtienen directamente a partir de los valores nodales de $\\phi$, o por extrapolación de los valores en los puntos de Gauss de cada elemento. Por consiguiente, los enjos en un nodo común a varios elementos toman valores diferentes según sea el elemento a partir del cual se calculan. Es, por tanto, usual realizar un alisado del campo de flujos posterior al análisis, evaluando, por ejemplo, el valor medio de los valores nodales de los flujos (Figura 6.4). \n",
    "\n",
    "<a id='Fig6_4'></a>\n",
    "<p float=\"center\">\n",
    "  <img src=\"https://github.com/carlosalvarezh/FEM/blob/main/images/C06_F04_SuavisadoFlujo.PNG?raw=true\" width=\"450\" />\n",
    "</p>\n",
    "<div style=\"text-align: center\"><strong>Figura 6.4.</strong>Ejemplo suavisado de flujos, por Oñate, <a href=\"https://books.cimne.com/product/calculo-de-estructuras-por-el-metodo-de-los-elementos-finitos-analisis-estatico-lineal-vol-1/\"> Cálculo de Estructuras por el Método de los Elementos Finitos. Análisis Estático Lineal. Volumen 1. Sólidos. </a></div>\n",
    "\n",
    "Por otra parte, puede observarse que si se calculan los flujos en los bordes libres, sus valores no son cero, aunque deben ser sensiblemente inferiores a los de los flujos en el interior de la malla. Esta falta de equilibrio de los flujos es consecuencia de la formulación utilizada, donde la continuidad se exige a la variable $\\phi$, pudiendo ser discontinuas sus primeras derivadas (gradientes) y, por consiguiente, los flujos. Por tanto, la existencia de dicha discontinuidad no viola las condiciones para la convergencia y los desequilibrios mencionados se corrigen generalmente al refinar progresivamente la malla.\n",
    "\n",
    "\n",
    "6. ***Los flujos no están en equilibrio en el interior del elemento.*** La solución de elementos finitos se obtiene a partir de una aproximación de la forma integral débil, por tanto, las ecuaciones diferenciales de balance se satisfacen generalmente de forma aproximada. Una excepción a dicha regla son los elementos basados en campos de deaplazamientos lineales, como el elemento de dos nodos, o los elementos triangular de tres nodos y tetraédrico de cuatro que se estudiarán en capítulos posteriores. En todos eatos elementos el campo de gradientes y flujos es constante y, por consiguiente, las ecuaciones de balance en las que intervienen las primeras derivadas de los flujos se satisfacen de manera automática. De nuevo, esta falta de equilibrio interno se suele corregir al refinar la malla y no es un condicionante para la convergencia de la solución."
   ]
  },
  {
   "cell_type": "markdown",
   "id": "825dd115",
   "metadata": {},
   "source": [
    "### Condiciones para la convergencia de los elementos isoparamétricos"
   ]
  },
  {
   "cell_type": "markdown",
   "id": "1c9aec97",
   "metadata": {},
   "source": [
    "Los elementos isoparamétricos se basan en la aproximación de su geometría por un campo polinómico, y por consiguiente continuo, que contiene precisamente los mismos términos que el utilizado para la aproximación de $\\phi$. Así, pues, el requisito de continuidad del campo geométrico se satisface de manera automática. Demostraremos seguidamente que los elementos isoparamétricos cumplen el criterio de la parcela.\n",
    "\n",
    "Prescribamos el campo de $\\phi$\n",
    "\n",
    "$$\n",
    "\\phi=a_{1}+a_{2} x\n",
    "$$\n",
    "\n",
    "sobre una malla de elementos lineales. Los desplazamientos de los nodos de un elemento valdrían entonces\n",
    "\n",
    "$$\n",
    "\\phi_{i}=a_{1}+a_{2} x_{i} \\quad ; \\quad i=1,2\n",
    "$$\n",
    "\n",
    "En el interior del elemento $\\phi=\\sum_\\limits{i=1}^{2} N_{i} \\phi_{i}^{(e)}$ y haciendo uso de los valores de $\\phi$ prescritos\n",
    "\n",
    "$$\n",
    "\\phi=\\sum_{i=1}^{2} N_{i}^{(e)}\\left(a_{1}+a_{2} x_{i}\\right)=a_{1} \\sum_{i=1}^{2} N_{i}^{(e)}+a_{2} \\sum_{i=1}^{2} N_{i}^{(e)} x_{i}\n",
    "$$\n",
    "\n",
    "Por definición de elemento isoparamétrico\n",
    "\n",
    "$$\n",
    "x=\\sum_{i=1}^{2} N_{i}^{(e)} x_{i}\n",
    "$$\n",
    "\n",
    "Se deduce por tanto que para que el campo de desplazamientos del elemento coincida con el prescrito en la malla se ha de cumplir\n",
    "\n",
    "$$\n",
    "\\sum_{i=1}^{2} N_{i}^{(e)}=1\n",
    "$$\n",
    "\n",
    "para cualquier valor de la coordenada natural $\\xi$ entre $-1$ y $+1$. Obsérvese que esta condición es idéntica a la obtenida en el apartado anterior para satisfacer la condición de gradiente nulo en un elemento cualquiera. Se deduce, por tanto, que en elementos isoparamétricos dicha condición tiene un carácter más general ya que es el requisito para que el elemento satisfaga el criterio de la parcela\n",
    "\n",
    "Hay que señalar, asimismo, que la definición de las funciones de forma en coordenadas naturales no altera la condición de compatibilidad de los valores de $\\phi$ entre contornos comunes, ya que sobre dichos contornos la variación polinómica de $\\phi$ es la misma para los dos elementos que comparten el contorno, y asimismo son iguales los valores de los valores nodales $\\phi_{i}$. Finalmente, es útil destacar que los elementos isoparamétricos son invariantes debido a la utilización de las coordenadas naturales para el cálculo de la matriz de rigidez.\n"
   ]
  },
  {
   "cell_type": "markdown",
   "id": "19456b14",
   "metadata": {},
   "source": [
    "### Tipos de error en la solución por elementos finitos"
   ]
  },
  {
   "cell_type": "markdown",
   "id": "7195d7a0",
   "metadata": {},
   "source": [
    "#### Error de discretización"
   ]
  },
  {
   "cell_type": "markdown",
   "id": "ef00285d",
   "metadata": {},
   "source": [
    "Debido al carácter de la aproximación de elementos finitos la solución está afectada por diversas fuentes de error. Analizaremos a continuación los tipos de error más usuales.\n",
    "\n",
    "Este error es inherente al caracter polinómico de la aproximación de elementos finitos. El error asociado a dicha aproximación puede estimarse comparando el polinomio completo de mayor grado contenido en las funciones de forma con el desarrollo en *serie de Taylor* de la solución exacta. Es fácil deducir que dicho error es del orden del primer término del desarrollo de *Taylor* no incluido en el polinomio completo mencionado. Strang y Fix [S14] proponen la siguiente expresión general para evaluar dicho error en problemas unidimensionales\n",
    "\n",
    "<a id='Ec6_1'></a>\n",
    "\\begin{equation*}\n",
    "e(\\text { error })=\\phi_{\\text {aprox }}-\\phi_{\\text {exacts }} \\leq C h^{\\mathrm{p}+1} \\mathrm{Max}\\left|\\frac{\\partial^{\\mathrm{p}+1} \\phi_{\\text {exacta }}}{\\partial x^{\\mathrm{p}+1}}\\right|\n",
    "\\label{eq:Ec6_1} \\tag{6.1}\n",
    "\\end{equation*}\n",
    "\n",
    "donde el símbolo Max representa el máximo valor de la derivada sobre todo el elemento, $C$ es una constante que depende del tipo de elemento, $h$ su dimensión máxima (ej. la longitud en elementos de barra) y p el grado del mayor . polinomio completo contenido en las funciones de forma.\n",
    "\n",
    "De la [Ec. 6.1](#Ec6_1) se deduce que siempre que la constante $C$ y la derivada de orden $n+1$ de la solución estén acotadas, la convergencia de la solución está garantizada, puesto que el error tiende a cero cuando lo hace el tamaño del elemento.\n",
    "\n",
    "Si aplicamos los conceptos anteriores al elemento de Poisson unidimensional se tiene que para mallas uniformemente espaciadas\n",
    "\n",
    "<a id='Ec6_2'></a>\n",
    "\\begin{equation*}\n",
    "e \\propto h^{2} \\frac{\\partial^{2} \\phi}{\\partial x^{2}}\n",
    "\\label{eq:Ec6_2} \\tag{6.2}\n",
    "\\end{equation*}\n",
    "\n",
    "De la [Ec. 6.2](#Ec6_2) se desprende que para este elemento el error es proporcional al gradiente de deformaciones (o tensiones). Por consiguiente, debemos utilizar un criterio ingenieril para seleccionar tamaños de elementos menores en zonas donde se esperen mayores gradientes de deformaciones (o concentración de tensiones). Por el contrario, en zonas donde se intuyan campos uniformes de deformaciones pueden utilizarse elementos mayores.\n",
    "\n",
    "Si no se desea variar el tamaño de los elementos, puede reducirse el error añadiendo términos polinómicos de mayor grado a las funciones de forma de manera que se incremente el exponente $p$ de la [Ec. 6.1](#Ec6_1).\n",
    "\n",
    "Estos dos métodos para disminuir el error basados en refinar progresivamente la malla y en incrementar el grado de las funciones de forma se denominan en la literatura métodos $h$ y $p$, respectivamente.\n",
    "\n",
    "Los comentarios anteriores se referían al caso de una malla uniforme. El efecto de utilizar elementos de distintos tamaños ha sido estudiado para el caso de una barra discretizada en elementos lineales de dos tamaños diferentes y sometida a una carga axial. Puede demostrarse que el error en el cumplimiento de la ecuación diferencial en el nodo $j$ debido a la aproximación de elementos finitos es\n",
    "\n",
    "<a id='Ec6_3'></a>\n",
    "\\begin{equation*}\n",
    "e=-\\frac{h}{3}(1-a)\\left(\\frac{\\partial^{3} \\phi}{\\partial x^{3}}\\right)_{j}+\\frac{h^{2}}{12}\\left(\\frac{1+a^{3}}{1+a}\\right) \\frac{\\partial^{4} \\phi}{\\partial x^{4}}\\left(x_{j}\\right)+\\cdots\n",
    "\\label{eq:Ec6_3} \\tag{6.3}\n",
    "\\end{equation*}\n",
    "\n",
    "donde $h$ es el tamaño de un eiemento y $a h$ el tamaño del elemento adyacente (Figura 3.11). Se deduce de la [Ec. 6.3](#Ec6_3) que para una malla uniforme $(a \\simeq 1)$ el error es de orden $h^{2}$, mientras que si se utilizan elementos de tamaños muy diferentes $(a \\neq 1)$ se obtiene un mayor error de orden $h .$ Ello sugiere que es conveniente que los carat ios en la geometría de los elementos sean graduales y que debe evitarse colocar un elemento pequeño contiguo a uno grande.\n",
    "En capítulos posteriores se estudiarán problemas en dos y tres dimensiones donde son válidos los conceptos sobre el error presentados para una dimensión. Así, en dos dimensiones es preciso hacer uso del desarrollo en serie de Taylor en el entorno de un punto $(x, y)$\n",
    "\n",
    "<a id='Ec6_4'></a>\n",
    "\\begin{equation*}\n",
    "\\begin{aligned}\n",
    "u(x+h, y+k) &=u(x, y)+\\left[h \\frac{\\partial u}{\\partial z}+k \\frac{\\partial u}{\\partial y}\\right]+\\frac{1}{2 !}\\left[h^{2} \\frac{\\partial^{2} u}{\\partial x^{2}}+2 h k \\frac{\\partial^{2} u}{\\partial x \\partial y}+k^{2} \\frac{\\partial^{2} u}{\\partial y^{2}}\\right]+\\cdots\n",
    "\\end{aligned}\n",
    "\\label{eq:Ec6_4} \\tag{6.4}\n",
    "\\end{equation*}\n",
    "\n",
    "\n",
    "donde $u$ es la solución exacta y $h \\mathrm{y} k$ son una medida del tamaño del elemento en las direcciones $x$ e $y$.\n",
    "\n",
    "Puede demostrarse que en elementos bidimensionales lineales, como el triángulo de 3 nodos, el error es proporcional al último término del segundo miembro de la [Ec. 6.4](#Ec6_4). De nuevo puede encontrarse que las segundas derivadas de dicho término están relacionadas directamente con los gradientes de las deformaciones (de las tensiones). Asi, si las deformaciones son constantes el error es muy pequeño o cero.\n",
    "\n",
    "Es interesante comentar que el término de error puede expresarse en función del cociente $\\left(\\dfrac{k}{h}\\right)$. Dicho cociente es una medida de las dimensiones relativas del elemento y se conoce con el nombre de relación de forma. Para un elemento equilátero dicho cociente debería ser próximo a la unidad. Sin embargo, para un elemento triangular largo sería grande. Generalmente es mejor mantener la relación de forma próxima a la unidad.\n"
   ]
  },
  {
   "cell_type": "markdown",
   "id": "c6bb73a5",
   "metadata": {},
   "source": [
    "#### Error de aproximación de la geometría"
   ]
  },
  {
   "cell_type": "markdown",
   "id": "09254b07",
   "metadata": {},
   "source": [
    "Es usual que los contornos de una estructura bi o tridimensional sean curvos. En algunos casos es posible que la ecuación de dichos contornos sea expresable por funciones polinómicas, lo que permite su reproducción exacta utilizando una formulación paramétrica de la geometría adecuada. Por el contrario, en muchos otros casos las funciones de interpolación de la geometría no pueden aproximar exactamente ésta (como sucede al utilizar elementos isoparamétricos de orden bajo en geometrías complejas). Asimismo, en ocasiones los contornos de la estructura no son reproducibles de forma exacta por funciones polinómicas, o, lo que es frecuente, puede que ni siquiera se conozca una expresión analítica de la geometría, disponiéndose únicamente de las coordenadas de una serie de puntos aislados del contorno. En todos estos casos siempre se comete un error al aproximar la geometría de la estructura. Es evidente que dicho error puede disminuirse refinando la malla en los contornos, o bien haciendo uso de funciones de interpolación de geometría progresivamente de mayor grado mediante la utilización de elementos superparamétricos. En la práctica, es usual llegar a un compromiso entre esas dos opciones y, salvo en circunstancias muy excepcionales, se recomienda utilizar elementos isoparamétricos sencillos en un número suficiente para poder aceptar como razonable el error de aproximación de geometría, por otra parte prácticamente inevitable, salvo en estructuras con contornos lineales en las que la aproximación geométrica siempre es exacta."
   ]
  },
  {
   "cell_type": "markdown",
   "id": "4ef8fdaf",
   "metadata": {},
   "source": [
    "#### Error en el cálculo de las integrales del elemento"
   ]
  },
  {
   "cell_type": "markdown",
   "id": "8a2cd412",
   "metadata": {},
   "source": [
    "Hemos visto que, incluso para los sencillos elementos unidimensionales, el cálculo analítico de las integrales del elemento puede revestir cierta dificultad y se recomienda utilizar integración numérica. Esto implica que si queremos calcular exactamente dichas integrales tenemos que escoger el orden de integración numérica adecuado. En caso contrario se comete un error al evaluar por defecto las mencionadas integrales. De hecho, en la mayor parte de los casos, dichas integrales contienen términos racionales debido a la transformación de las coordenadas naturales a cartesianas y el cálculo exacto de las mismas por las cuadraturas usuales, como la de $Gauss-Legendre$, es imposible. En dichas situaciones, intentar aproximar el valor exacto de la integral puede significar la utilización de un gran número de puntos de integración, lo que encarece sensiblemente el cálculo. Por consiguiente, es normal aceptar un margen de error en el cálculo numérico de las integrales del elemento.\n",
    "\n",
    "Paradójicamente, diciso error puede ser beneficioso en muchas ocasiones. Ello se debe al hecho de que al sub-evaluar la matriz de rigidez del elemento se está indirectamente aumentando su flexibilidad. Dicho efecto se contrapone al de \"rigidización artificial\" de la estructura introducido por la aproximación del campo de desplazamientos y generalmente también por la de la geometría. Puede decirse, por tanto, que el error en la evaluación de la matriz de rigidez del elemento tiende a cancelar los errores de discretización, lo que explica que, en ocasiones, con mallas groseras puedan encontrarse soluciones excelentes. En capitulos posteriores veremos como en algunos problemas particulares de vigas, placas y láminas, es incluso necesario efectuar una integración inexacta de algunos términos de la matriz de rigidez para aumentar su flexibilidad y equilibrar la excesiva rigidización que producen los términos debidos al esfuerzo cortante cuando el espesor de la estructura disminuye.\n"
   ]
  },
  {
   "cell_type": "markdown",
   "id": "7085bac8",
   "metadata": {},
   "source": [
    "#### Errores en la solución del sistema de ecuaciones"
   ]
  },
  {
   "cell_type": "markdown",
   "id": "4f8867ae",
   "metadata": {},
   "source": [
    "Durante la solución del sistema global de ecuaciones algebraicas resultante de la aproximación de elementos finitos por un método directo (*eliminación Gaussiana, Choleski, Frontal*, etc.), pueden aparecer tres tipos de errores caracteristicos: errores por mal condicionamiento de las ecuaciones, errores de truncamiento y errores de redondeo.\n",
    "\n",
    "Se dice que el sistema de ecuaciones $\\mathbf{K a}=\\mathbf{f}$ está mal condicionado si pequeños cambios en los coeficientes de $\\mathbf{K}$ o de $\\mathbf{f}$ dan lugar a grandes variaciones en el vector solución $\\mathbf{a}$. La principal causa del mal condicionamiento se debe a la existencia de un elemento o grupo de elementos de gran rigidez conectados a otro u otros elementos de baja rigidez. Esto origina que, a menos que el ordenador pueda retener un número suficiente de digitos significativos, el comportamiento de la estructura queda artificialmente alterado de manera que la matriz de rigidez se convierte en singular o cuasi-singular.\n",
    "\n",
    "Por consiguiente, el mal condicionamiento no implica necesariamente un error en la solución. Esto último depende fundamentalmente de la capacidad de retención de digitos significativos del ordenador. En otras palabras, de los *errores de truncamiento y de redondeo* que se cometan durante la solución del sistema de ecuaciones y que en definitiva son los responsables del error total en la solución.\n",
    "\n",
    "El ***error de truncamiento*** es el más importante. Si un ordenador utiliza $d$ dígitos para representar un número en precisión sencilla sólo podrá almacenar los $d$ primeros digitos de cada coeficiente de $\\mathbf{K}$ o $\\mathbf{f}$. Es posible por tanto que al truncar un coeficiente se prescinda de información esencial para obtener la solución correcta, que queda totalmente alterada.\n",
    "\n",
    "El ***error de redondeo*** es debido al ajuste que automáticamente realiza el ordenador del último digito de un número durante el cálculo. La experiencia demuestra que este error es menos importante que el de truncamiento. No obstante, deben tratar de evitarse errores de redondeo innecesarios, tales como los asociados a algunas constantes, como el valor del número $\\pi$, o las coordenadas y pesos de los puntos de integración numérica que deben utilizarse con el máximo número de dígitos que el computador pueda almacenar.\n"
   ]
  },
  {
   "cell_type": "markdown",
   "id": "edba13cd",
   "metadata": {},
   "source": [
    "#### Ejemplo - Error de truncamiento"
   ]
  },
  {
   "cell_type": "markdown",
   "id": "c10a2441",
   "metadata": {},
   "source": [
    "<a id='Fig6_5'></a>\n",
    "<p float=\"center\">\n",
    "  <img src=\"https://github.com/carlosalvarezh/FEM/blob/main/images/C06_F05_Estructura2DOF.PNG?raw=true\" width=\"450\" />\n",
    "</p>\n",
    "<div style=\"text-align: center\"><strong>Figura 6.5.</strong>Estructura de dos grados de libertad, por Oñate, <a href=\"https://books.cimne.com/product/calculo-de-estructuras-por-el-metodo-de-los-elementos-finitos-analisis-estatico-lineal-vol-1/\"> Cálculo de Estructuras por el Método de los Elementos Finitos. Análisis Estático Lineal. Volumen 1. Sólidos. </a></div>\n",
    "\n",
    "En este ejemplo se estudiará la influencia del error de truncamiento en la solución del problema de la Figura 6.5\n",
    "\n",
    "La matriz de rigidez de la estructura anterior $y$ su inversa son\n",
    "\n",
    "$$\n",
    "\\mathbf{K}=\\left[\\begin{array}{cc}\n",
    "K_{1} & -K_{1} \\\\\n",
    "-K_{1} & K_{1}+K_{2}\n",
    "\\end{array}\\right] \\quad ; \\quad \\mathbf{K}^{-1}=\\left[\\begin{array}{cc}\n",
    "\\frac{1}{K_{1}}+\\frac{1}{K_{2}} & \\frac{1}{K_{2}} \\\\\n",
    "\\frac{1}{K_{2}} & \\frac{1}{K_{2}}\n",
    "\\end{array}\\right]\n",
    "$$\n",
    "\n",
    "Si $K_{1}>>K_{2}, K_{1}$ domina $\\mathbf{K}$, pero $K_{2}$ domina $\\mathbf{K}^{-1}$ y por consiguiente el valor de los desplazamientos. El cálculo de $\\mathbf{K}^{-1}$ sólo es correcto si los coeficientes de $\\mathbf{K}$ se evalúan de manera que $K_{2}$ no se pierde en el proceso. Así, si por ejemplo $K_{1}=50$ y $K_{2}=0.0023$ el ordenador debe retener al menos seis digitos y $K_{1}$ debe representarse como $500000$ de manera que se retenga el último dígito de $K_{2}$ en la suma $K_{1}+K_{2} .$ Si, por ejemplo, sólo se retienen cuatro dígitos $K_{1}+K_{2}$ daría $50.00$ y $\\mathbf{K}$ sería singular. Este problema está mal condicionado pues la solución es sensible a los cambios (truncamiento) en el sexto dígito del coeficiente $K_{1}+K_{2}$\n",
    "\n",
    "Por otra parte, si se utiliza *eliminación Gaussiana* para la solución del sistema $\\mathbf{K a}=\\mathbf{f}$, la eliminación del desplazamiento $u_{1}$ cambia el último coeficiente diagonal a $\\left(K_{1}+K_{2}\\right)-K_{1}$. Vemos por tanto que la información para una solución correcta puede perderse si $K_{1}>>K_{2}$.\n",
    "\n",
    "Una forma obvia de reducir los errores de truncamiento y, por consiguiente, de mejorar la aproximación de la solución es utilizar doble precisión a lo largo de todo el proceso de cálculo. Esto implica calcular los coeficientes de las diferentes matrices que intervienen en el análisis y resolver el sistema de ecuaciones en doble precisión.\n",
    "\n",
    "Un indicador de la sensibilidad del sistema de ecuaciones $\\mathbf{K} \\mathbf{a}=\\mathbf{f} \\mathbf{a}$ errores en su solución (por truncamiento y redondeo) puede obtenerse a partir del número de condición de la matriz de rigidez $\\mathbf{K}$. Así, puede demostrarse que una primera estimación del número de dígitos significativos $s$ que se obtienen de forma exacta en el proceso de solución es\n",
    "\n",
    "<a id='Ec6_5'></a>\n",
    "\\begin{equation*}\n",
    "\\begin{aligned}\n",
    "s \\approx t-\\log _{10}[\\operatorname{cond}(\\mathbf{K})]\n",
    "\\end{aligned}\n",
    "\\label{eq:Ec6_5} \\tag{6.5}\n",
    "\\end{equation*}\n",
    "\n",
    "donde $t$ es el máximo número de dígitos que el computador puede almacenar con precisión y cond(K) es el número de condición de la matriz de rigidez que se define como\n",
    "\n",
    "<a id='Ec6_6'></a>\n",
    "\\begin{equation*}\n",
    "\\begin{aligned}\n",
    "\\operatorname{cond}(\\mathbf{K}) \\simeq \\frac{\\lambda_{\\max}}{\\lambda_{\\min}}\n",
    "\\end{aligned}\n",
    "\\label{eq:Ec6_6} \\tag{6.6}\n",
    "\\end{equation*}\n",
    "\n",
    "siendo $\\lambda_{\\max}$ y $\\lambda_{\\min}$ los valores propios mayor y menor de $\\mathbf{K}$ respectivamente. Aunque la [Ec. 6.5](#Ec6_5) es sólo aproximada indica claramente que al crecer el número de condición de $\\mathbf{K}$ decrece la precisión obtenible en la solución del sistema, o, dicho en otras palabras, los errores de solución aumentan con el número de condición de la matriz de rigidez. Interesa, por consiguiente, que dicho número sea lo más bajo posible, lo que puede conseguirse mediante un adecuado proceso de escala de los coeficientes de $\\mathbf{K}$.\n"
   ]
  },
  {
   "cell_type": "markdown",
   "id": "797c069b",
   "metadata": {},
   "source": [
    "#### Errores asociados a la ecuación constitutiva"
   ]
  },
  {
   "cell_type": "markdown",
   "id": "60c1777f",
   "metadata": {},
   "source": [
    "No podemos finalizar este repaso de las fuentes más usuales de error en el análisis por el método de elementos finitos sin mencionar los posibles errores asociados a una mala definición de la ecuación constitutiva. La importancia de una correcta evaluación de los coeficientes significativos de la ecuación constitutiva es obvia. De hecho, en un material homogéneo e isótropo los valores de la incógnita $\\phi$ son directamente proporcionales al coeficiente de conductividad $\\mathbf{K}$, aunque los flujos no se ven afectados por el mismo. Si la estructura es de material ortótropo o anisótropo, o está formada por materiales con diferentes propiedades, la variable y los flujos dependen de los valores del coeficiente de conductividad. Por consiguiente, una incorrecta estimación de los parámetros del material puede producir errores en los resultados de orden muy superior a la suma de todos los posibles errores mencionados anteriormente. Así, pues, pese a que la obtención de las propiedades mecánicas de los materiales puede considerarse como una etapa anterior a la del análisis, la gran influencia de sus valores en los resultados justifica su inclusión en este apartado como otra posible causa de error, que debe tratarse de evitar por los responsables del cálculo."
   ]
  },
  {
   "cell_type": "markdown",
   "id": "78865705",
   "metadata": {},
   "source": [
    "# Referencias Bibliográficas"
   ]
  },
  {
   "cell_type": "markdown",
   "id": "798c7259",
   "metadata": {},
   "source": [
    "- Oñate, E. (2016). [Cálculo de Estructuras por el Método de los Elementos Finitos. Análisis Estático Lineal. Volumen 1. Sólidos](https://books.cimne.com/product/calculo-de-estructuras-por-el-metodo-de-los-elementos-finitos-analisis-estatico-lineal-vol-1/). ED. CIMNE \n",
    "\n",
    "\n",
    "- Assan, A. (2020). [Método dos Elementos Finitos - Primeiros passos](https://editoraunicamp.com.br/produto/503/metodo-dos-elementos-finitos-primeiros-passos-ed--3) 3a Ed. ED. UNICAMP. "
   ]
  },
  {
   "cell_type": "code",
   "execution_count": null,
   "id": "d9684652",
   "metadata": {},
   "outputs": [],
   "source": []
  }
 ],
 "metadata": {
  "kernelspec": {
   "display_name": "Python 3",
   "language": "python",
   "name": "python3"
  },
  "language_info": {
   "codemirror_mode": {
    "name": "ipython",
    "version": 3
   },
   "file_extension": ".py",
   "mimetype": "text/x-python",
   "name": "python",
   "nbconvert_exporter": "python",
   "pygments_lexer": "ipython3",
   "version": "3.6.13"
  },
  "toc": {
   "base_numbering": "6",
   "nav_menu": {},
   "number_sections": true,
   "sideBar": true,
   "skip_h1_title": true,
   "title_cell": "Tabla de Contenidos",
   "title_sidebar": "Contenidos",
   "toc_cell": true,
   "toc_position": {},
   "toc_section_display": true,
   "toc_window_display": false
  }
 },
 "nbformat": 4,
 "nbformat_minor": 5
}
