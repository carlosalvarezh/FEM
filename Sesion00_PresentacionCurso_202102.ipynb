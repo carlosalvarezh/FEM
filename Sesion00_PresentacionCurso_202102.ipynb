{
 "cells": [
  {
   "cell_type": "markdown",
   "metadata": {},
   "source": [
    "<h1 align=\"center\"><b>Introducción al estudio del Método de los Elementos Finitos</b></h1>\n",
    "\n",
    "<h1 align=\"center\"><b>Una aproximación analítica y computacional</b></h1>"
   ]
  },
  {
   "cell_type": "markdown",
   "metadata": {},
   "source": [
    "<table>\n",
    " <tr align=left><td><img align=left src=\"https://github.com/carlosalvarezh/CFD_Applied/blob/master/figs/CC-BY.png?raw=true\">\n",
    " <td>Text provided under a Creative Commons Attribution license, CC-BY. All code is made available under the FSF-approved MIT license.(c) Carlos Alberto Alvarez Henao</td>\n",
    "</table>"
   ]
  },
  {
   "cell_type": "markdown",
   "metadata": {},
   "source": [
    "*** \n",
    "\n",
    "***Docente:*** Carlos Alberto Álvarez Henao, I.C. D.Sc.\n",
    "\n",
    "***e-mail:*** carlosalvarezh@gmail.com\n",
    "\n",
    "***skype:*** carlos.alberto.alvarez.henao\n",
    "\n",
    "***Herramienta:*** [Jupyter Notebook](http://jupyter.org/)\n",
    "\n",
    "***Kernel:*** Python 3.8\n",
    "\n",
    "***MEDELLÍN - COLOMBIA***\n",
    "\n",
    "***2021/02***\n",
    "\n",
    "***"
   ]
  },
  {
   "cell_type": "markdown",
   "metadata": {},
   "source": [
    "<a id='TOC'></a>"
   ]
  },
  {
   "cell_type": "markdown",
   "metadata": {
    "toc": true
   },
   "source": [
    "<h1>Tabla de Contenidos<span class=\"tocSkip\"></span></h1>\n",
    "<div class=\"toc\"><ul class=\"toc-item\"><li><span><a href=\"#Aspectos-generales-del-curso\" data-toc-modified-id=\"Aspectos-generales-del-curso-1\"><span class=\"toc-item-num\">1&nbsp;&nbsp;</span>Aspectos generales del curso</a></span><ul class=\"toc-item\"><li><span><a href=\"#Programa-clase-a-clase\" data-toc-modified-id=\"Programa-clase-a-clase-1.1\"><span class=\"toc-item-num\">1.1&nbsp;&nbsp;</span>Programa clase-a-clase</a></span></li><li><span><a href=\"#Evaluación\" data-toc-modified-id=\"Evaluación-1.2\"><span class=\"toc-item-num\">1.2&nbsp;&nbsp;</span>Evaluación</a></span></li><li><span><a href=\"#Bibliográfia\" data-toc-modified-id=\"Bibliográfia-1.3\"><span class=\"toc-item-num\">1.3&nbsp;&nbsp;</span>Bibliográfia</a></span></li><li><span><a href=\"#Asesorías-y-Monitorias-académicas\" data-toc-modified-id=\"Asesorías-y-Monitorias-académicas-1.4\"><span class=\"toc-item-num\">1.4&nbsp;&nbsp;</span>Asesorías y Monitorias académicas</a></span></li></ul></li></ul></div>"
   ]
  },
  {
   "cell_type": "markdown",
   "metadata": {},
   "source": [
    "<p float=\"center\">\n",
    "  <img src=\"https://github.com/carlosalvarezh/FEM/blob/main/images/Wordcloud0.png?raw=true\" width=\"500\" />\n",
    "</p>"
   ]
  },
  {
   "cell_type": "markdown",
   "metadata": {},
   "source": [
    "## Aspectos generales del curso"
   ]
  },
  {
   "cell_type": "markdown",
   "metadata": {},
   "source": [
    "### Programa clase-a-clase"
   ]
  },
  {
   "cell_type": "markdown",
   "metadata": {},
   "source": [
    "***Observación:*** Las fechas deben ajustarse al calendario académico del semestre\n",
    "\n",
    "\n",
    "|**Sesión** |**Fecha**|**Capítulo**|**Contenido** |**Actividad Evaluativa**|\n",
    "|--------:|:-------:|:-------|--------------|------------------------|\n",
    "|1 |26/01/2021||Presentación del curso, introducción al Método de los Elementos Finitos. Funciones de interpolación bi y tridimensionales| |\n",
    "|2 |26/01/2021|Introducción|Formulación de las ecuaciones de movimiento, análisis de vibraciones libres y ejemplo de vibración libre no amortiguada. ||\n",
    "|3 |02/02/2021||Teorema de Trabajo Virtual, Principio de la energía potencial total.||\n",
    "|4 |04/02/2021||Métodos de Rayleigh–Ritz y de los Residuos Ponderados||\n",
    "|5 |09/02/2021||Barras y estructuras articuladas: Ecuación diferencial gobernante. Matriz completa de rigidez y vector de fuerzas nodales equivalentes para cargas distribuidas. Elementos de grado superior||\n",
    "|6 |11/02/2021||Vigas y estructuras reticuladas: Ecuación diferencial gobernante. Matriz completa de rigidez y vector de fuerzas nodales equivalentes para cargas distribuidas. Vigas de un solo tramo. Elementos de grado superior. Método de Rayleigh-Ritz en Vigas y estructuras reticuladas||\n",
    "|7 |16/02/2021||Introducción a las estructuras bidimensionales, elasticidad bidimensional||\n",
    "|8 |18/02/2021||Elemento triangular de tres nodos: Funciones de desplazamiento, Matriz de rigidez del elemento, Vector de fuerzas nodales equivalentes. Matriz completa de rigidez de la estructura y respuesta de la estructura||\n",
    "|9 |23/02/2021||Elemento rectangular de cuatro nodos: Funciones de desplazamiento, Matriz de rigidez del elemento, Vector de fuerzas nodales equivalentes. Matriz completa de rigidez de la estructura y respuesta de la estructura||\n",
    "|10 |25/02/2021||Elementos serendipitos||\n",
    "|11|02/03/2021||Estructuras tridimensionales – Elemento tetraédrico de cuatro nodos: Matriz de rigidez del elemento, Vector de fuerzas nodales equivalentes. Matriz completa de rigidez de la estructura y respuesta de la estructura||\n",
    "|12|04/03/2021||Elemento hexaédrico de ocho nodos: Funciones de desplazamiento del elemento, matriz de rigidez del elemento y vector de fuerzas nodales equivalentes del elemento||\n",
    "|13|09/03/2021||Formulación isoparamétrica: Introducción, elementos de barra, ecuaciones generales, elemento lineal, elemento cuadrático, elemento cubico|||\n",
    "|14|11/03/2021||||\n",
    "|15|16/03/2021||||\n",
    "|16|18/03/2021||||\n"
   ]
  },
  {
   "cell_type": "markdown",
   "metadata": {},
   "source": [
    "<div style=\"text-align: right\"> <a href=\"#TOC\">Volver a la Tabla de Contenido</a> </div>"
   ]
  },
  {
   "cell_type": "markdown",
   "metadata": {},
   "source": [
    "### Evaluación"
   ]
  },
  {
   "cell_type": "markdown",
   "metadata": {},
   "source": [
    "***Observación:*** Los temas, fechas y porcentajes están aún en discusión. Falta actualizar la tabla\n",
    "\n",
    "\n",
    "|Tema                          |Porcentaje|Fecha     |\n",
    "|:-----------------------------|:--------:|:--------:|\n",
    "|Actividad 1  |15%       |11/03/2021|\n",
    "|Actividad 2|15%       |13/04/2021|\n",
    "|Actividad 3|15%|06/05/2021|\n",
    "|Actividad 4                   | 25%|13/05/2021|\n",
    "|Actividad 5                | 30%|08/062021|\n",
    "\n",
    "- ***Parciales:*** Los parciales se realizarán 8 días después de finalizado el tema correspondiente\n",
    "\n",
    "\n",
    "- ***Seguimiento:*** El seguimiento constará de una serie de actividades extraclase a ser entregados en el mismo día o en días siguientes, dependiendo de la actividad.\n",
    "\n",
    "\n",
    "- ***Práctica:*** La práctica consistirá en el desarrollo de un problema de Simulación numérica. Los temas serán indicados en las primeras semanas del semestre y se podrá realizar en equipos de a tres (3) estudiantes."
   ]
  },
  {
   "cell_type": "markdown",
   "metadata": {},
   "source": [
    "<div style=\"text-align: right\"> <a href=\"#TOC\">Volver a la Tabla de Contenido</a> </div>"
   ]
  },
  {
   "cell_type": "markdown",
   "metadata": {},
   "source": [
    "### Bibliográfia"
   ]
  },
  {
   "cell_type": "markdown",
   "metadata": {},
   "source": [
    "***Libros***\n",
    "\n",
    "- Hughes, T.J.R., The Finite Element Method  - Linear Static and Dynamic Finite Element Analysis. Ed. Prentice Hall, 1987.\n",
    "\n",
    "\n",
    "- Zienkiewicz, O. C. et al, The Finite Element Method: Its Basis and Fundamentals. Butterworth-Heinemann; 7a edición. 2013\n",
    "\n",
    "\n",
    "- Bathe, K. J., Finite Element Procedures, Ed. Prentice Hall, 2006.\n",
    "\n",
    "\n",
    "- Belytschko, T., Fish, J. A first course in Finite Elements. Wiley, 2007.\n",
    "\n",
    "\n",
    "- Felippa, C. Introduction to Finite Element Methods. University of Colorado, 2004. Documento online. Recuperado http://kis.tu.kielce.pl//mo/COLORADO_FEM/colorado/Home.html\n",
    "\n",
    "\n",
    "***Software***\n",
    "\n",
    "-\tGomez, J., Guarín, N. SolidsPy: 2D-Finite Element Analysis with Python. Recuperado de https://pypi.org/project/solidspy/\n",
    "\n",
    "\n",
    "- FEniCS Project. Recuperado de https://fenicsproject.org/\n",
    "\n",
    "\n",
    "- Salome. The open source integration platform for numerical simulation. Recuperado de https://www.salome-platform.org/\n",
    "\n",
    "\n",
    "- Code_Aster. Structures and Thermomechanics Analysis for studies and research. Recuperado de https://code-aster.org/spip.php?rubrique21\n",
    "\n",
    "\n",
    "-\tGmsh. A three-dimensional finite element mesh generator with built-in pre- and post-processing facilities. Recuperado de https://gmsh.info/\n",
    "\n",
    "\n",
    "- SfePy. Simple Finite Elements in Python. Recuperado de https://sfepy.org/doc-devel/index.html\n",
    "\n",
    "\n",
    "- Jupyter Notebook. Recuperado de https://jupyter.org/\n",
    "\n",
    "\n",
    "- ANSYS Student. Recuperado de https://www.ansys.com/academic/students/ansys-student "
   ]
  },
  {
   "cell_type": "markdown",
   "metadata": {},
   "source": [
    "<div style=\"text-align: right\"> <a href=\"#TOC\">Volver a la Tabla de Contenido</a> </div>"
   ]
  },
  {
   "cell_type": "markdown",
   "metadata": {},
   "source": [
    "### Asesorías y Monitorias académicas"
   ]
  },
  {
   "cell_type": "markdown",
   "metadata": {},
   "source": [
    "Próximamente..."
   ]
  },
  {
   "cell_type": "markdown",
   "metadata": {},
   "source": [
    "<div style=\"text-align: right\"> <a href=\"#TOC\">Volver a la Tabla de Contenido</a> </div>"
   ]
  },
  {
   "cell_type": "code",
   "execution_count": 64,
   "metadata": {
    "scrolled": true
   },
   "outputs": [
    {
     "data": {
      "text/html": [
       "\n",
       "<link href='http://fonts.googleapis.com/css?family=Fenix' rel='stylesheet' type='text/css'>\n",
       "<link href='http://fonts.googleapis.com/css?family=Alegreya+Sans:100,300,400,500,700,800,900,100italic,300italic,400italic,500italic,700italic,800italic,900italic' rel='stylesheet' type='text/css'>\n",
       "<link href='http://fonts.googleapis.com/css?family=Source+Code+Pro:300,400' rel='stylesheet' type='text/css'>\n",
       "\n",
       "<style>\n",
       "\n",
       "/*\n",
       "Template for Notebooks for Numerical analysis.\n",
       "\n",
       "Based on Lorena Barba template available at:\n",
       "\n",
       "    https://github.com/barbagroup/AeroPython/blob/master/styles/custom.css\n",
       "*/\n",
       "\n",
       "/* Fonts */\n",
       "@font-face {\n",
       "font-family: \"Computer Modern\";\n",
       "src: url('http://mirrors.ctan.org/fonts/cm-unicode/fonts/otf/cmunss.otf');\n",
       "}\n",
       "\n",
       "/* Text */\n",
       "div.cell{\n",
       "width:800px;\n",
       "margin-left:16% !important;\n",
       "margin-right:auto;\n",
       "}\n",
       "h1 {\n",
       "font-family: 'Alegreya Sans', sans-serif;\n",
       "}\n",
       "h2 {\n",
       "font-family: 'Fenix', serif;\n",
       "}\n",
       "h3{\n",
       "font-family: 'Fenix', serif;\n",
       "margin-top:12px;\n",
       "margin-bottom: 3px;\n",
       "}\n",
       "h4{\n",
       "font-family: 'Fenix', serif;\n",
       "}\n",
       "h5 {\n",
       "font-family: 'Alegreya Sans', sans-serif;\n",
       "}\t\n",
       "div.text_cell_render{\n",
       "font-family: 'Alegreya Sans',Computer Modern, \"Helvetica Neue\", Arial, Helvetica, Geneva, sans-serif;\n",
       "line-height: 135%;\n",
       "font-size: 120%;\n",
       "width:600px;\n",
       "margin-left:auto;\n",
       "margin-right:auto;\n",
       "}\n",
       ".CodeMirror{\n",
       "font-family: \"Source Code Pro\";\n",
       "font-size: 90%;\n",
       "}\n",
       "/* .prompt{\n",
       "display: None;\n",
       "}*/\n",
       ".text_cell_render h1 {\n",
       "font-weight: 200;\n",
       "font-size: 25pt;\n",
       "line-height: 100%;\n",
       "color:#CD2305;\n",
       "margin-bottom: 0.5em;\n",
       "margin-top: 0.5em;\n",
       "display: block;\n",
       "}\t\n",
       ".text_cell_render h5 {\n",
       "font-weight: 300;\n",
       "font-size: 16pt;\n",
       "color: #CD2305;\n",
       "font-style: italic;\n",
       "margin-bottom: .5em;\n",
       "margin-top: 0.5em;\n",
       "display: block;\n",
       "}\n",
       ".warning{\n",
       "color: rgb( 240, 20, 20 )\n",
       "}\n",
       "</style>\n",
       "\n",
       "<script>\n",
       "/* Equations */\n",
       "\n",
       "MathJax.Hub.Config({\n",
       "TeX: {\n",
       "extensions: [\"AMSmath.js\"]\n",
       "},\n",
       "tex2jax: {\n",
       "inlineMath: [ ['$','$'], [\"\\\\(\",\"\\\\)\"] ],\n",
       "displayMath: [ ['$$','$$'], [\"\\\\[\",\"\\\\]\"] ]\n",
       "},\n",
       "displayAlign: 'center', // Change this to 'center' to center equations.\n",
       "\"HTML-CSS\": {\n",
       "styles: {'.MathJax_Display': {\"margin\": 4}}\n",
       "}\n",
       "});\n",
       "</script>\n",
       "\n",
       "\n"
      ],
      "text/plain": [
       "<IPython.core.display.HTML object>"
      ]
     },
     "execution_count": 64,
     "metadata": {},
     "output_type": "execute_result"
    }
   ],
   "source": [
    "from IPython.core.display import HTML\n",
    "def css_styling():\n",
    "    styles = open('./nb_style.css', 'r').read()\n",
    "    return HTML(styles)\n",
    "css_styling()"
   ]
  }
 ],
 "metadata": {
  "kernelspec": {
   "display_name": "Python 3",
   "language": "python",
   "name": "python3"
  },
  "language_info": {
   "codemirror_mode": {
    "name": "ipython",
    "version": 3
   },
   "file_extension": ".py",
   "mimetype": "text/x-python",
   "name": "python",
   "nbconvert_exporter": "python",
   "pygments_lexer": "ipython3",
   "version": "3.6.13"
  },
  "toc": {
   "base_numbering": 1,
   "nav_menu": {},
   "number_sections": true,
   "sideBar": true,
   "skip_h1_title": true,
   "title_cell": "Tabla de Contenidos",
   "title_sidebar": "Contenidos",
   "toc_cell": true,
   "toc_position": {
    "height": "calc(100% - 180px)",
    "left": "10px",
    "top": "150px",
    "width": "170px"
   },
   "toc_section_display": true,
   "toc_window_display": false
  }
 },
 "nbformat": 4,
 "nbformat_minor": 2
}
