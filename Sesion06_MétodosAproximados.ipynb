{
 "cells": [
  {
   "cell_type": "markdown",
   "id": "63093dc3",
   "metadata": {},
   "source": [
    "<h1 align=\"center\"><b>Introducción al estudio del Método de los Elementos Finitos</b></h1>\n",
    "\n",
    "<h1 align=\"center\"><b>Una aproximación al análisis estático lineal</b></h1>\n",
    "\n",
    "<h1 align=\"center\"><b>Métodos Aproximados</b></h1>"
   ]
  },
  {
   "cell_type": "markdown",
   "id": "53b10422",
   "metadata": {},
   "source": [
    "<table>\n",
    " <tr align=left><td><img align=left src=\"https://github.com/carlosalvarezh/CFD_Applied/blob/master/figs/CC-BY.png?raw=true\">\n",
    " <td>Text provided under a Creative Commons Attribution license, CC-BY. All code is made available under the FSF-approved MIT license.(c) Carlos Alberto Alvarez Henao</td>\n",
    "</table>"
   ]
  },
  {
   "cell_type": "markdown",
   "id": "575cadf1",
   "metadata": {},
   "source": [
    "*** \n",
    "\n",
    "***Docente:*** Carlos Alberto Álvarez Henao, I.C. D.Sc.\n",
    "\n",
    "***e-mail:*** carlosalvarezh@gmail.com\n",
    "\n",
    "***skype:*** carlos.alberto.alvarez.henao\n",
    "\n",
    "***Herramienta:*** [Jupyter Notebook](http://jupyter.org/)\n",
    "\n",
    "***Kernel:*** Python 3.8\n",
    "\n",
    "***MEDELLÍN - COLOMBIA***\n",
    "\n",
    "***2021/02***\n",
    "\n",
    "***"
   ]
  },
  {
   "cell_type": "markdown",
   "id": "db258a30",
   "metadata": {},
   "source": [
    "<a id='TOC'></a>"
   ]
  },
  {
   "cell_type": "markdown",
   "id": "3ba75fd2",
   "metadata": {
    "toc": true
   },
   "source": [
    "<h1>Tabla de Contenidos<span class=\"tocSkip\"></span></h1>\n",
    "<div class=\"toc\"><ul class=\"toc-item\"><li><span><a href=\"#Métodos-aproximados\" data-toc-modified-id=\"Métodos-aproximados-3\"><span class=\"toc-item-num\">3&nbsp;&nbsp;</span>Métodos aproximados</a></span><ul class=\"toc-item\"><li><span><a href=\"#Introducción\" data-toc-modified-id=\"Introducción-3.1\"><span class=\"toc-item-num\">3.1&nbsp;&nbsp;</span>Introducción</a></span></li><li><span><a href=\"#Método-de-Rayleigh-Ritz\" data-toc-modified-id=\"Método-de-Rayleigh-Ritz-3.2\"><span class=\"toc-item-num\">3.2&nbsp;&nbsp;</span>Método de Rayleigh-Ritz</a></span><ul class=\"toc-item\"><li><span><a href=\"#Ejemplo:-Viga-prismática\" data-toc-modified-id=\"Ejemplo:-Viga-prismática-3.2.1\"><span class=\"toc-item-num\">3.2.1&nbsp;&nbsp;</span>Ejemplo: Viga prismática</a></span></li><li><span><a href=\"#Solución-empleando-cálculo-simbólico\" data-toc-modified-id=\"Solución-empleando-cálculo-simbólico-3.2.2\"><span class=\"toc-item-num\">3.2.2&nbsp;&nbsp;</span>Solución empleando cálculo simbólico</a></span></li></ul></li><li><span><a href=\"#Método-de-Galerkin\" data-toc-modified-id=\"Método-de-Galerkin-3.3\"><span class=\"toc-item-num\">3.3&nbsp;&nbsp;</span>Método de Galerkin</a></span><ul class=\"toc-item\"><li><span><a href=\"#Ejemplo:-Viga-prismática\" data-toc-modified-id=\"Ejemplo:-Viga-prismática-3.3.1\"><span class=\"toc-item-num\">3.3.1&nbsp;&nbsp;</span>Ejemplo: Viga prismática</a></span></li></ul></li><li><span><a href=\"#Ejercicios\" data-toc-modified-id=\"Ejercicios-3.4\"><span class=\"toc-item-num\">3.4&nbsp;&nbsp;</span>Ejercicios</a></span></li></ul></li></ul></div>"
   ]
  },
  {
   "cell_type": "markdown",
   "id": "faa59d93",
   "metadata": {},
   "source": [
    "## Métodos aproximados"
   ]
  },
  {
   "cell_type": "markdown",
   "id": "0c993d82",
   "metadata": {},
   "source": [
    "### Introducción"
   ]
  },
  {
   "cell_type": "markdown",
   "id": "7584d39a",
   "metadata": {},
   "source": [
    "La complejidad del modelo matemático que representa el comportamiento de muchos problemas de ingeniería llevó al desarrollo de métodos aproximados para su solución, destacando dos tipos de métodos.\n",
    "\n",
    "- [***Variacionales:***](https://en.wikipedia.org/wiki/Calculus_of_variations) Entre estos se pueden mencionar los métodos de [$Kantorovich$](https://en.wikipedia.org/wiki/Kantorovich_theorem#:~:text=The%20Kantorovich%20theorem%2C%20or%20Newton,by%20Leonid%20Kantorovich%20in%201948.), [$Trefftz$](https://en.wikipedia.org/wiki/Trefftz_method) y [$Rayleigh-Ritz$](https://en.wikipedia.org/wiki/Rayleigh%E2%80%93Ritz_method).\n",
    "\n",
    "\n",
    "- [***Residuos ponderados:***](https://en.wikipedia.org/wiki/Method_of_mean_weighted_residuals) que comprende los métodos de [mínimos cuadrados](https://en.wikipedia.org/wiki/Least_squares), [colocación](https://en.wikipedia.org/wiki/Collocation_method), [descomposición de dominio](https://en.wikipedia.org/wiki/Domain_decomposition_methods) y [$Galerkin$](https://en.wikipedia.org/wiki/Galerkin_method).\n",
    "\n",
    "Los métodos de $Rayleigh-Ritz$ y $Galerkin$ son los más conocidos y originaron el método de los elementos finitos; por esa razón, son los que se describiran a continuación."
   ]
  },
  {
   "cell_type": "markdown",
   "id": "5652f429",
   "metadata": {},
   "source": [
    "###  Método de Rayleigh-Ritz"
   ]
  },
  {
   "cell_type": "markdown",
   "id": "405f6655",
   "metadata": {},
   "source": [
    "Uno de los objetivos del [cálculo variacional](https://en.wikipedia.org/wiki/Calculus_of_variations) es encontrar una función $y(x)$ que, entre las funciones admisibles, haga estacionaria la funcional. Una de las formas de encontrar la función $y(x)$ es encontrar la Ecuación de [$Euler-Lagrange$](https://en.wikipedia.org/wiki/Euler%E2%80%93Lagrange_equation) asociada con el problema y luego resolverlo.\n",
    "\n",
    "Sin embargo, resolver ecuaciones diferenciales y determinar la solución exacta a través de las condiciones de contorno del problema es una tarea laboriosa y, en muchos casos, incluso inviable. Para evitar problemas como estos, surgen algunos métodos, entre los que se encuentra el método [$Rayleigh-Ritz$](https://en.wikipedia.org/wiki/Rayleigh%E2%80%93Ritz_method).\n",
    "\n",
    "El método de $Rayleigh-Ritz$ propone que la función exacta $y(x)$ se reemplaza por una función aproximada $v(x)$ que está formada por la combinación lineal de funciones $\\phi_i(x)$. Una de las ventajas de utilizar el método es que no requiere que se cumplan las condiciones de contorno naturales. Por tanto, el método se utiliza principalmente en problemas en los que las condiciones de contorno naturales son difíciles de resolver.\n",
    "\n",
    "Considerando el funcional\n",
    "\n",
    "<a id='Ec3_1'></a>\n",
    "\\begin{equation*}\n",
    "I=\\int_{x_{1}}^{x_{2}} f\\left(x, y, y^{\\prime}, \\ldots, y^{(m)}\\right) d x\n",
    "\\label{eq:Ec3_1} \\tag{3.1}\n",
    "\\end{equation*}\n",
    "\n",
    "con las condiciones de contorno $y(x_1)=y(x_2)=0$, entonces la función $y(x)$ es aproximada por medio de la función $v(x)$ definida como\n",
    "\n",
    "<a id='Ec3_2'></a>\n",
    "\\begin{equation*}\n",
    "y(x)\\approx v(x)=\\sum_{i=1}^{n} a_{i} \\phi_{i}(x)\n",
    "\\label{eq:Ec3_2} \\tag{3.2}\n",
    "\\end{equation*}\n",
    "\n",
    "Las funciones $\\phi_{i}(x)$, llamadas [funciones de forma](https://en.wikipedia.org/wiki/Finite_element_method_in_structural_mechanics#Interpolation_or_shape_functions), son funciones [linealmente independientes](https://en.wikipedia.org/wiki/Linear_independence) y cada una de ellas satisface individualmente las condiciones de contorno:\n",
    "\n",
    "$$\\phi_{i} \\left(x_{1} \\right) = \\phi_{i} \\left(x_{2} \\right) = 0 \\quad; \\quad i = 1,2, \\ldots, n $$\n",
    "\n",
    "Estas funciones son continuas hasta el grado $m-1$, siendo $m$ el orden de la mayor derivada del funcional.\n",
    "\n",
    "Los coeficientes $a_{i}$, por determinar, se denominan parámetros de desplazamiento y la función $v(x)$ se conoce como función de aproximación.\n",
    "\n",
    "Reemplazando $y$ por $v$ en el funcional e imponiendo la condición de estacionariedad (mínimo), tenemos:\n",
    "\n",
    "<a id='Ec3_3'></a>\n",
    "\\begin{equation*}\n",
    "\\delta Y = \\frac{\\partial Y}{\\partial a_{1}} \\delta a_{1} + \\frac{\\partial Y} {\\partial a_{2}} \\delta a_{2} + \\cdots + \\frac{\\partial Y}{\\partial a_{n}} \\delta a_{n} = 0\n",
    "\\label{eq:Ec3_3} \\tag{3.3}\n",
    "\\end{equation*}\n",
    "\n",
    "Como las variaciones $\\delta a_{i} $ son arbitrarias, la [Ec. 3.3](#Ec3_3) se convierte en un sistema de ecuaciones homogéneas de la forma:\n",
    "\n",
    "<a id='Ec3_4'></a>\n",
    "\\begin{equation*}\n",
    "\\frac{\\partial Y} {\\partial a_{i}} = 0 \\quad; \\quad i = 1,2, \\ldots, n\n",
    "\\label{eq:Ec3_4} \\tag{3.4}\n",
    "\\end{equation*}\n",
    "\n",
    "Si $Y$ es una función cuadrática de $\\phi_{i}$ y $\\phi^{\\prime}{}_{i}$, entonces estas ecuaciones son lineales en $a_{i}$.\n",
    "\n",
    "Al aumentar el número $n$ de términos de la función $v(x)$, la solución, en general, se mejora, y para obtener una secuencia de soluciones convergentes para la solución exacta, se deben cumplir las siguientes condiciones:\n",
    "\n",
    "- <a id='a'></a>***a.*** las funciones aproximadas $v(x)$ deben ser continuas hasta un orden menor que la derivada más grande del integrando,\n",
    "\n",
    "\n",
    "- <a id='b'></a>***b.*** cada función $\\phi_{i}(x)$ debe satisfacer individualmente las condiciones de contorno esenciales y\n",
    "\n",
    "\n",
    "- <a id='c'></a>***c.*** la secuencia de funciones debe estar completa. Se dice que $v(x)$ está completo cuando se cumple la siguiente condición:\n",
    "\n",
    "$$\n",
    "\\lim_{n \\rightarrow \\infty} \\int_{x_1}^{x_2} \\left(y-\\sum_{i=1}^{n}a_{i}\\phi_{i} \\right)^{2}dx <\\lambda\n",
    "$$\n",
    "\n",
    "siendo $\\lambda $ un número tan pequeño como desee. Las funciones que satisfacen las dos primeras condiciones se denominan admisibles.\n",
    "\n",
    "Para verificar la convergencia del método es necesario considerar dos o más intentos para la función de aproximación. La convergencia se verifica comparando valores sucesivos $Y^{(i)}$ del funcional minimizado obtenido con la siguiente secuencia:\n",
    "\n",
    "<a id='Ec3_5'></a>\n",
    "\\begin{equation*}\n",
    "\\begin{aligned}\n",
    "v^{(1)} &=a_{1}^{(1)} \\phi_{1}^{(1)} \\\\\n",
    "v^{(2)} &=a_{1}^{(2)} \\phi_{1}^{(2)}+a_{2}^{(2)} \\phi_{2}^{(2)} \\\\\n",
    "\\vdots & \\quad \\vdots \\\\\n",
    "v^{(n)} &=a_{1}^{(n)} \\phi_{1}^{(n)}+a_{2}^{(n)} \\phi_{2}^{(n)}+\\cdots+a_{n}^{(n)} \\phi_{n}^{(n)}\n",
    "\\end{aligned}\n",
    "\\label{eq:Ec3_5} \\tag{3.5}\n",
    "\\end{equation*}\n",
    "\n",
    "Dado que la función de aproximación $n^{\\text{th}}$ incluye todas las funciones contenidas en la aproximación anterior y $Y$ se minimiza en cada paso, entonces se cumple la siguiente condición:\n",
    "\n",
    "<a id='Ec3_6'></a>\n",
    "\\begin{equation*}\n",
    "Y^{(1)} \\geq Y^{(2)} \\geq \\cdots \\geq Y^{(n)}\n",
    "\\label{eq:Ec3_6} \\tag{3.6}\n",
    "\\end{equation*}\n",
    "\n",
    "Esta convergencia a la solución exacta se llama [monótona](https://en.wikipedia.org/wiki/Monotonic_function) y las igualdades en la [Ec. 3.5](#Ec3_5) forman una secuencia minimizadora. Usando una secuencia minimizadora de funciones de aproximación, se asegura la convergencia monótona del funcional. Se observa que, para que la solución converja a la solución exacta, las funciones deben ser *admisibles* (condiciones [***a***](#a) y [***b***](#b)) y *completas* (condición [***c***](#c))."
   ]
  },
  {
   "cell_type": "markdown",
   "id": "8f3d07e8",
   "metadata": {},
   "source": [
    "#### Ejemplo: Viga prismática"
   ]
  },
  {
   "cell_type": "markdown",
   "id": "7c860da3",
   "metadata": {},
   "source": [
    "La viga prismática mostrada en la figura \n",
    "\n",
    "<a id='Fig_31'></a>\n",
    "<p float=\"center\">\n",
    "  <img src=\"https://github.com/carlosalvarezh/FEM/blob/main/images/C02_F03_VigaPrismatica.PNG?raw=true\" width=\"250\" />\n",
    "</p>\n",
    "\n",
    "<div style=\"text-align: center\"><strong>Figura 3.1.</strong>Viga prismática. <strong>Fuente:</strong> <a href=\"https://editoraunicamp.com.br/produto/503/metodo-dos-elementos-finitos-primeiros-passos-ed--3\">Assan, Método dos elementos finitos - Primeiros passos. </a></div>\n",
    "\n",
    "tiene el funcional de energía potencial total asociado\n",
    "\n",
    "<a id='Ec3_7'></a>\n",
    "\\begin{equation*}\n",
    "\\Pi =\\frac{1}{2} \\int_0^l EI \\left [\\frac{d^2v(x)}{dx^2}\\right ]^2 dx-\\int_0^l qv(x)dx\n",
    "\\label{eq:Ec3_7} \\tag{3.7}\n",
    "\\end{equation*}\n",
    "\n",
    "donde $E$ es el módulo de $Young$ del material, $I$ es el momento de inercia de la sección transversal de la viga con respecto al eje baricéntrico, $l$ es la longitud de la viga y $q$ es la carga uniformemente distribuida sobre la viga.\n",
    "\n",
    "Utilice el método de $Rayleigh-Ritz$ para aproximar la función exacta $v(x)$ a través de funciones polinomiales de grado $2, 3$ y $4$ de modo que el funcional en la [Ec. 3.7](#Ec3_7) se convierta en estacionaria."
   ]
  },
  {
   "cell_type": "markdown",
   "id": "f2d01975",
   "metadata": {},
   "source": [
    "***Solución analítica:***"
   ]
  },
  {
   "cell_type": "markdown",
   "id": "3684725f",
   "metadata": {},
   "source": [
    "Es posible encontrar una función que se aproxime a la función exacta $v(x)$ haciendo estacionaria el funcional en la [Ec. 3.7](#Ec3_7) usando el método $Rayleigh-Ritz$. Este proceso se realizará mediante tres funciones de aproximación:\n",
    "\n",
    "$$\n",
    "\\begin{aligned}\n",
    "v_1(x) &= a_0 + a_1 x + a_2 x^2                     \\\\\n",
    "v_2(x) &= a_0 + a_1 x + a_2 x^2 + a_3 x^3            \\\\\n",
    "v_3(x) &= a_0 + a_1 x + a_2 x^2 + a_3 x^3 + a_4 x^4 \n",
    "\\end{aligned}\n",
    "$$\n",
    "\n",
    "Para un parámetro de comparación con los resultados presentados por las funciones $v_1(x)$, $v_2(x)$ y $v_3(x)$ definidas en el sistema de ecuaciones anterior, se utilizará el valor máximo de deflexión de la viga en la figura. Este valor se determinó en el la solución del ejemplo de condiciones de frontera visto en el [Capítulo 2.7: Ejemplo Condiciones de frontera: Viga prismática simplemente apoyada](./Sesion05_CalculoVariacional.ipynb#maxdef), como\n",
    "\n",
    "$$v\\left (\\frac{l}{2} \\right)=\\frac{5 ql^{4}}{384 E I}$$\n",
    "\n",
    "Como primera aproximación, podemos usar la función $v_1(x)=a_0 + a_1x + a_2x^2$, de donde, considerando las condiciones de contorno esenciales, tenemos que $v_1(0)=0$, lo que lleva a $a_0=0$, y de $v_1(l)=0$, concluyendo que $a_1=-a_2l$. Entonces la función se escribe como\n",
    "\n",
    "$$v_1(x)=a_2(x^2-lx)$$\n",
    "\n",
    "Su derivada es $v_1'(x)=a_2(2x-l)$ y la derivada de segundo orden es $v_1''(x)=2a_2$. Sustituyendo estos valores del funcional en la [Ec. 3.7](#Ec3_7), tenemos que\n",
    "\n",
    "$$\\Pi =\\frac{1}{2}\\int_0^l 4 EI a_2 ^2 dx-\\int_0^l q a_2 (x^2-lx) dx\\text{.}$$\n",
    "\n",
    "De la condición de estacionariedad tenemos que $\\dfrac{\\partial \\Pi}{\\partial a_2} = 0$ y, en consecuencia\n",
    "\n",
    "$$\\frac{\\partial \\Pi}{\\partial a_2}=\\frac{\\partial}{\\partial a_2} \\left[\\int_0^l \\left(2EIa_2^2-a_2 q(x^2 -lx)\\right) dx\\right]= 0$$\n",
    "\n",
    "$$\\frac{\\partial \\Pi}{\\partial a_2}=\\int_0^l\\frac{\\partial}{\\partial a_2} \\left[2EIa_2^2 - a_2 q(x^2-lx)\\right ] dx = 0$$\n",
    "\n",
    "$$\\frac{\\partial \\Pi}{\\partial a_2}=\\int_0^l \\left[4EIa_2 - q(x^2-lx)\\right ] dx= 0$$\n",
    "\n",
    "integrando y evaluando en los límites correspondientes,\n",
    "\n",
    "$$\\left[4EIa_2 x \\Big |_0^l-q \\left(\\frac{x^3}{3} - \\frac{lx^2}{2}\\right) \\Big |_0^l\\right ]=0$$\n",
    "\n",
    "$$4EIa_2l-q \\left (\\frac{l^3}{3} - \\frac{l^3}{2} \\right)= 0$$\n",
    "\n",
    "despejando $a_2$ se llega a \n",
    "\n",
    "$$a_2=\\frac{-ql^2}{24EI}$$\n",
    "\n",
    "Con el valor de $a_2$ conocido, es posible determinar el valor de $a_1=-a_2l$, resultando en\n",
    "\n",
    "$$a_1=\\frac{ql^3}{24EI}$$\n",
    "\n",
    "Asi, la función aproximada $v_1$ puede escribirse como\n",
    "\n",
    "$$v_1(x)=\\frac{ql^3}{24EI}x-\\frac{ql^2}{24EI}x^2$$\n",
    "\n",
    "Calculando $v_1 \\left(\\frac{l}{2}\\right)$ a modo de comparación con el valor de deflexión máximo exacto de la viga, dado por,\n",
    "\n",
    "$$v_1\\left (\\frac{l}{2} \\right) = \\frac{ql^4}{96EI}$$\n",
    "\n",
    "Observe que existe una gran diferencia entre el valor encontrado por la función $v_1(x)$, y el valor exacto. Para mejorar dicha respuesta, es necesario utilizar la función definida $v_2(x) = a_0 + a_1x + a_2x^2 + a_3x^3$. De las condiciones de contorno esenciales, $v_2(0)=0$, de las cuales $a_0=0$, y $v_2(l)=0$, aislando $a_1=-a_2l - a_3l^2$. Entonces la función $v_2(x)$ queda\n",
    "\n",
    "$$v_2(x)=a_2(x^2-lx)+a_3(x^3-l^2x)$$\n",
    "\n",
    "Derivando la función $v_2$ en función de $x$, dos veces, se llega a\n",
    "\n",
    "$$\n",
    "\\begin{aligned}\n",
    "v_2'(x) &= a_2(2x-l) + a_3(3x^2-l^2) \\\\\n",
    "v_2''(x) &= 2a_2 + 6a_3 x\n",
    "\\end{aligned}\n",
    "$$\n",
    "\n",
    "Sustituyendo los valores de $v(x)$ y $v_2(x)$ en el funcional $\\Pi$, se tiene\n",
    "\n",
    "$$\\Pi=\\frac{1}{2}\\int_0^l\\left(EI(2a_2+6a_3x)^2\\right ) dx-\\int_0^l\tq\\left(a_2(x^2-lx)+\ta_3(x^3-l^2x)\\right ) dx$$\n",
    "\t\n",
    "Derivando $\\Pi$ en función de $a_2$ es posible tener\n",
    "\n",
    "$$\\frac{\\partial \\Pi}{\\partial a_2}=\\int_0^l \\left[2EI(2a_2+6a_3x)-q(x^2-lx)\\right ] dx = 0$$\t\n",
    "\n",
    "$$\\int_0^l \\left[4EIa_2 + 12EIa_3x - qx^2 + qlx\\right ] dx= 0$$\n",
    "\n",
    "integrando y evaluando en los límites correspondientes,\n",
    "\n",
    "$$4EIa_2 x \\Big |_0^l+\\frac{12a_3EI}{2} x^2 \\Big |_0^l-\t\\frac{q}{3} x^3 \\Big |_0^l+\t\\frac{ql}{2} x^2 \\Big |_0^l\t= 0\t$$\n",
    "\n",
    "se llega a\n",
    "\n",
    "<a id='Ec3_8'></a>\n",
    "\\begin{equation*}\n",
    "2a_2 + 3a_3l=\\frac{-ql^2}{12EI}\n",
    "\\label{eq:Ec3_8} \\tag{3.8}\n",
    "\\end{equation*}\n",
    "\n",
    "Derivando $\\Pi$ en relación a $a_3$ se tiene que\n",
    "\n",
    "$$\\frac{\\partial \\Pi}{\\partial a_3}\t= \\int_0^l \\left[6EI(2a_2 + 6a_3x)x\t-q(x^3 - l^2x)\\right] dx= 0$$\n",
    "\n",
    "integrando y evaluando en los límites correspondientes,\n",
    "\n",
    "$$EI \\left(\t\\frac{12a_2}{2}x^2 \\Big |_0^l+\\frac{36a_3}{3}x^3 \\Big |_0^l\\right)-q \\left(\\frac{x^4}{4} \\Big |_0^l\t-\\frac{l^2x^2}{2} \\Big |_0^l\\right)\t= 0$$\n",
    "\n",
    "se llega a\n",
    "\n",
    "<a id='Ec3_9'></a>\n",
    "\\begin{equation*}\n",
    "2a_2 + 4a_3l = -\\frac{ql^2}{12EI}\n",
    "\\label{eq:Ec3_9} \\tag{3.9}\n",
    "\\end{equation*}\n",
    "\n",
    "con las [Ec. 3.8](#Ec3_8) y [Ec. 3.9](#Ec3_9) se puede montar un sistema de ecuaciones:\n",
    "\n",
    "<a id='Ec3_10'></a>\n",
    "\\begin{equation*}\n",
    "\\begin{cases}\n",
    "2a_2+3a_3l=\\dfrac{-ql^2}{12EI}\\\\\n",
    "2a_2+4a_3l=\\dfrac{-ql^2}{12EI}\n",
    "\\end{cases}\n",
    "\\label{eq:Ec3_10} \\tag{3.10}\n",
    "\\end{equation*}\n",
    "\n",
    "se pueden encontrar los valores de $a_2$ y $a_3$.\n",
    "\n",
    "Restando las ecuaciones en [Ec. 3.10](#Ec3_10), se tiene\n",
    "\n",
    "$$4a_3l-3a_3l=-\\frac{ql^2}{12EI}+\\frac{ql^2}{12EI}$$\n",
    "\n",
    "$$a_3=0$$\n",
    "\n",
    "Consecuentemente,\n",
    "\n",
    "$$a_2=-\\frac{ql^2}{24EI}$$\n",
    "\n",
    "Así, la función $v_2(x)$ es la misma que $v_1(x)$, no permitiendo una mejora en la aproximación deseada, siendo, por tanto, inútil para este caso. Aún así, para obtener una mejor aproximación, debemos pasar a la siguiente función de aproximación elegida, $v_3(x)$.\n",
    "\n",
    "Usando la función $v_3(x)=a_0+a_1x+a_2x^2+a_3x^3+a_4x^4$, tenemos las condiciones de contorno esenciales que $v_3(0)=0$, por lo tanto $a_0=0$ y, $v_3(l)=0$, es decir, $a_1l+a_2l^2+a_3l^3+a_4l^4=0$, de lo cual se puede concluir que $a_1=-a_2l-a_3l^2-a_4l^3$. Al reemplazar $a_0$ y $a_1$ en $v_3(x)$, podemos encontrar la función\n",
    "\n",
    "<a id='Ec3_11'></a>\n",
    "\\begin{equation*}\n",
    "v_3(x)=a_2 (x^2 - lx)+a_3 (x^3 - l^2x)+a_4 (x^4 - l^3x)\n",
    "\\label{eq:Ec3_11} \\tag{3.11}\n",
    "\\end{equation*}\n",
    "\n",
    "Derivando dos veces $v_3$ con relación a $x$:\n",
    "\n",
    "$$v_3'(x)=a_2(2x - l)+a_3(3x^2 - l^2)+a_4(4x^3 - l^3)$$\n",
    "\n",
    "<a id='Ec3_12'></a>\n",
    "\\begin{equation*}\n",
    "v_3''(x)=2a_2+6a_3 x+12a_4 x^2\n",
    "\\label{eq:Ec3_12} \\tag{3.12}\n",
    "\\end{equation*}\n",
    "\n",
    "Substituyendo las [Ec. 3.11](#Ec3_11) y [Ec. 3.12](#Ec3_12) en $\\Pi$,\n",
    "\n",
    "$$\\Pi = \\frac{1}{2} \\int_0^l \\left[EI(2a_2+6a_3x+12a_4x^2)^2\\right ] dx\t-\\int_0^l q \\left[a_2(x^2 - lx)\t+a_3(x^3 - l^2x)+a_4(x^4 - l^3x)\\right ] dx$$\n",
    "\n",
    "de donde se puede derivar $\\Pi$ con relación a $a_2$, $a_3$ y $a_4$ para obtener un sistema de ecuaciones permitiendo la determinación de $a_2$, $a_3$ y $a_4$. \n",
    "\n",
    "Haciendo $\\dfrac{\\partial \\Pi}{\\partial a_2} = 0$:\n",
    "\n",
    "<a id='Ec3_13'></a>\n",
    "\\begin{equation*}\n",
    "\\frac{\\partial \\Pi}{\\partial a_2}=\\int_0^l \\left[2EI(2a_2 + 6a_3x + 12a_4x^2)-q(x^2 - lx)\\right]dx=0\n",
    "\\label{eq:Ec3_13} \\tag{3.13}\n",
    "\\end{equation*}\n",
    "\n",
    "integrando y evaluando en los límites correspondientes,\n",
    "\n",
    "$$EI \\left(4a_2 x \\Big |_0^l+\\frac{12a^3}{2}x^2 \\Big |_0^l+\\frac{24a_4}{3}x^3 \\Big |_0^l\\right)-q \\left(\\frac{x^3}{3} \\Big |_0^l-\\frac{lx^2}{2} \\Big |_0^l\\right)=0$$\n",
    "\n",
    "se llega a:\n",
    "\n",
    "$$EI(4a_2l + 6a_3l^2 + 8a_4l^3)=\\frac{ql^3}{3}-\\frac{ql^3}{2}$$\n",
    "\n",
    "$$4a_2l + 6a_3l^2 + 8a_4l^3 = -\\frac{ql^3}{6EI}$$\n",
    "\n",
    "<a id='Ec3_14'></a>\n",
    "\\begin{equation*}\n",
    "2a_2 + 3a_3l + 4a_4l^2 = -\\frac{ql^2}{12EI}\n",
    "\\label{eq:Ec3_14} \\tag{3.14}\n",
    "\\end{equation*}\n",
    "\t\t\n",
    "Haciendo $\\dfrac{\\partial \\Pi}{\\partial a_3} = 0$, se tiene\n",
    "\n",
    "<a id='Ec3_15'></a>\n",
    "\\begin{equation*}\n",
    "\\frac{\\partial \\Pi}{\\partial a_3}=\\int_0^l \\left[6xEI(2a_2 + 6a_3x + 12a_4x^2)-q(x^3 - l^2x)\\right] dx= 0\n",
    "\\label{eq:Ec3_15} \\tag{3.15}\n",
    "\\end{equation*}\n",
    "\n",
    "integrando y evaluando en los límites correspondientes,\n",
    "\n",
    "$$EI \\left( \\frac{12a_2}{2} x^2 \\Big |_0^l+\t\\frac{36a_3}{3} x^3 \\Big |_0^l+\\frac{72a_4}{4} x^4 \\Big |_0^l\\right)-q \\left(\\frac{x^4}{4} \\Big |_0^l-\\frac{l^2 x}{2} \\Big |_0^l\\right)=0$$\n",
    "\n",
    "Se llega a:\n",
    "\n",
    "$$EI(6a_2 l^2 + 12a_3 l^3 + 18a_4 l^4)=-\\frac{ql^4}{4}$$\n",
    "\n",
    "<a id='Ec3_16'></a>\n",
    "\\begin{equation*}\n",
    "a_2 + 2a_3 l + 3a_4 l^2 = - \\frac{ql^2}{24EI}\n",
    "\\label{eq:Ec3_16} \\tag{3.16}\n",
    "\\end{equation*}\n",
    "\n",
    "Por último, haciendo $\\dfrac{\\partial \\Pi}{\\partial a_4}=0$, se tiene\n",
    "\n",
    "<a id='Ec3_17'></a>\n",
    "\\begin{equation*}\n",
    "\\frac{\\partial \\Pi}{\\partial a_4}=\\int_0^l \\left[12x^2EI(2a_2 + 6a_3x + 12a_4x^2)-q(x^4 -l^3x)\\right ] dx=0\n",
    "\\label{eq:Ec3_17} \\tag{3.17}\n",
    "\\end{equation*}\n",
    "\n",
    "integrando y evaluando en los límites correspondientes,\n",
    "\n",
    "$$EI \\left(\\frac{24a_2}{3}x^3 \\Big |_0^l+\\frac{72a_3}{4}x^4 \\Big |_0^l+\\frac{144a_4}{5}x^5 \\Big |_0^l\\right)-q \\left(\\frac{x^5}{5} \\Big |_0^l-\\frac{l^3x^2}{2} \\Big |_0^l\\right)= 0$$\n",
    "\n",
    "$$EI \\left(8a_2 l^3 + 18 a_3 l^4 + \\frac{144}{5} a_4 l^5\\right)=\\frac{ql^5}{5}-\\frac{ql^5}{2}$$\n",
    "\n",
    "<a id='Ec3_18'></a>\n",
    "\\begin{equation*}\n",
    "8a_2 + 18a_3 l + \\frac{144}{5} a_4 l^2 =-\\frac{3ql^2}{10EI}\n",
    "\\label{eq:Ec3_18} \\tag{3.18}\n",
    "\\end{equation*}\n",
    "\n",
    "Se obtiene un sistema lineal de 3 ecuaciones con 3 incógnitas:\n",
    "\t\n",
    "<a id='Ec3_19'></a>\n",
    "\\begin{equation*}\n",
    "\t\\begin{cases}\n",
    "\t\t2a_2 + 3a_3l + 4a_4l^2 = -\\dfrac{ql^2}{12EI}\\\\\n",
    "\t\ta_2 + 2a_3 l + 3a_4 l^2 = - \\dfrac{ql^2}{24EI}\\\\\n",
    "\t\t8a_2 + 18a_3 l + \\frac{144}{5} a_4 l^2 = -\\dfrac{3ql^2}{10EI}\n",
    "\t\\end{cases}\n",
    "\\label{eq:Ec3_19} \\tag{3.19}\n",
    "\\end{equation*}\n",
    "\n",
    "Sea $C=-\\dfrac{ql^2}{12EI}$ y $D=-\\dfrac{3ql^2}{10EI}$, se tiene  la matriz aumentada del sistema lineal dado por la ecuación anterior.\n",
    "\n",
    "<a id='Ec3_20'></a>\n",
    "\\begin{align*}\n",
    "\\left(\\begin{array}{ccccccc}\n",
    "\t\t2\t& \t3l\t&\t4l^2 \t\t\t\t& C \\\\\n",
    "\t\t1\t& \t2l\t&\t3l^2\t\t\t \t& \\frac{1}{2}C \\\\\n",
    "\t\t8 \t& \t18l & \t\\frac{144}{5} l^2\t& D\n",
    "\\end{array}\\right)\n",
    "\\label{eq:Ec3_20} \\tag{3.20}\n",
    "\\end{align*}\n",
    "\n",
    "donde, resolviendo el sistema, se obtienen los valores\n",
    "\n",
    "$$a_2=0$$\n",
    "\n",
    "$$a_3=-\\frac{ql}{12EI}$$\n",
    "\n",
    "$$a_4=\\frac{q}{24EI}$$\n",
    "\n",
    "\t\n",
    "De este modo, substituyendo los valores anteriores en la [Ec. 3.11], la función $v_3(x)$ es escrita como:\n",
    "\n",
    "<a id='Ec3_21'></a>\n",
    "\\begin{align*}\n",
    "v_3(x) =\\frac{q}{24EI} ( x^4 - l^3 x )-\\frac{ql}{24EI} ( x^3 - l^2 x )\n",
    "\\label{eq:Ec3_21} \\tag{3.21}\n",
    "\\end{align*}\n",
    "\n",
    "\t\n",
    "Utilizando los valores $a_2, a_3$ y $a_4$, encontrados en la solución del sistema lineal con matriz aumentada, es posible determinar el coeficiente $a_1=-a_2l-a_3l^2-a_4l^3$, que es\n",
    "\n",
    "<a id='Ec3_22'></a>\n",
    "\\begin{align*}\n",
    "a_1 = \\frac{ql^3}{24EI}\n",
    "\\label{eq:Ec3_22} \\tag{3.22}\n",
    "\\end{align*}\n",
    "\n",
    "De hecho, no es necesario obtener el valor del coeficiente $a_1$, ya que $v_3(x)$ se escribió independientemente de $a_1$ en [Ec. 3.11](#Ec3_11). Este se empleó para que la función $v_3(x)$ se pueda escribir, a partir de $v_3(x)$ como\n",
    "\n",
    "<a id='Ec3_23'></a>\n",
    "\\begin{align*}\n",
    "v_3(x)=\t\\frac{ql^3}{24EI} x\t-\\frac{ql}{12EI} x^3+\\frac{q}{24EI} x^4\n",
    "\\label{eq:Ec3_23} \\tag{3.23}\n",
    "\\end{align*}\n",
    "\n",
    "El valor de deflexión máxima, está dada por\n",
    "\n",
    "$$v_3\\left(\\frac{l}{2}\\right)=\\frac{5ql^4}{384EI}$$\n",
    "\n",
    "que es el valor exacto indicado en el [Capítulo 2.7: Ejemplo Condiciones de frontera: Viga prismática simplemente apoyada](./Sesion05_CalculoVariacional.ipynb#maxdef). No solo esto, sino que la función $v_3(x)$, indicada en [Ec. 3.21](#Ec3_21) o en [Ec. 3.23](#Ec3_23), es la función $v(x)$ exacta."
   ]
  },
  {
   "cell_type": "markdown",
   "id": "b6eba7bf",
   "metadata": {},
   "source": [
    "#### Solución empleando cálculo simbólico"
   ]
  },
  {
   "cell_type": "markdown",
   "id": "15bd2843",
   "metadata": {},
   "source": [
    "Ahora vamos a desarrollar la solución de este ejemplo empleando una implementación computacional usando el lenguaje [`python`](https://www.python.org/) y la biblioteca de cálculo simbólico [`sympy`](https://www.sympy.org/en/index.html).\n",
    "\n",
    "Iniciamos con el llamado a los modulos y la definición de los símbolos a ser empleados"
   ]
  },
  {
   "cell_type": "code",
   "execution_count": null,
   "id": "08e9d12a",
   "metadata": {},
   "outputs": [],
   "source": [
    "from sympy import * #symbols, integrate, diff, Matrix\n",
    "from sympy.solvers import solve\n",
    "\n",
    "init_printing(use_latex='mathjax')\n",
    "\n",
    "l, E, I, x, q = symbols('l E I x q')\n",
    "a2, a3, a4 = symbols(\"a2 a3 a4\")"
   ]
  },
  {
   "cell_type": "markdown",
   "id": "f94fe2bf",
   "metadata": {},
   "source": [
    "Seguidamente, se construye la función $v$ (ya sin el termino nulo $a_0$) ni el término $a_1$, que será determinado más adelante"
   ]
  },
  {
   "cell_type": "code",
   "execution_count": null,
   "id": "9abc87bb",
   "metadata": {},
   "outputs": [],
   "source": [
    "v = a2 * (x**2 - l*x) + a3 * (x**3 - l**2 * x) + a4 * (x**4 - l**3 * x)\n",
    "v"
   ]
  },
  {
   "cell_type": "markdown",
   "id": "c52d5de5",
   "metadata": {},
   "source": [
    "Se derivará dos veces respecto a $x$"
   ]
  },
  {
   "cell_type": "code",
   "execution_count": null,
   "id": "fa3f3c46",
   "metadata": {},
   "outputs": [],
   "source": [
    "dv2 = diff(v,x,2)\n",
    "dv2"
   ]
  },
  {
   "cell_type": "markdown",
   "id": "029f4f29",
   "metadata": {},
   "source": [
    "Se construye la ecuación diferencial"
   ]
  },
  {
   "cell_type": "code",
   "execution_count": null,
   "id": "207d4295",
   "metadata": {},
   "outputs": [],
   "source": [
    "f = (E*I*((dv2)**2)) / 2 - q * v\n",
    "f"
   ]
  },
  {
   "cell_type": "markdown",
   "id": "e03f6bb3",
   "metadata": {},
   "source": [
    "Se deriva la ecuación $f$ respecto a cada uno de los coeficientes $a_i$"
   ]
  },
  {
   "cell_type": "code",
   "execution_count": null,
   "id": "5be11fd4",
   "metadata": {},
   "outputs": [],
   "source": [
    "df_a2 = diff(f, a2)\n",
    "df_a2"
   ]
  },
  {
   "cell_type": "code",
   "execution_count": null,
   "id": "c8c852cd",
   "metadata": {},
   "outputs": [],
   "source": [
    "df_a3 = diff(f, a3)\n",
    "df_a3"
   ]
  },
  {
   "cell_type": "code",
   "execution_count": null,
   "id": "b79ebddc",
   "metadata": {
    "scrolled": true
   },
   "outputs": [],
   "source": [
    "df_a4 = diff(f, a4)\n",
    "df_a4"
   ]
  },
  {
   "cell_type": "markdown",
   "id": "4a6cf5c5",
   "metadata": {},
   "source": [
    "Ahora se integra cada término en el intervalo $[0,l]$"
   ]
  },
  {
   "cell_type": "code",
   "execution_count": null,
   "id": "f718e316",
   "metadata": {
    "scrolled": true
   },
   "outputs": [],
   "source": [
    "Integral(df_a2, (x,0, l))"
   ]
  },
  {
   "cell_type": "code",
   "execution_count": null,
   "id": "6bd3f9aa",
   "metadata": {},
   "outputs": [],
   "source": [
    "eq1 = integrate(df_a2, (x, 0, l))\n",
    "eq1"
   ]
  },
  {
   "cell_type": "code",
   "execution_count": null,
   "id": "e8c17820",
   "metadata": {},
   "outputs": [],
   "source": [
    "eq2 = integrate(df_a3, (x, 0, l))\n",
    "eq2"
   ]
  },
  {
   "cell_type": "code",
   "execution_count": null,
   "id": "5f9d60d8",
   "metadata": {},
   "outputs": [],
   "source": [
    "Integral(df_a4, (x,0, l))"
   ]
  },
  {
   "cell_type": "code",
   "execution_count": null,
   "id": "3c191c79",
   "metadata": {},
   "outputs": [],
   "source": [
    "eq3 = integrate(df_a4, (x, 0, l))\n",
    "eq3"
   ]
  },
  {
   "cell_type": "markdown",
   "id": "2abb95e5",
   "metadata": {},
   "source": [
    "Resolviendo para cada uno de los coeficientes $a_2, a_3$ y $a_4$ sus valores son:"
   ]
  },
  {
   "cell_type": "code",
   "execution_count": null,
   "id": "f3930747",
   "metadata": {},
   "outputs": [],
   "source": [
    "sol = solve([eq1, eq2, eq3], [a2, a3, a4])\n",
    "sol"
   ]
  },
  {
   "cell_type": "markdown",
   "id": "bd7419dc",
   "metadata": {},
   "source": [
    "Substituyendo estos valores en la expresión para el coeficiente $a_1$"
   ]
  },
  {
   "cell_type": "code",
   "execution_count": null,
   "id": "c14d2724",
   "metadata": {},
   "outputs": [],
   "source": [
    "a1 = -a2*l - a3*l**2 - a4 * l**3\n",
    "a1 = a1.subs(a2, sol[a2])\n",
    "a1 = a1.subs(a3, sol[a3])\n",
    "a1 = a1.subs(a4, sol[a4])\n",
    "a1"
   ]
  },
  {
   "cell_type": "markdown",
   "id": "6b19f033",
   "metadata": {},
   "source": [
    "Por último, la expresión para la función $v_3(x)$ queda:"
   ]
  },
  {
   "cell_type": "code",
   "execution_count": null,
   "id": "f1afbfd4",
   "metadata": {},
   "outputs": [],
   "source": [
    "v = a1*x + sol[a2]*x**2 + sol[a3]*x**3 + sol[a4]*x**4\n",
    "v"
   ]
  },
  {
   "cell_type": "code",
   "execution_count": null,
   "id": "188e2c9f",
   "metadata": {},
   "outputs": [],
   "source": [
    "collect(v,x)"
   ]
  },
  {
   "cell_type": "markdown",
   "id": "2a7eb614",
   "metadata": {},
   "source": [
    "<a id='maxdef'></a>\n",
    "Como dato adicional, la máxima deformación de la viga se da en $x=l/2$, entonces, la expresión es:"
   ]
  },
  {
   "cell_type": "code",
   "execution_count": null,
   "id": "f93025e5",
   "metadata": {},
   "outputs": [],
   "source": [
    "maxdef = v.subs(x, l/2)\n",
    "maxdef"
   ]
  },
  {
   "cell_type": "markdown",
   "id": "b26eab86",
   "metadata": {},
   "source": [
    "### Método de Galerkin"
   ]
  },
  {
   "cell_type": "markdown",
   "id": "85491323",
   "metadata": {},
   "source": [
    "El [método de $Galerkin$](https://en.wikipedia.org/wiki/Galerkin_method) no requiere la existencia de un funcional. Utiliza directamente la ecuación diferencial (forma fuerte) que describe matemáticamente el problema a analizar.\n",
    "\n",
    "Aunque es diferente del método de $Rayleigh-Ritz$, el método de $Galerkin$ produce los mismos resultados en algunos casos, como se verá más adelante.\n",
    "\n",
    "Para resolver un sistema de ecuaciones diferenciales, o una ecuación diferencial por el método de $Galerkin$por, se sustituyen una o más funciones de aproximación que deben satisfacer las condiciones de contorno.\n",
    "\n",
    "Como las funciones de aproximación no son la solución exacta de la ecuación diferencial, o el sistema de ecuaciones diferenciales, hay uno o más residuos que deben ponderarse usando [funciones de ponderación](https://en.wikipedia.org/wiki/Weight_function), y el producto entre la función residual y cada función de ponderación se supone igual a cero en el dominio de integración, lo que determina la condición de [ortogonalidad](https://en.wikipedia.org/wiki/Orthogonality_principle).\n",
    "\n",
    "Suponga un sistema de ecuaciones lineales de la forma:\n",
    "\n",
    "<a id='Ec3_24'></a>\n",
    "\\begin{align*}\n",
    "Lv = f\n",
    "\\label{eq:Ec3_24} \\tag{3.24}\n",
    "\\end{align*}\n",
    "\n",
    "donde $L$ es un operador y la función $v$ satisface ciertas condiciones de contorno. Suponemos una función aproximada $\\bar{v}$ para $v$ de la forma:\n",
    "\n",
    "<a id='Ec3_25'></a>\n",
    "\\begin{align*}\n",
    " \\bar{v}=\\sum_{i=1}^{n}a_{i} \\phi_{i}\n",
    "\\label{eq:Ec3_25} \\tag{3.25}\n",
    "\\end{align*}\n",
    "\n",
    "donde $\\phi_{i}$ son funciones que satisfacen las condiciones de contorno del problema.\n",
    "Reemplazando $v$ con $\\bar{v}$, la [Ec. 3.24](#Ec3_24) ya no se cumple, por lo que hay un error dado por:\n",
    "\n",
    "<a id='Ec3_26'></a>\n",
    "\\begin{align*}\n",
    "\\epsilon = L \\bar{v}-f\n",
    "\\label{eq:Ec3_26} \\tag{3.26}\n",
    "\\end{align*}\n",
    "\n",
    "El método de $Galerkin$ expresa la condición de ortogonalidad entre la función $\\epsilon$ y las funciones de ponderación $\\phi_{i}$, resultando en:\n",
    "\n",
    "<a id='Ec3_27'></a>\n",
    "\\begin{align*}\n",
    "\\int_{V} (L\\bar{v}-f) \\phi_{i} dV = 0 \\quad; \\quad i = 1,2, \\cdots, n\n",
    "\\label{eq:Ec3_27} \\tag{3.27}\n",
    "\\end{align*}\n",
    "\n",
    "Los coeficientes $ a_{i} $ provienen de la solución del sistema de $n$ ecuaciones representadas por la [Ec. 3.27](#Ec3_27). Los coeficientes $a_{i}$ se determinan de modo que los residuos desaparezcan en cada integración ponderada."
   ]
  },
  {
   "cell_type": "markdown",
   "id": "af023310",
   "metadata": {},
   "source": [
    "#### Ejemplo: Viga prismática"
   ]
  },
  {
   "cell_type": "markdown",
   "id": "50cc9860",
   "metadata": {},
   "source": [
    "Resuelva el problema de la viga en la [Fig. 3.1](#Fig_31). La energía potencial total está representada por la [Ec. 3.7](#Ec3_7).\n",
    "La primera variación de la función $\\Pi$ proporciona:\n",
    "\n",
    "$$\n",
    "\\delta \\Pi = \\int_{0}^{l} \\left(EI \\frac{d^{2}v}{dx^{2}} \\frac{d^{2} \\delta v} {dx^{2}} - q \\delta v \\right) dx\n",
    "$$\n",
    "\n",
    "Integrando por partes la última igualdad y anulándola, tenemos:\n",
    "\n",
    "$$\n",
    "\\ int_{0}^{l} \\left(EI \\frac{d^{4}v}{dx^{4}} - q \\right) \\delta vdx + \\left.EI \\frac{d^{2}v}{dx^{2}} \\frac{d \\delta v}{dx} \\right|_{0}^{l} - \\left.EI \\frac{d^{3} v} {dx^{3}} \\delta v \\right|_{0}^{l} = 0\n",
    "$$\n",
    "\n",
    "Recordando que:\n",
    "\n",
    "$$V = -E I \\frac{d^{3} v}{dx^{3}} \\quad \\text {fuerza cortante}$$\n",
    "\n",
    "y\n",
    "\n",
    "$$M = -EI \\frac{d^{2} v}{dx^{2}} \\quad \\text {momento flector}$$\n",
    "\n",
    "esta ecuación es:\n",
    "\n",
    "$$\n",
    "\\int_{0}^{l} \\left(EI \\frac{d^{4} v}{dx^{4}} - q \\right) \\delta vdx- \\left.M \\frac{d \\delta v} {dx} \\right|_{0}^{l} + \\left.V \\delta v \\right|_{0}^{l} = 0\n",
    "$$\n",
    "\n",
    "Si hay fuerza cortante $V^{*}$ y momento flector $M^{*}$ aplicado en el punto de coordenadas $x = x^{*}$ del eje de la viga, los términos deben agregarse a esta ecuación:\n",
    "\n",
    "$$\n",
    "- \\left.V^{*} \\delta v \\right|_{x = x^{*}} \\quad \\text {y} \\quad- \\left.M^{*} \\frac{d \\delta v} {dx} \\right|_{x = x^{*}}\n",
    "$$\n",
    "\n",
    "Suponiendo que solo existe la carga $q$, y las condiciones de contorno hacen que los dos últimos términos desaparezcan, la ecuación anterior se reduce a:\n",
    "\n",
    "<a id='Ec3_28'></a>\n",
    "\\begin{align*}\n",
    "\\int_{0}^{l} \\left(EI \\frac{d^{4}v}{dx^{4}} - q \\right) \\delta vdx = 0\n",
    "\\label{eq:Ec3_28} \\tag{3.28}\n",
    "\\end{align*}\n",
    "\n",
    "Observe que en el [Capítulo 2.6: Condiciones de frontera naturales y esenciales](./Sesion05_CalculoVariacional.ipynb#BCs) se obtuvo la misma ecuación con la condición de estacionariedad de la energía potencial total funcional para el mismo haz en la [Fig. 3.1](#Fig_31).\n",
    "\n",
    "Como $\\bar{v} = \\bar{v}(x)$ es la función aproximada, la [Ec. 3.28](#Ec3_28) se puede escribir, por analogía con [Ec. 3.27](#Ec3_27), como:\n",
    "\n",
    "<a id='Ec3_29'></a>\n",
    "\\begin{align*}\n",
    "\\int_{0}^{l}(L \\bar{v}-q) \\delta \\bar{v}dx = 0\n",
    "\\label{eq:Ec3_29} \\tag{3.29}\n",
    "\\end{align*}\n",
    "\n",
    "Asumiendo la forma de la función de aproximación:\n",
    "\n",
    "$$\\bar{v}=\\sum_{i = 1}^{n} a_{i} \\phi_{i}$$\n",
    "\n",
    "La variación de esta función es:\n",
    "\n",
    "$$\\delta \\bar{v} = \\sum_{i = 1}^{n} \\delta a_{i} \\phi_{i}$$\n",
    "\n",
    "que tomado en [Ec. 3.29](#Ec3_29) proporciona:\n",
    "\n",
    "$$\\int_{0}^{l} (L \\bar{v} -q) \\sum_{i = 1}^{n} \\delta a_{i} \\phi_{i} dx = 0$$\n",
    "\n",
    "desagregando esta ecuación, se tiene:\n",
    "\n",
    "$$\n",
    "\\int_{0}^{l} L \\bar{v} \\sum_{i = 1}^{n} \\delta a_{i} \\phi_{i} dx = \\int_{0}^{l} q \\sum_{i = 1}^{n} \\delta a_{i} \\phi_{i} dx\n",
    "$$\n",
    "\n",
    "lo que resulta en:\n",
    "\n",
    "<a id='Ec3_30'></a>\n",
    "\\begin{align*}\n",
    "\\int_{0}^{l} (L \\bar{v} -q) \\phi_{i} dx = 0\n",
    "\\label{eq:Ec3_30} \\tag{3.30}\n",
    "\\end{align*}\n",
    "\n",
    "que es formalmente igual a la [Ec. 3.27](#Ec3_27), lo que muestra que en este caso hay equivalencia entre el método de $Rayleigh-Ritz$ y el método de $Galerkin$.\n",
    "\n",
    "Para resolver el problema propuesto, se asume la serie trigonométrica como una función de aproximación:\n",
    "\n",
    "<a id='Ec3_31'></a>\n",
    "\\begin{align*}\n",
    "\\bar{v}(x) = a_{1} \\sin\\frac{\\pi x}{l} + a_{2} \\sin \\frac{2 \\pi x}{l} + a_{3} \\sin \\frac{3 \\pi x}{l} + a_{4} \\sin \\frac{4 \\pi x}{l}\n",
    "\\label{eq:Ec3_31} \\tag{3.31}\n",
    "\\end{align*}\n",
    "\n",
    "que satisface las condiciones de contorno esenciales: $\\bar{v}(0)=0$ y $\\bar{v}(l)=0$\n",
    "\n",
    "La derivada de cuarto orden de la función $\\bar{v}(x)$ es:\n",
    "\n",
    "$$\n",
    "\\bar{v}^{(IV)}(x) = \\frac{\\pi^{4}}{l^{4}} \\left[a_{1} \\sin \\frac{\\pi x}{l} + 16 a_{2} \\sin \\frac{2\\pi x}{l} + 81 a_{3} \\sin \\frac{3 \\pi x}{l} + 256 a_{4} \\sin \\frac{4 \\pi x}{l} \\right]\n",
    "$$\n",
    "\n",
    "Reescribiendo la ecuación [Ec. 3.30](#Ec3_30) con la cuarta derivada de $\\bar{v}(x)$ en lugar del operador $L$, resulta:\n",
    "\n",
    "$$\n",
    "\\int_{0}^{l} \\left(EI \\bar{v}^{IV} -q \\right) \\phi_{i}dx = 0 \\quad \\text{con} \\quad i = 1,2, 3,4\n",
    "$$\n",
    "\n",
    "siendo $\\phi_{i}$ dado por:\n",
    "\n",
    "$$\n",
    "\\begin{array}{ll}\n",
    "\\phi_{1} = \\sin \\frac{\\pi x}{l}   \\quad & \\phi_{2} = \\sin \\frac{2 \\pi x}{l} \\\\\n",
    "\\phi_{3} = \\sin \\frac{3 \\pi x}{l} \\quad & \\phi_{4} = \\sin \\frac{4 \\pi x}{l}\n",
    "\\end{array}\n",
    "$$\n",
    "\n",
    "El resultado son cuatro ecuaciones escritas como:\n",
    "\n",
    "\\begin{aligned}\n",
    "&\\int_{0}^{l}\\left(E I \\bar{v}^{(IV)}-q\\right) \\sin \\frac{\\pi x}{l}=0 \\\\\n",
    "&\\int_{0}^{l}\\left(E I \\bar{v}^{(IV)}-q\\right) \\sin \\frac{2 \\pi x}{l}=0 \\\\\n",
    "&\\int_{0}^{l}\\left(E I \\bar{v}^{(IV)}-q\\right) \\sin \\frac{3 \\pi x}{l}=0 \\\\\n",
    "&\\int_{0}^{l}\\left(E I \\bar{v}^{(IV)}-q\\right) \\sin \\frac{4 \\pi x}{l}=0\n",
    "\\end{aligned}\n",
    "\n",
    "La solución a este sistema de ecuaciones proporciona:\n",
    "\n",
    "$$\n",
    "a_{1} = \\frac{4 ql^{4}}{\\pi^{5} EI} \\quad, \\quad a_{2} = 0 \\quad, \\quad a_{3} = \\frac{4 ql^{4}} {243 \\pi^{5} EI} \\quad \\text{y} \\quad a_{4} = 0\n",
    "$$\n",
    "\n",
    "La función de aproximación, entonces, es:\n",
    "\n",
    "$$\n",
    "\\bar{v}(x) = \\frac{4 ql^{4}} {\\pi^{5} EI} \\left(\\sin \\frac{\\pi x}{l} + \\frac{1}{243} \\sin \\frac {3 \\pi x}{l} \\right)\n",
    "$$\n",
    "\n",
    "Para $x=1/2$, la deflexión es:\n",
    "\n",
    "$$f = \\bar{v} \\left(\\frac{l}{2} \\right) = \\frac{ql^{4}}{76,8 EI}$$\n",
    "\n",
    "que es el valor exacto."
   ]
  },
  {
   "cell_type": "markdown",
   "id": "b730fc07",
   "metadata": {},
   "source": [
    "### Ejercicios"
   ]
  },
  {
   "cell_type": "markdown",
   "id": "26c3599f",
   "metadata": {},
   "source": [
    "<div class=\"alert alert-block alert-success\">\n",
    "<b>1.</b> Empleando el método de $Rayleigh-Ritz$, obtener las deflexiones para una viga simplemente apoyada, de longitud $1$, sujeta a una carga vertical $P$ actuando en el medio del tramo. Usar para deflexiones:\n",
    "    \n",
    "$$v = \\sum_{n = 1}^{3} a_{i} \\sin \\frac{n \\pi x}{l}$$\n",
    "\n",
    "</div>"
   ]
  },
  {
   "cell_type": "markdown",
   "id": "a9783c31",
   "metadata": {},
   "source": [
    "<div class=\"alert alert-block alert-success\">\n",
    "<b>2.</b> Suponga que una viga en voladizo, de longitud $1$, se somete a la acción de un momento $M_{0}$, con sentido horario en su extremo libre, y una carga vertical uniformemente distribuida $ q $. Usando el método de Galerkin y asumiendo una función de aproximación polinomial para las deflexiones, encuentre el valor exacto de la deflexión máxima.:\n",
    "    \n",
    "<a id='Fig_32'></a>\n",
    "<p float=\"center\">\n",
    "  <img src=\"https://github.com/carlosalvarezh/FEM/blob/main/images/C03_F01_Ejercicio2.PNG?raw=true\" width=\"250\" />\n",
    "</p>\n",
    "\n",
    "<div style=\"text-align: center\"><strong>Figura 3.2.</strong>Viga prismática con cargamento axial y transversal. <strong>Fuente:</strong> <a href=\"https://editoraunicamp.com.br/produto/503/metodo-dos-elementos-finitos-primeiros-passos-ed--3\">Assan, Método dos elementos finitos - Primeiros passos. </a></div>\n",
    "\n",
    "\n",
    "</div>"
   ]
  },
  {
   "cell_type": "markdown",
   "id": "a202786e",
   "metadata": {},
   "source": [
    "<div class=\"alert alert-block alert-success\">\n",
    "<b>3.</b> Suponga que la viga del ejercicio anterior tiene un resorte, con un coeficiente de resorte $k$, como soporte en el extremo libre y que solo actúa como carga $q$. Determine la fuerza del resorte utilizando el método de $Rayleigh-Ritz$. Adopte la función de aproximación para las deflexiones:\n",
    "\n",
    "$$v = a_{0} + a_{1} x + a_{2} x^{2} + a_{3} x^{3}$$ \n",
    "\n",
    "</div>"
   ]
  },
  {
   "cell_type": "markdown",
   "id": "726032b4",
   "metadata": {},
   "source": [
    "<div class=\"alert alert-block alert-success\">\n",
    "<b>4.</b> Usando los métodos de $Galerkin$ y $Rayleigh-Ritz$, encuentre la solución a la ecuación diferencial:\n",
    "   \n",
    "$$\\frac{d^{2} y}{dx^{2}} + y = \\sin(x)$$\n",
    "\n",
    "</div>"
   ]
  },
  {
   "cell_type": "markdown",
   "id": "4a23e02b",
   "metadata": {},
   "source": [
    "<div class=\"alert alert-block alert-success\">\n",
    "<b>5.</b> Construya el funcional a partir de la siguiente ecuación diferencial:\n",
    "    \n",
    "$$- \\frac{d}{d x} \\left(\\frac{dy}{dx} \\right) -y-2x^{2} = 0$$\n",
    "    \n",
    "con las condiciones de contorno: $y(0)= 0$ y $\\frac{dy}{dx} = 1$.\n",
    "\n",
    "</div>"
   ]
  },
  {
   "cell_type": "markdown",
   "id": "572728d7",
   "metadata": {},
   "source": [
    "<div class=\"alert alert-block alert-success\">\n",
    "<b>6.</b> Calcule el valor de deflexión en el tramo medio de la viga que se muestra en la Figura 3.2, sujeta a la acción de una carga uniformemente distribuida $q$ y una fuerza de compresión axial $P$. Se conocen la longitud de la viga $1$, el módulo de Young $E$ y el momento de inercia $I$ de la sección transversal de la viga. Adopte la siguiente función de aproximación para las deflexiones: \n",
    "\n",
    "$$ v=a \\sin \\frac{\\pi x}{l}$$\n",
    "\n",
    "</div>"
   ]
  },
  {
   "cell_type": "markdown",
   "id": "0b96cdc1",
   "metadata": {},
   "source": [
    "<div class=\"alert alert-block alert-success\">\n",
    "<b>7.</b> Calcule el valor de la carga crítica de pandeo para una columna sometida a la acción de una carga $q$ distribuida uniformemente a lo largo de su longitud. Se conocen la longitud $l$, el módulo de Young $E$ y el momento de inercia $I$. Suponga una función aproximada de las deflexiones \n",
    "    \n",
    "$$ v(x) = \\alpha \\left(x^{3} -3 lx^{2} \\right)$$\n",
    "\n",
    "</div>"
   ]
  },
  {
   "cell_type": "markdown",
   "id": "4c435b50",
   "metadata": {},
   "source": [
    "<div class=\"alert alert-block alert-success\">\n",
    "<b>8.</b> Usando el método de $Galerkin$, encuentre la solución aproximada de la ecuación de Poisson:\n",
    "\n",
    "$$\\frac{\\partial^{2} v}{\\partial x^{2}} + \\frac{\\partial^{2} v}{\\partial y^{2}} = r$$\n",
    "    \n",
    "con las condiciones de contorno: $v=0$ en los bordes del rectángulo de la Figura 3.4. Adopte como función aproximada: $v(x,y)=cxy(x-a)(y-b)$.\n",
    "\n",
    "<a id='Fig_33'></a>\n",
    "<p float=\"center\">\n",
    "  <img src=\"https://github.com/carlosalvarezh/FEM/blob/main/images/C03_F02_Ejercicio8.PNG?raw=true\" width=\"150\" />\n",
    "</p>\n",
    "\n",
    "<div style=\"text-align: center\"><strong>Figura 3.3.</strong>Dominio para la ecuacion de Poisson. <strong>Fuente:</strong> <a href=\"https://editoraunicamp.com.br/produto/503/metodo-dos-elementos-finitos-primeiros-passos-ed--3\">Assan, Método dos elementos finitos - Primeiros passos. </a></div>    \n",
    "    \n",
    "</div>"
   ]
  },
  {
   "cell_type": "code",
   "execution_count": null,
   "id": "34143122",
   "metadata": {},
   "outputs": [],
   "source": []
  }
 ],
 "metadata": {
  "kernelspec": {
   "display_name": "Python 3",
   "language": "python",
   "name": "python3"
  },
  "language_info": {
   "codemirror_mode": {
    "name": "ipython",
    "version": 3
   },
   "file_extension": ".py",
   "mimetype": "text/x-python",
   "name": "python",
   "nbconvert_exporter": "python",
   "pygments_lexer": "ipython3",
   "version": "3.6.13"
  },
  "toc": {
   "base_numbering": "3",
   "nav_menu": {},
   "number_sections": true,
   "sideBar": true,
   "skip_h1_title": true,
   "title_cell": "Tabla de Contenidos",
   "title_sidebar": "Contenidos",
   "toc_cell": true,
   "toc_position": {
    "height": "calc(100% - 180px)",
    "left": "10px",
    "top": "150px",
    "width": "165px"
   },
   "toc_section_display": true,
   "toc_window_display": false
  }
 },
 "nbformat": 4,
 "nbformat_minor": 5
}
